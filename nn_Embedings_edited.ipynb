{
  "nbformat": 4,
  "nbformat_minor": 0,
  "metadata": {
    "colab": {
      "name": "nn_Embedings_edited.ipynb",
      "version": "0.3.2",
      "provenance": [],
      "collapsed_sections": [],
      "include_colab_link": true
    },
    "kernelspec": {
      "name": "python3",
      "display_name": "Python 3"
    },
    "accelerator": "GPU"
  },
  "cells": [
    {
      "cell_type": "markdown",
      "metadata": {
        "id": "view-in-github",
        "colab_type": "text"
      },
      "source": [
        "<a href=\"https://colab.research.google.com/github/gazon1/Recco-challenge/blob/master/nn_Embedings_edited.ipynb\" target=\"_parent\"><img src=\"https://colab.research.google.com/assets/colab-badge.svg\" alt=\"Open In Colab\"/></a>"
      ]
    },
    {
      "cell_type": "code",
      "metadata": {
        "id": "q1Vm0LXhji0h",
        "colab_type": "code",
        "outputId": "0e2f4242-6ce6-493b-c7f9-4708b5a82854",
        "colab": {
          "base_uri": "https://localhost:8080/",
          "height": 680
        }
      },
      "source": [
        "import os\n",
        "import json\n",
        "import pandas as pd\n",
        "import numpy as np\n",
        "\n",
        "\n",
        "import tqdm\n",
        "import scipy.sparse as sp\n",
        "from sklearn.metrics import average_precision_score as score\n",
        "import time\n",
        "from matplotlib import pyplot as plt\n",
        "\n",
        "from sklearn import preprocessing\n",
        "from itertools import chain\n",
        "\n",
        "from keras.models import model_from_json\n",
        "import keras\n",
        "from keras.preprocessing.sequence import pad_sequences\n",
        "from keras.layers import Input, Embedding, SpatialDropout1D, Dropout, BatchNormalization, Dense,LSTM, CuDNNGRU\n",
        "from keras.models import Sequential\n",
        "from keras.layers import RepeatVector\n",
        "from keras.layers import TimeDistributed\n",
        "from keras.utils import plot_model\n",
        "from keras.models import Model\n",
        "from keras import optimizers\n",
        "\n",
        "from tensorflow.python.client import device_lib\n",
        "print(device_lib.list_local_devices())\n",
        "\n",
        "from keras import backend as K\n",
        "K.tensorflow_backend._get_available_gpus()\n",
        "\n",
        "# Let's set random seed\n",
        "import tensorflow as tf\n",
        "tf.set_random_seed(42)\n",
        "np.random.seed(42)\n",
        "\n",
        "from sklearn.preprocessing import LabelEncoder, MultiLabelBinarizer, StandardScaler\n",
        "  \n",
        "  \n",
        "\n",
        "import itertools\n",
        "from pprint import pprint\n",
        "\n",
        "DATA_PATH = ''\n",
        "%matplotlib inline\n",
        "\n",
        "# For Google Colab only:\n",
        "import sys\n",
        "sys.path.append('/content/gdrive/My Drive/okko competition')\n",
        "#from reco_utils.recommender.sar.sar_singlenode import SARSingleNode\n",
        "from google.colab import drive\n",
        "drive.mount('/content/gdrive')\n",
        "\n",
        "DATA_PATH = 'gdrive/My Drive/Colab Notebooks/'\n",
        "CODE_PATH = 'gdrive/My Drive/okko competition/code'"
      ],
      "execution_count": 0,
      "outputs": [
        {
          "output_type": "stream",
          "text": [
            "Using TensorFlow backend.\n"
          ],
          "name": "stderr"
        },
        {
          "output_type": "stream",
          "text": [
            "[name: \"/device:CPU:0\"\n",
            "device_type: \"CPU\"\n",
            "memory_limit: 268435456\n",
            "locality {\n",
            "}\n",
            "incarnation: 18298470202223723924\n",
            ", name: \"/device:XLA_CPU:0\"\n",
            "device_type: \"XLA_CPU\"\n",
            "memory_limit: 17179869184\n",
            "locality {\n",
            "}\n",
            "incarnation: 5217527777567535036\n",
            "physical_device_desc: \"device: XLA_CPU device\"\n",
            ", name: \"/device:XLA_GPU:0\"\n",
            "device_type: \"XLA_GPU\"\n",
            "memory_limit: 17179869184\n",
            "locality {\n",
            "}\n",
            "incarnation: 735202548726662114\n",
            "physical_device_desc: \"device: XLA_GPU device\"\n",
            ", name: \"/device:GPU:0\"\n",
            "device_type: \"GPU\"\n",
            "memory_limit: 11276946637\n",
            "locality {\n",
            "  bus_id: 1\n",
            "  links {\n",
            "  }\n",
            "}\n",
            "incarnation: 11105817994785811174\n",
            "physical_device_desc: \"device: 0, name: Tesla K80, pci bus id: 0000:00:04.0, compute capability: 3.7\"\n",
            "]\n",
            "Go to this URL in a browser: https://accounts.google.com/o/oauth2/auth?client_id=947318989803-6bn6qk8qdgf4n4g3pfee6491hc0brc4i.apps.googleusercontent.com&redirect_uri=urn%3Aietf%3Awg%3Aoauth%3A2.0%3Aoob&scope=email%20https%3A%2F%2Fwww.googleapis.com%2Fauth%2Fdocs.test%20https%3A%2F%2Fwww.googleapis.com%2Fauth%2Fdrive%20https%3A%2F%2Fwww.googleapis.com%2Fauth%2Fdrive.photos.readonly%20https%3A%2F%2Fwww.googleapis.com%2Fauth%2Fpeopleapi.readonly&response_type=code\n",
            "\n",
            "Enter your authorization code:\n",
            "··········\n",
            "Mounted at /content/gdrive\n"
          ],
          "name": "stdout"
        }
      ]
    },
    {
      "cell_type": "code",
      "metadata": {
        "id": "ga38nw2co3Io",
        "colab_type": "code",
        "outputId": "9cdab5b7-72d6-453a-8a5a-5999f5d2b15a",
        "colab": {
          "base_uri": "https://localhost:8080/",
          "height": 69
        }
      },
      "source": [
        "from keras.datasets import imdb\n",
        "max_features = 10000\n",
        "maxlen=20\n",
        "\n",
        "(x_train, y_train), (x_test, y_test) = imdb.load_data(\n",
        "num_words=max_features)\n",
        "print(x_train.shape)\n",
        "print(len(x_train[0]))\n",
        "print(x_train[0][-20:])\n",
        "\n",
        "x_train = keras.preprocessing.sequence.pad_sequences(x_train, maxlen=maxlen)"
      ],
      "execution_count": 0,
      "outputs": [
        {
          "output_type": "stream",
          "text": [
            "(25000,)\n",
            "218\n",
            "[65, 16, 38, 1334, 88, 12, 16, 283, 5, 16, 4472, 113, 103, 32, 15, 16, 5345, 19, 178, 32]\n"
          ],
          "name": "stdout"
        }
      ]
    },
    {
      "cell_type": "code",
      "metadata": {
        "id": "oVNzsINApCNv",
        "colab_type": "code",
        "outputId": "7ba0d9de-5698-41cf-85ab-af9ba943d13a",
        "colab": {
          "base_uri": "https://localhost:8080/",
          "height": 52
        }
      },
      "source": [
        "x_train[0]"
      ],
      "execution_count": 0,
      "outputs": [
        {
          "output_type": "execute_result",
          "data": {
            "text/plain": [
              "array([  65,   16,   38, 1334,   88,   12,   16,  283,    5,   16, 4472,\n",
              "        113,  103,   32,   15,   16, 5345,   19,  178,   32], dtype=int32)"
            ]
          },
          "metadata": {
            "tags": []
          },
          "execution_count": 22
        }
      ]
    },
    {
      "cell_type": "code",
      "metadata": {
        "id": "Vhwn9vqOo9II",
        "colab_type": "code",
        "colab": {}
      },
      "source": [
        ""
      ],
      "execution_count": 0,
      "outputs": []
    },
    {
      "cell_type": "markdown",
      "metadata": {
        "id": "BcANm30wrSWw",
        "colab_type": "text"
      },
      "source": [
        "Фичи для фильма"
      ]
    },
    {
      "cell_type": "code",
      "metadata": {
        "id": "ZZMvp3-krRBy",
        "colab_type": "code",
        "colab": {}
      },
      "source": [
        "with open(os.path.join(DATA_PATH, 'catalogue.json'), 'r') as f:\n",
        "    catalogue = json.load(f)\n",
        "    \n",
        "catalogue = {int(k): v for k, v in catalogue.items()}\n",
        "catalogue = pd.DataFrame.from_dict(catalogue,'index').reset_index()\n",
        "# av_hot - нужно для валидации. Эта колонка равна 1, если фильм или сериал может быть потребленным\n",
        "catalogue['av_hot'] = catalogue['availability'].apply(lambda x: 1 if x == [] or 'subscription' in x else 0)\n",
        "catalogue = catalogue.rename(index=str, columns={'index':'element_uid'})"
      ],
      "execution_count": 0,
      "outputs": []
    },
    {
      "cell_type": "code",
      "metadata": {
        "id": "p_uLvIc-rRGG",
        "colab_type": "code",
        "colab": {}
      },
      "source": [
        "catalogue = catalogue[['element_uid','duration','feature_1','feature_2','feature_3','feature_4','feature_5','av_hot']]\n",
        "scaler = StandardScaler()\n",
        "X_cat = catalogue.values[:,1:]\n",
        "X_cat = scaler.fit_transform(X_cat)\n",
        "X_cat = X_cat[:, np.newaxis].reshape(-1,7,1)"
      ],
      "execution_count": 0,
      "outputs": []
    },
    {
      "cell_type": "code",
      "metadata": {
        "id": "WwCLMc7krRDv",
        "colab_type": "code",
        "outputId": "816b77e0-84b5-401d-d5dd-fdbfdfbfbace",
        "colab": {
          "base_uri": "https://localhost:8080/",
          "height": 35
        }
      },
      "source": [
        "X.shape"
      ],
      "execution_count": 0,
      "outputs": [
        {
          "output_type": "execute_result",
          "data": {
            "text/plain": [
              "(10200, 7, 1)"
            ]
          },
          "metadata": {
            "tags": []
          },
          "execution_count": 93
        }
      ]
    },
    {
      "cell_type": "markdown",
      "metadata": {
        "id": "REb3JvxTyBmO",
        "colab_type": "text"
      },
      "source": [
        "LSTM AE для построения  embedding'a"
      ]
    },
    {
      "cell_type": "code",
      "metadata": {
        "id": "EviqZNXbyMrW",
        "colab_type": "code",
        "colab": {}
      },
      "source": [
        "#sequence = np.copy(movie_all_features)\n",
        "n_in = 7\n",
        "#sequence = .reshape((-1, n_in, 1))\n",
        "\n",
        "# define model\n",
        "model = Sequential()\n",
        "model.add(LSTM(20, activation='relu', input_shape=(n_in,1)))\n",
        "model.add(RepeatVector(n_in))\n",
        "model.add(LSTM(20, activation='relu', return_sequences=True))\n",
        "model.add(TimeDistributed(Dense(1)))\n",
        "model.compile(optimizer='adam', loss='mse')"
      ],
      "execution_count": 0,
      "outputs": []
    },
    {
      "cell_type": "code",
      "metadata": {
        "id": "8uZsp14hzMiF",
        "colab_type": "code",
        "outputId": "fa90e503-dfae-47ed-cb5a-3ebcc67a567c",
        "colab": {
          "base_uri": "https://localhost:8080/",
          "height": 395
        }
      },
      "source": [
        "# ~ 20 epoch хватит для mse = 20\n",
        "model.fit(X_cat, X_cat, epochs=5,verbose=1, shuffle=True)"
      ],
      "execution_count": 0,
      "outputs": [
        {
          "output_type": "stream",
          "text": [
            "Epoch 1/10\n",
            "10200/10200 [==============================] - 12s 1ms/step - loss: 0.8530\n",
            "Epoch 2/10\n",
            "10200/10200 [==============================] - 11s 1ms/step - loss: 0.7618\n",
            "Epoch 3/10\n",
            "10200/10200 [==============================] - 11s 1ms/step - loss: 0.6754\n",
            "Epoch 4/10\n",
            "10200/10200 [==============================] - 11s 1ms/step - loss: 0.6014\n",
            "Epoch 5/10\n",
            "10200/10200 [==============================] - 11s 1ms/step - loss: 0.5022\n",
            "Epoch 6/10\n",
            "10200/10200 [==============================] - 11s 1ms/step - loss: 0.4031\n",
            "Epoch 7/10\n",
            "10200/10200 [==============================] - 11s 1ms/step - loss: 0.3396\n",
            "Epoch 8/10\n",
            "10200/10200 [==============================] - 11s 1ms/step - loss: 0.2817\n",
            "Epoch 9/10\n",
            "10200/10200 [==============================] - 11s 1ms/step - loss: 0.2089\n",
            "Epoch 10/10\n",
            "10200/10200 [==============================] - 11s 1ms/step - loss: 0.1707\n"
          ],
          "name": "stdout"
        },
        {
          "output_type": "execute_result",
          "data": {
            "text/plain": [
              "<keras.callbacks.History at 0x7fb0c9401ba8>"
            ]
          },
          "metadata": {
            "tags": []
          },
          "execution_count": 7
        }
      ]
    },
    {
      "cell_type": "markdown",
      "metadata": {
        "id": "MOAZUZEG5nDQ",
        "colab_type": "text"
      },
      "source": [
        "Выделяем из LSTM AE только энкодер, который будет выдавать в ответ на фичи фильма вектор-ембеддинг"
      ]
    },
    {
      "cell_type": "code",
      "metadata": {
        "id": "gAZI7qPr21XP",
        "colab_type": "code",
        "outputId": "bad34899-7a96-48b0-d976-07f65e84e412",
        "colab": {
          "base_uri": "https://localhost:8080/",
          "height": 107
        }
      },
      "source": [
        "encoder = Model(inputs=model.inputs, outputs=model.layers[0].output)\n",
        "plot_model(encoder, show_shapes=True, to_file='lstm_encoder.png')\n",
        "# get the feature vector for the input sequence\n",
        "yhat = encoder.predict(X_cat[np.newaxis, 0])\n",
        "print(yhat.shape)\n",
        "print(yhat)"
      ],
      "execution_count": 0,
      "outputs": [
        {
          "output_type": "stream",
          "text": [
            "(1, 20)\n",
            "[[1.241389   0.0979873  0.5464926  0.00902695 0.23990184 0.16649489\n",
            "  0.64022106 0.34092176 1.7395786  1.2301583  0.03461496 2.1898713\n",
            "  0.69029355 5.567245   1.9777299  0.12397002 0.54865247 0.4374257\n",
            "  0.00821178 0.68293196]]\n"
          ],
          "name": "stdout"
        }
      ]
    },
    {
      "cell_type": "markdown",
      "metadata": {
        "id": "wi7P7LqI9LHu",
        "colab_type": "text"
      },
      "source": [
        "Друие фичи для фильмов"
      ]
    },
    {
      "cell_type": "code",
      "metadata": {
        "id": "_Yi9RUYaKZ6E",
        "colab_type": "code",
        "colab": {}
      },
      "source": [
        "import gc\n",
        "from tqdm import tqdm\n",
        "tqdm.pandas()\n",
        "def get_sequences():\n",
        "    import gc\n",
        "    import tqdm\n",
        "\n",
        "    #Hyperparametrs:\n",
        "    WATCHED_TIME = 600 # выкидываем передачи, просмотренные меньше WATCHED_TIME. ЧТобы ничего не выкидывать - ставим 0\n",
        "    MIN_RATING = 3 # ниже этого рейтинга все выкидываем`\n",
        "\n",
        "    with open(os.path.join(DATA_PATH, 'catalogue.json'), 'r') as f:\n",
        "        catalogue = json.load(f)\n",
        "\n",
        "    catalogue = {int(k): v for k, v in catalogue.items()}\n",
        "    catalogue = pd.DataFrame.from_dict(catalogue,'index').reset_index()\n",
        "    # av_hot - нужно для валидации. Эта колонка равна 1, если фильм или сериал может быть потребленным\n",
        "    catalogue['av_hot'] = catalogue['availability'].apply(lambda x: 1 if x == [] or 'subscription' in x else 0)\n",
        "    catalogue = catalogue.rename(index=str, columns={'index':'element_uid'})\n",
        "\n",
        "\n",
        "\n",
        "    transactions = pd.read_csv(\n",
        "        os.path.join(DATA_PATH, 'transactions.csv'),\n",
        "        dtype={\n",
        "            'element_uid': np.uint16,\n",
        "            'user_uid': np.uint32,\n",
        "            'consumption_mode': 'category',\n",
        "            'ts': np.float64,\n",
        "            'watched_time': np.uint64,\n",
        "            'device_type': np.uint8,\n",
        "            'device_manufacturer': np.uint8\n",
        "        }\n",
        "    )\n",
        "\n",
        "    ratings = pd.read_csv(\n",
        "        os.path.join(DATA_PATH, 'ratings.csv'),\n",
        "        dtype={\n",
        "            'element_uid': np.uint16,\n",
        "            'user_uid': np.uint32,\n",
        "            'ts': np.float64,\n",
        "            'rating': np.uint8\n",
        "        }\n",
        "    )\n",
        "\n",
        "    bookmarks = pd.read_csv(\n",
        "        os.path.join(DATA_PATH, 'bookmarks.csv'),\n",
        "        dtype={\n",
        "            'element_uid': np.uint16,\n",
        "            'user_uid': np.uint32,\n",
        "            'ts': np.float64\n",
        "        }\n",
        "    )\n",
        "\n",
        "    bookmarks['rating'] = 1\n",
        "    _bookmarks = bookmarks[['rating', 'user_uid', 'element_uid','ts']]\n",
        "\n",
        "    _ratings = ratings[ratings['rating']>5]\n",
        "    _ratings['rating'] = 1\n",
        "\n",
        "    _transaction = transactions[['element_uid', 'user_uid','ts','watched_time']]\n",
        "    _transaction = _transaction[(_transaction['watched_time']>700)]\n",
        "    _transaction['rating'] = 1\n",
        "\n",
        "    all_ratings = pd.concat([ _transaction[['user_uid', 'element_uid', 'rating', 'ts']],_bookmarks[['user_uid', 'element_uid', 'rating', 'ts']]])\n",
        "    all_ratings = pd.concat([all_ratings, _ratings[['user_uid', 'element_uid', 'rating','ts']]])\n",
        "    all_ratings = all_ratings.drop_duplicates(['user_uid','element_uid'],keep='first')\n",
        "    all_ratings = all_ratings.sort_values(by=['ts'])\n",
        "    all_ratings= all_ratings.rename(index=str,columns={'element_uid':'itemID','user_uid':'userID','ts':'timestamp'})\n",
        "\n",
        "\n",
        "\n",
        "    all_ratings.itemID = all_ratings.itemID.astype('category')\n",
        "    all_ratings['categ_id'] = all_ratings.itemID.cat.codes + 1\n",
        "    cat_to_element_uid = dict(zip(\n",
        "        range(1, len(all_ratings.itemID.cat.categories) + 1),\n",
        "        all_ratings.itemID.cat.categories\n",
        "    ))\n",
        "\n",
        "\n",
        "    try:\n",
        "      del bookmarks, ratings, catalogue, transactions, _transactions, _ratings\n",
        "    except NameError:\n",
        "      pass\n",
        "    gc.collect()\n",
        "\n",
        "\n",
        "    tqdm.tqdm.pandas()\n",
        "    sequences = all_ratings.groupby('userID')['categ_id'].progress_apply(list)\n",
        "\n",
        "    max_features = all_ratings.categ_id.unique().size + 1\n",
        "\n",
        "    del all_ratings\n",
        "    gc.collect()\n",
        "\n",
        "    sequences2use = sequences[sequences.apply(len) >= 5]\n",
        "\n",
        "    maxlen = 18 # Length of sequences in X\n",
        "    X = []\n",
        "    y = []\n",
        "\n",
        "    def slice_sequence(seq, num_slices):\n",
        "        for i in range(1, num_slices):\n",
        "            X.append(seq[-(i+maxlen): -i])\n",
        "            y.append(seq[-i])\n",
        "\n",
        "    for seq in tqdm.tqdm(sequences2use):\n",
        "        if len(seq) <= 5:\n",
        "            slice_sequence(seq, 2)\n",
        "        elif len(seq) <= 6:\n",
        "            slice_sequence(seq, 3)\n",
        "        elif len(seq) <= 8:\n",
        "            slice_sequence(seq, 4)\n",
        "        elif len(seq) <= 12:\n",
        "            slice_sequence(seq, 6)\n",
        "        elif len(seq) <= 16:\n",
        "            slice_sequence(seq, 8)\n",
        "        elif len(seq) <= 20:\n",
        "            slice_sequence(seq, 11)\n",
        "        elif len(seq) <= 26:\n",
        "            slice_sequence(seq, 16)\n",
        "        else:\n",
        "            slice_sequence(seq, 23)\n",
        "\n",
        "    X = pad_sequences(X, maxlen=maxlen)\n",
        "    y = np.array(y)\n",
        "\n",
        "    \n",
        "    le = preprocessing.LabelEncoder()\n",
        "\n",
        "    _X = np.ravel(X)\n",
        "    all_movies = list(set(y).union(set(_X)))\n",
        "    le.fit(all_movies)\n",
        "\n",
        "    #теперь в _y будут числа от 0 до кол-во фильмов (max_features)\n",
        "    _y = le.transform(y)\n",
        "\n",
        "    _X = le.transform(_X)\n",
        "    _X = _X.reshape((-1,18))\n",
        "    \n",
        "    \n",
        "    return _X, _y, cat_to_element_uid"
      ],
      "execution_count": 0,
      "outputs": []
    },
    {
      "cell_type": "code",
      "metadata": {
        "id": "oTebmuDu8mHQ",
        "colab_type": "code",
        "outputId": "3bcc1404-c0eb-40f3-9453-11de7e97642a",
        "colab": {
          "base_uri": "https://localhost:8080/",
          "height": 8477
        }
      },
      "source": [
        "%%time\n",
        "sequences = get_sequences()"
      ],
      "execution_count": 0,
      "outputs": [
        {
          "output_type": "stream",
          "text": [
            "/usr/local/lib/python3.6/dist-packages/ipykernel_launcher.py:59: SettingWithCopyWarning: \n",
            "A value is trying to be set on a copy of a slice from a DataFrame.\n",
            "Try using .loc[row_indexer,col_indexer] = value instead\n",
            "\n",
            "See the caveats in the documentation: http://pandas.pydata.org/pandas-docs/stable/indexing.html#indexing-view-versus-copy\n",
            "\n",
            "  0%|          | 0/496046 [00:00<?, ?it/s]\u001b[A\n",
            "  0%|          | 1/496046 [00:02<315:00:52,  2.29s/it]\u001b[A\n",
            "  0%|          | 1050/496046 [00:02<220:02:52,  1.60s/it]\u001b[A\n",
            "  0%|          | 2224/496046 [00:02<153:40:18,  1.12s/it]\u001b[A\n",
            "  1%|          | 3401/496046 [00:02<107:19:02,  1.28it/s]\u001b[A\n",
            "  1%|          | 4609/496046 [00:02<74:56:28,  1.82it/s] \u001b[A\n",
            "  1%|          | 5656/496046 [00:02<52:21:03,  2.60it/s]\u001b[A\n",
            "  1%|▏         | 6821/496046 [00:02<36:33:43,  3.72it/s]\u001b[A\n",
            "  2%|▏         | 7935/496046 [00:02<25:32:20,  5.31it/s]\u001b[A\n",
            "  2%|▏         | 9127/496046 [00:03<17:50:13,  7.58it/s]\u001b[A\n",
            "  2%|▏         | 10333/496046 [00:03<12:27:29, 10.83it/s]\u001b[A\n",
            "  2%|▏         | 11545/496046 [00:03<8:42:08, 15.47it/s] \u001b[A\n",
            "  3%|▎         | 12725/496046 [00:03<6:04:48, 22.08it/s]\u001b[A\n",
            "  3%|▎         | 13922/496046 [00:03<4:14:56, 31.52it/s]\u001b[A\n",
            "  3%|▎         | 15123/496046 [00:03<2:58:12, 44.98it/s]\u001b[A\n",
            "  3%|▎         | 16302/496046 [00:03<2:04:39, 64.14it/s]\u001b[A\n",
            "  4%|▎         | 17474/496046 [00:03<1:27:16, 91.40it/s]\u001b[A\n",
            "  4%|▍         | 18664/496046 [00:03<1:01:08, 130.14it/s]\u001b[A\n",
            "  4%|▍         | 19860/496046 [00:04<42:53, 185.05it/s]  \u001b[A\n",
            "  4%|▍         | 21085/496046 [00:04<30:08, 262.66it/s]\u001b[A\n",
            "  4%|▍         | 22282/496046 [00:04<21:14, 371.73it/s]\u001b[A\n",
            "  5%|▍         | 23470/496046 [00:04<15:01, 524.00it/s]\u001b[A\n",
            "  5%|▍         | 24658/496046 [00:04<10:42, 734.19it/s]\u001b[A\n",
            "  5%|▌         | 25849/496046 [00:04<07:40, 1021.84it/s]\u001b[A\n",
            "  5%|▌         | 27037/496046 [00:04<05:33, 1407.85it/s]\u001b[A\n",
            "  6%|▌         | 28233/496046 [00:04<04:04, 1914.57it/s]\u001b[A\n",
            "  6%|▌         | 29419/496046 [00:04<03:03, 2544.98it/s]\u001b[A\n",
            "  6%|▌         | 30579/496046 [00:04<02:20, 3320.47it/s]\u001b[A\n",
            "  6%|▋         | 31738/496046 [00:05<01:49, 4224.70it/s]\u001b[A\n",
            "  7%|▋         | 32912/496046 [00:05<01:28, 5228.73it/s]\u001b[A\n",
            "  7%|▋         | 34116/496046 [00:05<01:13, 6297.02it/s]\u001b[A\n",
            "  7%|▋         | 35298/496046 [00:05<01:02, 7322.70it/s]\u001b[A\n",
            "  7%|▋         | 36498/496046 [00:05<00:55, 8291.91it/s]\u001b[A\n",
            "  8%|▊         | 37700/496046 [00:05<00:50, 9141.98it/s]\u001b[A\n",
            "  8%|▊         | 38897/496046 [00:05<00:46, 9839.31it/s]\u001b[A\n",
            "  8%|▊         | 40089/496046 [00:05<00:44, 10324.57it/s]\u001b[A\n",
            "  8%|▊         | 41273/496046 [00:05<00:42, 10683.17it/s]\u001b[A\n",
            "  9%|▊         | 42451/496046 [00:05<00:42, 10562.90it/s]\u001b[A\n",
            "  9%|▉         | 43630/496046 [00:06<00:41, 10902.98it/s]\u001b[A\n",
            "  9%|▉         | 44826/496046 [00:06<00:40, 11196.85it/s]\u001b[A\n",
            "  9%|▉         | 46014/496046 [00:06<00:39, 11391.41it/s]\u001b[A\n",
            " 10%|▉         | 47201/496046 [00:06<00:38, 11529.72it/s]\u001b[A\n",
            " 10%|▉         | 48376/496046 [00:06<00:38, 11573.43it/s]\u001b[A\n",
            " 10%|▉         | 49549/496046 [00:06<00:38, 11587.25it/s]\u001b[A\n",
            " 10%|█         | 50757/496046 [00:06<00:37, 11730.45it/s]\u001b[A\n",
            " 10%|█         | 51945/496046 [00:06<00:37, 11773.25it/s]\u001b[A\n",
            " 11%|█         | 53140/496046 [00:06<00:37, 11824.65it/s]\u001b[A\n",
            " 11%|█         | 54327/496046 [00:06<00:38, 11413.48it/s]\u001b[A\n",
            " 11%|█         | 55492/496046 [00:07<00:38, 11482.77it/s]\u001b[A\n",
            " 11%|█▏        | 56684/496046 [00:07<00:37, 11608.74it/s]\u001b[A\n",
            " 12%|█▏        | 57884/496046 [00:07<00:37, 11723.08it/s]\u001b[A\n",
            " 12%|█▏        | 59076/496046 [00:07<00:37, 11779.98it/s]\u001b[A\n",
            " 12%|█▏        | 60256/496046 [00:07<00:36, 11779.54it/s]\u001b[A\n",
            " 12%|█▏        | 61460/496046 [00:07<00:36, 11852.49it/s]\u001b[A\n",
            " 13%|█▎        | 62667/496046 [00:07<00:36, 11916.71it/s]\u001b[A\n",
            " 13%|█▎        | 63860/496046 [00:07<00:36, 11828.03it/s]\u001b[A\n",
            " 13%|█▎        | 65044/496046 [00:07<00:36, 11763.23it/s]\u001b[A\n",
            " 13%|█▎        | 66221/496046 [00:07<00:38, 11245.46it/s]\u001b[A\n",
            " 14%|█▎        | 67416/496046 [00:08<00:37, 11447.62it/s]\u001b[A\n",
            " 14%|█▍        | 68595/496046 [00:08<00:37, 11546.86it/s]\u001b[A\n",
            " 14%|█▍        | 69783/496046 [00:08<00:36, 11643.08it/s]\u001b[A\n",
            " 14%|█▍        | 70950/496046 [00:08<00:36, 11621.05it/s]\u001b[A\n",
            " 15%|█▍        | 72118/496046 [00:08<00:36, 11634.45it/s]\u001b[A\n",
            " 15%|█▍        | 73294/496046 [00:08<00:36, 11670.26it/s]\u001b[A\n",
            " 15%|█▌        | 74462/496046 [00:08<00:36, 11599.40it/s]\u001b[A\n",
            " 15%|█▌        | 75623/496046 [00:08<00:36, 11460.87it/s]\u001b[A\n",
            " 15%|█▌        | 76812/496046 [00:08<00:36, 11585.40it/s]\u001b[A\n",
            " 16%|█▌        | 77972/496046 [00:08<00:37, 11286.79it/s]\u001b[A\n",
            " 16%|█▌        | 79157/496046 [00:09<00:36, 11447.64it/s]\u001b[A\n",
            " 16%|█▌        | 80346/496046 [00:09<00:35, 11576.80it/s]\u001b[A\n",
            " 16%|█▋        | 81506/496046 [00:09<00:35, 11580.32it/s]\u001b[A\n",
            " 17%|█▋        | 82670/496046 [00:09<00:35, 11596.57it/s]\u001b[A\n",
            " 17%|█▋        | 83831/496046 [00:09<00:35, 11581.23it/s]\u001b[A\n",
            " 17%|█▋        | 85007/496046 [00:09<00:35, 11632.58it/s]\u001b[A\n",
            " 17%|█▋        | 86171/496046 [00:09<00:35, 11590.51it/s]\u001b[A\n",
            " 18%|█▊        | 87331/496046 [00:09<00:35, 11568.75it/s]\u001b[A\n",
            " 18%|█▊        | 88500/496046 [00:09<00:35, 11602.76it/s]\u001b[A\n",
            " 18%|█▊        | 89661/496046 [00:09<00:36, 11231.52it/s]\u001b[A\n",
            " 18%|█▊        | 90789/496046 [00:10<00:36, 11245.69it/s]\u001b[A\n",
            " 19%|█▊        | 91970/496046 [00:10<00:35, 11408.25it/s]\u001b[A\n",
            " 19%|█▉        | 93113/496046 [00:10<00:36, 11043.55it/s]\u001b[A\n",
            " 19%|█▉        | 94284/496046 [00:10<00:35, 11235.09it/s]\u001b[A\n",
            " 19%|█▉        | 95459/496046 [00:10<00:35, 11384.45it/s]\u001b[A\n",
            " 19%|█▉        | 96640/496046 [00:10<00:34, 11507.52it/s]\u001b[A\n",
            " 20%|█▉        | 97845/496046 [00:10<00:34, 11663.88it/s]\u001b[A\n",
            " 20%|█▉        | 99014/496046 [00:10<00:34, 11638.56it/s]\u001b[A\n",
            " 20%|██        | 100180/496046 [00:10<00:34, 11587.52it/s]\u001b[A\n",
            " 20%|██        | 101340/496046 [00:11<00:35, 11261.92it/s]\u001b[A\n",
            " 21%|██        | 102510/496046 [00:11<00:34, 11386.84it/s]\u001b[A\n",
            " 21%|██        | 103675/496046 [00:11<00:34, 11463.34it/s]\u001b[A\n",
            " 21%|██        | 104824/496046 [00:11<00:34, 11335.33it/s]\u001b[A\n",
            " 21%|██▏       | 105960/496046 [00:11<00:34, 11149.01it/s]\u001b[A\n",
            " 22%|██▏       | 107077/496046 [00:11<00:39, 9825.99it/s] \u001b[A\n",
            " 22%|██▏       | 108176/496046 [00:11<00:38, 10147.88it/s]\u001b[A\n",
            " 22%|██▏       | 109321/496046 [00:11<00:36, 10505.86it/s]\u001b[A\n",
            " 22%|██▏       | 110514/496046 [00:11<00:35, 10895.60it/s]\u001b[A\n",
            " 23%|██▎       | 111662/496046 [00:11<00:34, 11062.73it/s]\u001b[A\n",
            " 23%|██▎       | 112782/496046 [00:12<00:35, 10939.56it/s]\u001b[A\n",
            " 23%|██▎       | 113953/496046 [00:12<00:34, 11159.19it/s]\u001b[A\n",
            " 23%|██▎       | 115093/496046 [00:12<00:33, 11219.54it/s]\u001b[A\n",
            " 23%|██▎       | 116234/496046 [00:12<00:33, 11275.09it/s]\u001b[A\n",
            " 24%|██▎       | 117410/496046 [00:12<00:33, 11413.86it/s]\u001b[A\n",
            " 24%|██▍       | 118588/496046 [00:12<00:32, 11520.99it/s]\u001b[A\n",
            " 24%|██▍       | 119799/496046 [00:12<00:32, 11690.27it/s]\u001b[A\n",
            " 24%|██▍       | 120995/496046 [00:12<00:31, 11767.29it/s]\u001b[A\n",
            " 25%|██▍       | 122236/496046 [00:12<00:31, 11950.75it/s]\u001b[A\n",
            " 25%|██▍       | 123433/496046 [00:12<00:31, 11731.32it/s]\u001b[A\n",
            " 25%|██▌       | 124609/496046 [00:13<00:32, 11292.82it/s]\u001b[A\n",
            " 25%|██▌       | 125784/496046 [00:13<00:32, 11424.16it/s]\u001b[A\n",
            " 26%|██▌       | 126934/496046 [00:13<00:32, 11446.53it/s]\u001b[A\n",
            " 26%|██▌       | 128093/496046 [00:13<00:32, 11487.38it/s]\u001b[A\n",
            " 26%|██▌       | 129244/496046 [00:13<00:31, 11476.09it/s]\u001b[A\n",
            " 26%|██▋       | 130418/496046 [00:13<00:31, 11552.92it/s]\u001b[A\n",
            " 27%|██▋       | 131594/496046 [00:13<00:31, 11612.41it/s]\u001b[A\n",
            " 27%|██▋       | 132762/496046 [00:13<00:31, 11631.80it/s]\u001b[A\n",
            " 27%|██▋       | 133942/496046 [00:13<00:30, 11681.71it/s]\u001b[A\n",
            " 27%|██▋       | 135111/496046 [00:14<00:31, 11391.64it/s]\u001b[A\n",
            " 27%|██▋       | 136253/496046 [00:14<00:32, 10954.05it/s]\u001b[A\n",
            " 28%|██▊       | 137433/496046 [00:14<00:32, 11194.71it/s]\u001b[A\n",
            " 28%|██▊       | 138580/496046 [00:14<00:31, 11273.72it/s]\u001b[A\n",
            " 28%|██▊       | 139754/496046 [00:14<00:31, 11408.61it/s]\u001b[A\n",
            " 28%|██▊       | 140898/496046 [00:14<00:31, 11374.39it/s]\u001b[A\n",
            " 29%|██▊       | 142050/496046 [00:14<00:31, 11417.60it/s]\u001b[A\n",
            " 29%|██▉       | 143194/496046 [00:14<00:30, 11391.98it/s]\u001b[A\n",
            " 29%|██▉       | 144367/496046 [00:14<00:30, 11488.91it/s]\u001b[A\n",
            " 29%|██▉       | 145533/496046 [00:14<00:30, 11538.22it/s]\u001b[A\n",
            " 30%|██▉       | 146691/496046 [00:15<00:30, 11548.90it/s]\u001b[A\n",
            " 30%|██▉       | 147847/496046 [00:15<00:31, 11222.90it/s]\u001b[A\n",
            " 30%|███       | 148972/496046 [00:15<00:53, 6433.74it/s] \u001b[A\n",
            " 30%|███       | 150125/496046 [00:15<00:46, 7416.94it/s]\u001b[A\n",
            " 30%|███       | 151222/496046 [00:15<00:41, 8214.58it/s]\u001b[A\n",
            " 31%|███       | 152405/496046 [00:15<00:38, 9042.87it/s]\u001b[A\n",
            " 31%|███       | 153582/496046 [00:15<00:35, 9717.37it/s]\u001b[A\n",
            " 31%|███       | 154715/496046 [00:15<00:33, 10148.95it/s]\u001b[A\n",
            " 31%|███▏      | 155899/496046 [00:16<00:32, 10601.76it/s]\u001b[A\n",
            " 32%|███▏      | 157028/496046 [00:16<00:32, 10515.50it/s]\u001b[A\n",
            " 32%|███▏      | 158178/496046 [00:16<00:31, 10791.46it/s]\u001b[A\n",
            " 32%|███▏      | 159340/496046 [00:16<00:30, 11025.79it/s]\u001b[A\n",
            " 32%|███▏      | 160504/496046 [00:16<00:29, 11200.62it/s]\u001b[A\n",
            " 33%|███▎      | 161665/496046 [00:16<00:29, 11318.68it/s]\u001b[A\n",
            " 33%|███▎      | 162856/496046 [00:16<00:29, 11488.24it/s]\u001b[A\n",
            " 33%|███▎      | 164039/496046 [00:16<00:28, 11588.22it/s]\u001b[A\n",
            " 33%|███▎      | 165233/496046 [00:16<00:28, 11689.79it/s]\u001b[A\n",
            " 34%|███▎      | 166408/496046 [00:16<00:28, 11587.38it/s]\u001b[A\n",
            " 34%|███▍      | 167591/496046 [00:17<00:28, 11658.01it/s]\u001b[A\n",
            " 34%|███▍      | 168760/496046 [00:17<00:28, 11348.60it/s]\u001b[A\n",
            " 34%|███▍      | 169945/496046 [00:17<00:28, 11493.19it/s]\u001b[A\n",
            " 34%|███▍      | 171124/496046 [00:17<00:28, 11580.48it/s]\u001b[A\n",
            " 35%|███▍      | 172285/496046 [00:17<00:28, 11482.17it/s]\u001b[A\n",
            " 35%|███▍      | 173477/496046 [00:17<00:27, 11609.38it/s]\u001b[A\n",
            " 35%|███▌      | 174640/496046 [00:17<00:27, 11583.06it/s]\u001b[A\n",
            " 35%|███▌      | 175830/496046 [00:17<00:27, 11674.59it/s]\u001b[A\n",
            " 36%|███▌      | 176999/496046 [00:17<00:27, 11553.56it/s]\u001b[A\n",
            " 36%|███▌      | 178156/496046 [00:18<00:27, 11522.46it/s]\u001b[A\n",
            " 36%|███▌      | 179309/496046 [00:18<00:27, 11524.45it/s]\u001b[A\n",
            " 36%|███▋      | 180462/496046 [00:18<00:28, 11234.44it/s]\u001b[A\n",
            " 37%|███▋      | 181636/496046 [00:18<00:27, 11380.57it/s]\u001b[A\n",
            " 37%|███▋      | 182776/496046 [00:18<00:27, 11344.49it/s]\u001b[A\n",
            " 37%|███▋      | 183951/496046 [00:18<00:27, 11461.42it/s]\u001b[A\n",
            " 37%|███▋      | 185144/496046 [00:18<00:26, 11597.90it/s]\u001b[A\n",
            " 38%|███▊      | 186352/496046 [00:18<00:26, 11736.57it/s]\u001b[A\n",
            " 38%|███▊      | 187529/496046 [00:18<00:26, 11746.54it/s]\u001b[A\n",
            " 38%|███▊      | 188705/496046 [00:18<00:26, 11656.21it/s]\u001b[A\n",
            " 38%|███▊      | 189879/496046 [00:19<00:26, 11681.15it/s]\u001b[A\n",
            " 39%|███▊      | 191048/496046 [00:19<00:26, 11486.40it/s]\u001b[A\n",
            " 39%|███▊      | 192198/496046 [00:19<00:26, 11263.34it/s]\u001b[A\n",
            " 39%|███▉      | 193360/496046 [00:19<00:26, 11364.12it/s]\u001b[A\n",
            " 39%|███▉      | 194521/496046 [00:19<00:26, 11434.16it/s]\u001b[A\n",
            " 39%|███▉      | 195710/496046 [00:19<00:25, 11565.19it/s]\u001b[A\n",
            " 40%|███▉      | 196919/496046 [00:19<00:25, 11716.61it/s]\u001b[A\n",
            " 40%|███▉      | 198131/496046 [00:19<00:25, 11833.66it/s]\u001b[A\n",
            " 40%|████      | 199324/496046 [00:19<00:25, 11860.27it/s]\u001b[A\n",
            " 40%|████      | 200522/496046 [00:19<00:24, 11895.50it/s]\u001b[A\n",
            " 41%|████      | 201713/496046 [00:20<00:24, 11855.22it/s]\u001b[A\n",
            " 41%|████      | 202899/496046 [00:20<00:24, 11818.20it/s]\u001b[A\n",
            " 41%|████      | 204082/496046 [00:20<00:25, 11478.76it/s]\u001b[A\n",
            " 41%|████▏     | 205266/496046 [00:20<00:25, 11583.80it/s]\u001b[A\n",
            " 42%|████▏     | 206482/496046 [00:20<00:24, 11749.98it/s]\u001b[A\n",
            " 42%|████▏     | 207659/496046 [00:20<00:24, 11696.36it/s]\u001b[A\n",
            " 42%|████▏     | 208854/496046 [00:20<00:24, 11769.97it/s]\u001b[A\n",
            " 42%|████▏     | 210035/496046 [00:20<00:24, 11780.85it/s]\u001b[A\n",
            " 43%|████▎     | 211234/496046 [00:20<00:24, 11841.54it/s]\u001b[A\n",
            " 43%|████▎     | 212460/496046 [00:20<00:23, 11960.53it/s]\u001b[A\n",
            " 43%|████▎     | 213657/496046 [00:21<00:23, 11891.70it/s]\u001b[A\n",
            " 43%|████▎     | 214847/496046 [00:21<00:23, 11829.22it/s]\u001b[A\n",
            " 44%|████▎     | 216031/496046 [00:21<00:24, 11331.96it/s]\u001b[A\n",
            " 44%|████▍     | 217215/496046 [00:21<00:24, 11479.68it/s]\u001b[A\n",
            " 44%|████▍     | 218395/496046 [00:21<00:23, 11573.66it/s]\u001b[A\n",
            " 44%|████▍     | 219556/496046 [00:21<00:23, 11581.51it/s]\u001b[A\n",
            " 45%|████▍     | 220755/496046 [00:21<00:23, 11700.73it/s]\u001b[A\n",
            " 45%|████▍     | 221945/496046 [00:21<00:23, 11759.63it/s]\u001b[A\n",
            " 45%|████▍     | 223123/496046 [00:21<00:23, 11753.84it/s]\u001b[A\n",
            " 45%|████▌     | 224308/496046 [00:21<00:23, 11779.52it/s]\u001b[A\n",
            " 45%|████▌     | 225487/496046 [00:22<00:23, 11728.77it/s]\u001b[A\n",
            " 46%|████▌     | 226661/496046 [00:22<00:23, 11701.94it/s]\u001b[A\n",
            " 46%|████▌     | 227832/496046 [00:22<00:23, 11432.82it/s]\u001b[A\n",
            " 46%|████▌     | 228995/496046 [00:22<00:23, 11491.15it/s]\u001b[A\n",
            " 46%|████▋     | 230201/496046 [00:22<00:22, 11651.31it/s]\u001b[A\n",
            " 47%|████▋     | 231368/496046 [00:22<00:22, 11533.76it/s]\u001b[A\n",
            " 47%|████▋     | 232548/496046 [00:22<00:22, 11611.28it/s]\u001b[A\n",
            " 47%|████▋     | 233716/496046 [00:22<00:22, 11629.36it/s]\u001b[A\n",
            " 47%|████▋     | 234880/496046 [00:22<00:22, 11586.70it/s]\u001b[A\n",
            " 48%|████▊     | 236040/496046 [00:22<00:22, 11564.08it/s]\u001b[A\n",
            " 48%|████▊     | 237234/496046 [00:23<00:22, 11673.17it/s]\u001b[A\n",
            " 48%|████▊     | 238415/496046 [00:23<00:21, 11712.44it/s]\u001b[A\n",
            " 48%|████▊     | 239587/496046 [00:23<00:22, 11475.54it/s]\u001b[A\n",
            " 49%|████▊     | 240736/496046 [00:23<00:22, 11427.51it/s]\u001b[A\n",
            " 49%|████▉     | 241906/496046 [00:23<00:22, 11506.71it/s]\u001b[A\n",
            " 49%|████▉     | 243118/496046 [00:23<00:21, 11683.94it/s]\u001b[A\n",
            " 49%|████▉     | 244318/496046 [00:23<00:21, 11774.93it/s]\u001b[A\n",
            " 49%|████▉     | 245531/496046 [00:23<00:21, 11876.02it/s]\u001b[A\n",
            " 50%|████▉     | 246754/496046 [00:23<00:20, 11979.64it/s]\u001b[A\n",
            " 50%|████▉     | 247953/496046 [00:24<00:21, 11738.94it/s]\u001b[A\n",
            " 50%|█████     | 249157/496046 [00:24<00:20, 11826.90it/s]\u001b[A\n",
            " 50%|█████     | 250342/496046 [00:24<00:20, 11805.80it/s]\u001b[A\n",
            " 51%|█████     | 251545/496046 [00:24<00:20, 11869.77it/s]\u001b[A\n",
            " 51%|█████     | 252733/496046 [00:24<00:21, 11502.36it/s]\u001b[A\n",
            " 51%|█████     | 253906/496046 [00:24<00:20, 11568.05it/s]\u001b[A\n",
            " 51%|█████▏    | 255090/496046 [00:24<00:20, 11646.39it/s]\u001b[A\n",
            " 52%|█████▏    | 256257/496046 [00:24<00:20, 11432.87it/s]\u001b[A\n",
            " 52%|█████▏    | 257464/496046 [00:24<00:20, 11615.26it/s]\u001b[A\n",
            " 52%|█████▏    | 258654/496046 [00:24<00:20, 11698.59it/s]\u001b[A\n",
            " 52%|█████▏    | 259838/496046 [00:25<00:20, 11740.05it/s]\u001b[A\n",
            " 53%|█████▎    | 261021/496046 [00:25<00:19, 11766.26it/s]\u001b[A\n",
            " 53%|█████▎    | 262203/496046 [00:25<00:19, 11780.86it/s]\u001b[A\n",
            " 53%|█████▎    | 263389/496046 [00:25<00:19, 11804.39it/s]\u001b[A\n",
            " 53%|█████▎    | 264570/496046 [00:25<00:20, 11422.12it/s]\u001b[A\n",
            " 54%|█████▎    | 265731/496046 [00:25<00:20, 11477.35it/s]\u001b[A\n",
            " 54%|█████▍    | 266939/496046 [00:25<00:19, 11649.56it/s]\u001b[A\n",
            " 54%|█████▍    | 268141/496046 [00:25<00:19, 11756.84it/s]\u001b[A\n",
            " 54%|█████▍    | 269347/496046 [00:25<00:19, 11843.67it/s]\u001b[A\n",
            " 55%|█████▍    | 270544/496046 [00:25<00:18, 11878.61it/s]\u001b[A\n",
            " 55%|█████▍    | 271745/496046 [00:26<00:18, 11915.56it/s]\u001b[A\n",
            " 55%|█████▌    | 272938/496046 [00:26<00:18, 11859.35it/s]\u001b[A\n",
            " 55%|█████▌    | 274125/496046 [00:26<00:18, 11712.49it/s]\u001b[A\n",
            " 55%|█████▌    | 275298/496046 [00:26<00:18, 11633.32it/s]\u001b[A\n",
            " 56%|█████▌    | 276463/496046 [00:26<00:19, 11355.09it/s]\u001b[A\n",
            " 56%|█████▌    | 277656/496046 [00:26<00:18, 11519.85it/s]\u001b[A\n",
            " 56%|█████▌    | 278822/496046 [00:26<00:18, 11559.93it/s]\u001b[A\n",
            " 56%|█████▋    | 280014/496046 [00:26<00:18, 11662.82it/s]\u001b[A\n",
            " 57%|█████▋    | 281186/496046 [00:26<00:18, 11679.28it/s]\u001b[A\n",
            " 57%|█████▋    | 282359/496046 [00:26<00:18, 11692.61it/s]\u001b[A\n",
            " 57%|█████▋    | 283548/496046 [00:27<00:18, 11749.50it/s]\u001b[A\n",
            " 57%|█████▋    | 284724/496046 [00:27<00:18, 11689.74it/s]\u001b[A\n",
            " 58%|█████▊    | 285914/496046 [00:27<00:17, 11751.77it/s]\u001b[A\n",
            " 58%|█████▊    | 287090/496046 [00:27<00:17, 11699.53it/s]\u001b[A\n",
            " 58%|█████▊    | 288261/496046 [00:27<00:18, 11388.07it/s]\u001b[A\n",
            " 58%|█████▊    | 289446/496046 [00:27<00:17, 11522.00it/s]\u001b[A\n",
            " 59%|█████▊    | 290601/496046 [00:27<00:17, 11512.71it/s]\u001b[A\n",
            " 59%|█████▉    | 291801/496046 [00:27<00:17, 11652.10it/s]\u001b[A\n",
            " 59%|█████▉    | 293005/496046 [00:27<00:17, 11765.57it/s]\u001b[A\n",
            " 59%|█████▉    | 294197/496046 [00:27<00:17, 11809.61it/s]\u001b[A\n",
            " 60%|█████▉    | 295397/496046 [00:28<00:16, 11863.51it/s]\u001b[A\n",
            " 60%|█████▉    | 296585/496046 [00:28<00:17, 11676.22it/s]\u001b[A\n",
            " 60%|██████    | 297788/496046 [00:28<00:16, 11776.15it/s]\u001b[A\n",
            " 60%|██████    | 298967/496046 [00:28<00:16, 11767.94it/s]\u001b[A\n",
            " 61%|██████    | 300145/496046 [00:28<00:17, 11439.87it/s]\u001b[A\n",
            " 61%|██████    | 301302/496046 [00:28<00:16, 11478.39it/s]\u001b[A\n",
            " 61%|██████    | 302506/496046 [00:28<00:16, 11640.78it/s]\u001b[A\n",
            " 61%|██████    | 303705/496046 [00:28<00:16, 11741.50it/s]\u001b[A\n",
            " 61%|██████▏   | 304890/496046 [00:28<00:16, 11773.14it/s]\u001b[A\n",
            " 62%|██████▏   | 306069/496046 [00:28<00:16, 11627.39it/s]\u001b[A\n",
            " 62%|██████▏   | 307261/496046 [00:29<00:16, 11712.35it/s]\u001b[A\n",
            " 62%|██████▏   | 308449/496046 [00:29<00:15, 11762.01it/s]\u001b[A\n",
            " 62%|██████▏   | 309626/496046 [00:29<00:15, 11724.90it/s]\u001b[A\n",
            " 63%|██████▎   | 310800/496046 [00:29<00:15, 11669.71it/s]\u001b[A\n",
            " 63%|██████▎   | 311968/496046 [00:29<00:16, 11259.90it/s]\u001b[A\n",
            " 63%|██████▎   | 313141/496046 [00:29<00:16, 11393.49it/s]\u001b[A\n",
            " 63%|██████▎   | 314311/496046 [00:29<00:15, 11481.83it/s]\u001b[A\n",
            " 64%|██████▎   | 315477/496046 [00:29<00:15, 11534.38it/s]\u001b[A\n",
            " 64%|██████▍   | 316640/496046 [00:29<00:15, 11562.35it/s]\u001b[A\n",
            " 64%|██████▍   | 317821/496046 [00:30<00:15, 11634.89it/s]\u001b[A\n",
            " 64%|██████▍   | 319027/496046 [00:30<00:15, 11758.51it/s]\u001b[A\n",
            " 65%|██████▍   | 320218/496046 [00:30<00:14, 11803.18it/s]\u001b[A\n",
            " 65%|██████▍   | 321401/496046 [00:30<00:14, 11810.63it/s]\u001b[A\n",
            " 65%|██████▌   | 322583/496046 [00:30<00:14, 11699.65it/s]\u001b[A\n",
            " 65%|██████▌   | 323754/496046 [00:30<00:15, 11394.69it/s]\u001b[A\n",
            " 66%|██████▌   | 324946/496046 [00:30<00:14, 11545.21it/s]\u001b[A\n",
            " 66%|██████▌   | 326146/496046 [00:30<00:14, 11675.28it/s]\u001b[A\n",
            " 66%|██████▌   | 327332/496046 [00:30<00:14, 11728.73it/s]\u001b[A\n",
            " 66%|██████▌   | 328508/496046 [00:30<00:14, 11736.09it/s]\u001b[A\n",
            " 66%|██████▋   | 329687/496046 [00:31<00:14, 11751.01it/s]\u001b[A\n",
            " 67%|██████▋   | 330871/496046 [00:31<00:14, 11776.22it/s]\u001b[A\n",
            " 67%|██████▋   | 332050/496046 [00:31<00:27, 5865.79it/s] \u001b[A\n",
            " 67%|██████▋   | 333178/496046 [00:31<00:23, 6851.76it/s]\u001b[A\n",
            " 67%|██████▋   | 334324/496046 [00:31<00:20, 7791.23it/s]\u001b[A\n",
            " 68%|██████▊   | 335453/496046 [00:31<00:18, 8589.54it/s]\u001b[A\n",
            " 68%|██████▊   | 336624/496046 [00:31<00:17, 9334.59it/s]\u001b[A\n",
            " 68%|██████▊   | 337790/496046 [00:32<00:15, 9927.39it/s]\u001b[A\n",
            " 68%|██████▊   | 338935/496046 [00:32<00:15, 10337.74it/s]\u001b[A\n",
            " 69%|██████▊   | 340064/496046 [00:32<00:14, 10604.73it/s]\u001b[A\n",
            " 69%|██████▉   | 341239/496046 [00:32<00:14, 10922.56it/s]\u001b[A\n",
            " 69%|██████▉   | 342435/496046 [00:32<00:13, 11213.09it/s]\u001b[A\n",
            " 69%|██████▉   | 343592/496046 [00:32<00:14, 10880.83it/s]\u001b[A\n",
            " 70%|██████▉   | 344788/496046 [00:32<00:13, 11179.96it/s]\u001b[A\n",
            " 70%|██████▉   | 345940/496046 [00:32<00:13, 11277.64it/s]\u001b[A\n",
            " 70%|██████▉   | 347121/496046 [00:32<00:13, 11430.20it/s]\u001b[A\n",
            " 70%|███████   | 348275/496046 [00:32<00:12, 11435.34it/s]\u001b[A\n",
            " 70%|███████   | 349427/496046 [00:33<00:12, 11428.61it/s]\u001b[A\n",
            " 71%|███████   | 350603/496046 [00:33<00:12, 11524.87it/s]\u001b[A\n",
            " 71%|███████   | 351804/496046 [00:33<00:12, 11665.20it/s]\u001b[A\n",
            " 71%|███████   | 353000/496046 [00:33<00:12, 11749.67it/s]\u001b[A\n",
            " 71%|███████▏  | 354178/496046 [00:33<00:12, 11740.56it/s]\u001b[A\n",
            " 72%|███████▏  | 355354/496046 [00:33<00:12, 11325.28it/s]\u001b[A\n",
            " 72%|███████▏  | 356491/496046 [00:33<00:12, 11331.44it/s]\u001b[A\n",
            " 72%|███████▏  | 357631/496046 [00:33<00:12, 11349.81it/s]\u001b[A\n",
            " 72%|███████▏  | 358816/496046 [00:33<00:11, 11494.44it/s]\u001b[A\n",
            " 73%|███████▎  | 359977/496046 [00:33<00:11, 11528.66it/s]\u001b[A\n",
            " 73%|███████▎  | 361153/496046 [00:34<00:11, 11595.13it/s]\u001b[A\n",
            " 73%|███████▎  | 362316/496046 [00:34<00:11, 11605.19it/s]\u001b[A\n",
            " 73%|███████▎  | 363478/496046 [00:34<00:11, 11458.46it/s]\u001b[A\n",
            " 74%|███████▎  | 364625/496046 [00:34<00:11, 11398.74it/s]\u001b[A\n",
            " 74%|███████▎  | 365770/496046 [00:34<00:11, 11411.80it/s]\u001b[A\n",
            " 74%|███████▍  | 366912/496046 [00:34<00:11, 11187.29it/s]\u001b[A\n",
            " 74%|███████▍  | 368033/496046 [00:34<00:11, 11074.15it/s]\u001b[A\n",
            " 74%|███████▍  | 369202/496046 [00:34<00:11, 11251.77it/s]\u001b[A\n",
            " 75%|███████▍  | 370376/496046 [00:34<00:11, 11392.95it/s]\u001b[A\n",
            " 75%|███████▍  | 371517/496046 [00:35<00:10, 11333.38it/s]\u001b[A\n",
            " 75%|███████▌  | 372652/496046 [00:35<00:10, 11311.90it/s]\u001b[A\n",
            " 75%|███████▌  | 373796/496046 [00:35<00:10, 11349.42it/s]\u001b[A\n",
            " 76%|███████▌  | 374952/496046 [00:35<00:10, 11408.81it/s]\u001b[A\n",
            " 76%|███████▌  | 376131/496046 [00:35<00:10, 11517.90it/s]\u001b[A\n",
            " 76%|███████▌  | 377342/496046 [00:35<00:10, 11689.16it/s]\u001b[A\n",
            " 76%|███████▋  | 378516/496046 [00:35<00:10, 11702.72it/s]\u001b[A\n",
            " 77%|███████▋  | 379687/496046 [00:35<00:10, 11308.55it/s]\u001b[A\n",
            " 77%|███████▋  | 380824/496046 [00:35<00:10, 11326.68it/s]\u001b[A\n",
            " 77%|███████▋  | 381988/496046 [00:35<00:09, 11418.17it/s]\u001b[A\n",
            " 77%|███████▋  | 383132/496046 [00:36<00:09, 11406.87it/s]\u001b[A\n",
            " 77%|███████▋  | 384274/496046 [00:36<00:09, 11379.99it/s]\u001b[A\n",
            " 78%|███████▊  | 385413/496046 [00:36<00:09, 11365.04it/s]\u001b[A\n",
            " 78%|███████▊  | 386551/496046 [00:36<00:09, 11360.70it/s]\u001b[A\n",
            " 78%|███████▊  | 387688/496046 [00:36<00:09, 11272.84it/s]\u001b[A\n",
            " 78%|███████▊  | 388818/496046 [00:36<00:09, 11279.64it/s]\u001b[A\n",
            " 79%|███████▊  | 389973/496046 [00:36<00:09, 11357.30it/s]\u001b[A\n",
            " 79%|███████▉  | 391110/496046 [00:36<00:09, 11022.53it/s]\u001b[A\n",
            " 79%|███████▉  | 392278/496046 [00:36<00:09, 11208.77it/s]\u001b[A\n",
            " 79%|███████▉  | 393429/496046 [00:36<00:09, 11296.88it/s]\u001b[A\n",
            " 80%|███████▉  | 394607/496046 [00:37<00:08, 11435.28it/s]\u001b[A\n",
            " 80%|███████▉  | 395807/496046 [00:37<00:08, 11597.00it/s]\u001b[A\n",
            " 80%|████████  | 396969/496046 [00:37<00:08, 11598.79it/s]\u001b[A\n",
            " 80%|████████  | 398131/496046 [00:37<00:08, 11523.75it/s]\u001b[A\n",
            " 81%|████████  | 399324/496046 [00:37<00:08, 11641.76it/s]\u001b[A\n",
            " 81%|████████  | 400503/496046 [00:37<00:08, 11683.80it/s]\u001b[A\n",
            " 81%|████████  | 401694/496046 [00:37<00:08, 11749.43it/s]\u001b[A\n",
            " 81%|████████  | 402870/496046 [00:37<00:08, 11252.53it/s]\u001b[A\n",
            " 81%|████████▏ | 404036/496046 [00:37<00:08, 11370.89it/s]\u001b[A\n",
            " 82%|████████▏ | 405191/496046 [00:37<00:07, 11377.73it/s]\u001b[A\n",
            " 82%|████████▏ | 406354/496046 [00:38<00:07, 11451.58it/s]\u001b[A\n",
            " 82%|████████▏ | 407537/496046 [00:38<00:07, 11561.60it/s]\u001b[A\n",
            " 82%|████████▏ | 408695/496046 [00:38<00:07, 11543.53it/s]\u001b[A\n",
            " 83%|████████▎ | 409851/496046 [00:38<00:07, 11527.85it/s]\u001b[A\n",
            " 83%|████████▎ | 411043/496046 [00:38<00:07, 11641.66it/s]\u001b[A\n",
            " 83%|████████▎ | 412225/496046 [00:38<00:07, 11694.22it/s]\u001b[A\n",
            " 83%|████████▎ | 413406/496046 [00:38<00:07, 11726.88it/s]\u001b[A\n",
            " 84%|████████▎ | 414580/496046 [00:38<00:07, 11380.89it/s]\u001b[A\n",
            " 84%|████████▍ | 415730/496046 [00:38<00:07, 11414.43it/s]\u001b[A\n",
            " 84%|████████▍ | 416907/496046 [00:38<00:06, 11518.41it/s]\u001b[A\n",
            " 84%|████████▍ | 418095/496046 [00:39<00:06, 11623.87it/s]\u001b[A\n",
            " 85%|████████▍ | 419273/496046 [00:39<00:06, 11667.92it/s]\u001b[A\n",
            " 85%|████████▍ | 420442/496046 [00:39<00:06, 11672.64it/s]\u001b[A\n",
            " 85%|████████▍ | 421610/496046 [00:39<00:06, 11672.75it/s]\u001b[A\n",
            " 85%|████████▌ | 422778/496046 [00:39<00:06, 11665.30it/s]\u001b[A\n",
            " 85%|████████▌ | 423945/496046 [00:39<00:06, 11610.91it/s]\u001b[A\n",
            " 86%|████████▌ | 425107/496046 [00:39<00:06, 11516.87it/s]\u001b[A\n",
            " 86%|████████▌ | 426260/496046 [00:39<00:06, 11432.68it/s]\u001b[A\n",
            " 86%|████████▌ | 427404/496046 [00:39<00:06, 11341.74it/s]\u001b[A\n",
            " 86%|████████▋ | 428575/496046 [00:39<00:05, 11448.56it/s]\u001b[A\n",
            " 87%|████████▋ | 429767/496046 [00:40<00:05, 11583.81it/s]\u001b[A\n",
            " 87%|████████▋ | 430927/496046 [00:40<00:05, 11508.49it/s]\u001b[A\n",
            " 87%|████████▋ | 432079/496046 [00:40<00:05, 11483.12it/s]\u001b[A\n",
            " 87%|████████▋ | 433273/496046 [00:40<00:05, 11615.13it/s]\u001b[A\n",
            " 88%|████████▊ | 434448/496046 [00:40<00:05, 11652.20it/s]\u001b[A\n",
            " 88%|████████▊ | 435641/496046 [00:40<00:05, 11734.00it/s]\u001b[A\n",
            " 88%|████████▊ | 436828/496046 [00:40<00:05, 11773.39it/s]\u001b[A\n",
            " 88%|████████▊ | 438028/496046 [00:40<00:04, 11840.01it/s]\u001b[A\n",
            " 89%|████████▊ | 439213/496046 [00:40<00:04, 11388.79it/s]\u001b[A\n",
            " 89%|████████▉ | 440356/496046 [00:40<00:04, 11373.88it/s]\u001b[A\n",
            " 89%|████████▉ | 441511/496046 [00:41<00:04, 11424.29it/s]\u001b[A\n",
            " 89%|████████▉ | 442724/496046 [00:41<00:04, 11626.76it/s]\u001b[A\n",
            " 89%|████████▉ | 443889/496046 [00:41<00:04, 11626.73it/s]\u001b[A\n",
            " 90%|████████▉ | 445103/496046 [00:41<00:04, 11774.80it/s]\u001b[A\n",
            " 90%|████████▉ | 446283/496046 [00:41<00:04, 11721.05it/s]\u001b[A\n",
            " 90%|█████████ | 447457/496046 [00:41<00:04, 11700.92it/s]\u001b[A\n",
            " 90%|█████████ | 448628/496046 [00:41<00:04, 11337.43it/s]\u001b[A\n",
            " 91%|█████████ | 449801/496046 [00:41<00:04, 11450.66it/s]\u001b[A\n",
            " 91%|█████████ | 450949/496046 [00:41<00:04, 11058.96it/s]\u001b[A\n",
            " 91%|█████████ | 452090/496046 [00:42<00:03, 11160.36it/s]\u001b[A\n",
            " 91%|█████████▏| 453287/496046 [00:42<00:03, 11390.24it/s]\u001b[A\n",
            " 92%|█████████▏| 454467/496046 [00:42<00:03, 11508.13it/s]\u001b[A\n",
            " 92%|█████████▏| 455621/496046 [00:42<00:03, 11477.79it/s]\u001b[A\n",
            " 92%|█████████▏| 456836/496046 [00:42<00:03, 11669.11it/s]\u001b[A\n",
            " 92%|█████████▏| 458012/496046 [00:42<00:03, 11695.03it/s]\u001b[A\n",
            " 93%|█████████▎| 459205/496046 [00:42<00:03, 11763.59it/s]\u001b[A\n",
            " 93%|█████████▎| 460383/496046 [00:42<00:03, 11706.99it/s]\u001b[A\n",
            " 93%|█████████▎| 461559/496046 [00:42<00:02, 11720.67it/s]\u001b[A\n",
            " 93%|█████████▎| 462732/496046 [00:42<00:02, 11295.13it/s]\u001b[A\n",
            " 94%|█████████▎| 463880/496046 [00:43<00:02, 11348.36it/s]\u001b[A\n",
            " 94%|█████████▍| 465087/496046 [00:43<00:02, 11554.95it/s]\u001b[A\n",
            " 94%|█████████▍| 466272/496046 [00:43<00:02, 11639.42it/s]\u001b[A\n",
            " 94%|█████████▍| 467443/496046 [00:43<00:02, 11657.19it/s]\u001b[A\n",
            " 94%|█████████▍| 468612/496046 [00:43<00:02, 11665.34it/s]\u001b[A\n",
            " 95%|█████████▍| 469799/496046 [00:43<00:02, 11721.12it/s]\u001b[A\n",
            " 95%|█████████▍| 470984/496046 [00:43<00:02, 11758.48it/s]\u001b[A\n",
            " 95%|█████████▌| 472165/496046 [00:43<00:02, 11771.60it/s]\u001b[A\n",
            " 95%|█████████▌| 473343/496046 [00:43<00:01, 11747.06it/s]\u001b[A\n",
            " 96%|█████████▌| 474519/496046 [00:43<00:01, 11215.30it/s]\u001b[A\n",
            " 96%|█████████▌| 475713/496046 [00:44<00:01, 11421.78it/s]\u001b[A\n",
            " 96%|█████████▌| 476923/496046 [00:44<00:01, 11616.39it/s]\u001b[A\n",
            " 96%|█████████▋| 478111/496046 [00:44<00:01, 11692.82it/s]\u001b[A\n",
            " 97%|█████████▋| 479284/496046 [00:44<00:01, 11549.76it/s]\u001b[A\n",
            " 97%|█████████▋| 480442/496046 [00:44<00:01, 11534.54it/s]\u001b[A\n",
            " 97%|█████████▋| 481617/496046 [00:44<00:01, 11596.67it/s]\u001b[A\n",
            " 97%|█████████▋| 482829/496046 [00:44<00:01, 11747.03it/s]\u001b[A\n",
            " 98%|█████████▊| 484006/496046 [00:44<00:01, 11579.78it/s]\u001b[A\n",
            " 98%|█████████▊| 485178/496046 [00:44<00:00, 11620.82it/s]\u001b[A\n",
            " 98%|█████████▊| 486342/496046 [00:44<00:00, 11319.81it/s]\u001b[A\n",
            " 98%|█████████▊| 487528/496046 [00:45<00:00, 11476.61it/s]\u001b[A\n",
            " 99%|█████████▊| 488704/496046 [00:45<00:00, 11559.19it/s]\u001b[A\n",
            " 99%|█████████▉| 489874/496046 [00:45<00:00, 11598.27it/s]\u001b[A\n",
            " 99%|█████████▉| 491065/496046 [00:45<00:00, 11689.64it/s]\u001b[A\n",
            " 99%|█████████▉| 492235/496046 [00:45<00:00, 11661.12it/s]\u001b[A\n",
            " 99%|█████████▉| 493409/496046 [00:45<00:00, 11682.93it/s]\u001b[A\n",
            "100%|█████████▉| 494614/496046 [00:45<00:00, 11788.62it/s]\u001b[A\n",
            "100%|█████████▉| 495794/496046 [00:45<00:00, 11767.35it/s]\u001b[A\n",
            "100%|██████████| 496046/496046 [00:46<00:00, 10755.46it/s]\u001b[A\n",
            "  0%|          | 0/347419 [00:00<?, ?it/s]\u001b[A\n",
            "  2%|▏         | 7408/347419 [00:00<00:04, 74074.60it/s]\u001b[A\n",
            "  5%|▍         | 17191/347419 [00:00<00:04, 79892.93it/s]\u001b[A\n",
            "  8%|▊         | 26910/347419 [00:00<00:03, 84337.39it/s]\u001b[A\n",
            "  9%|▉         | 32961/347419 [00:00<00:10, 30034.41it/s]\u001b[A\n",
            " 12%|█▏        | 42616/347419 [00:00<00:08, 37858.78it/s]\u001b[A\n",
            " 15%|█▌        | 52217/347419 [00:01<00:06, 46264.55it/s]\u001b[A\n",
            " 18%|█▊        | 61192/347419 [00:01<00:05, 54132.83it/s]\u001b[A\n",
            " 20%|█▉        | 68896/347419 [00:01<00:10, 27632.91it/s]\u001b[A\n",
            " 23%|██▎       | 78742/347419 [00:01<00:07, 35236.93it/s]\u001b[A\n",
            " 25%|██▌       | 88297/347419 [00:01<00:05, 43468.33it/s]\u001b[A\n",
            " 28%|██▊       | 98668/347419 [00:02<00:04, 52635.97it/s]\u001b[A\n",
            " 31%|███       | 107214/347419 [00:02<00:08, 26744.09it/s]\u001b[A\n",
            " 34%|███▎      | 116549/347419 [00:02<00:06, 34027.70it/s]\u001b[A\n",
            " 37%|███▋      | 127087/347419 [00:02<00:05, 42701.27it/s]\u001b[A\n",
            " 40%|███▉      | 137445/347419 [00:02<00:04, 51842.00it/s]\u001b[A\n",
            " 42%|████▏     | 146686/347419 [00:03<00:03, 59704.91it/s]\u001b[A\n",
            " 45%|████▍     | 156175/347419 [00:03<00:02, 67177.44it/s]\u001b[A\n",
            " 48%|████▊     | 165310/347419 [00:03<00:06, 27485.03it/s]\u001b[A\n",
            " 50%|█████     | 175187/347419 [00:04<00:04, 35077.65it/s]\u001b[A\n",
            " 53%|█████▎    | 183700/347419 [00:04<00:03, 42559.62it/s]\u001b[A\n",
            " 56%|█████▌    | 194093/347419 [00:04<00:02, 51716.61it/s]\u001b[A\n",
            " 59%|█████▉    | 204408/347419 [00:04<00:02, 60812.12it/s]\u001b[A\n",
            " 62%|██████▏   | 214458/347419 [00:04<00:01, 68983.64it/s]\u001b[A\n",
            " 65%|██████▍   | 224796/347419 [00:04<00:01, 76632.70it/s]\u001b[A\n",
            " 67%|██████▋   | 234494/347419 [00:05<00:04, 25859.16it/s]\u001b[A\n",
            " 70%|███████   | 244583/347419 [00:05<00:03, 33285.26it/s]\u001b[A\n",
            " 73%|███████▎  | 253708/347419 [00:05<00:02, 40533.40it/s]\u001b[A\n",
            " 76%|███████▌  | 263863/347419 [00:05<00:01, 49446.03it/s]\u001b[A\n",
            " 79%|███████▉  | 273736/347419 [00:05<00:01, 58154.38it/s]\u001b[A\n",
            " 81%|████████▏ | 282830/347419 [00:06<00:00, 65206.69it/s]\u001b[A\n",
            " 84%|████████▍ | 292671/347419 [00:06<00:00, 72532.63it/s]\u001b[A\n",
            " 87%|████████▋ | 301963/347419 [00:06<00:00, 76422.78it/s]\u001b[A\n",
            " 90%|████████▉ | 311632/347419 [00:07<00:01, 22858.82it/s]\u001b[A\n",
            " 92%|█████████▏| 320795/347419 [00:07<00:00, 28969.22it/s]\u001b[A\n",
            " 95%|█████████▌| 330499/347419 [00:07<00:00, 36690.14it/s]\u001b[A\n",
            " 98%|█████████▊| 340352/347419 [00:07<00:00, 45200.78it/s]\u001b[A\n",
            "100%|██████████| 347419/347419 [00:07<00:00, 44722.98it/s]\u001b[A"
          ],
          "name": "stderr"
        },
        {
          "output_type": "stream",
          "text": [
            "CPU times: user 1min 38s, sys: 3.71 s, total: 1min 41s\n",
            "Wall time: 1min 42s\n"
          ],
          "name": "stdout"
        }
      ]
    },
    {
      "cell_type": "markdown",
      "metadata": {
        "id": "CGXAP399FnAz",
        "colab_type": "text"
      },
      "source": [
        "Feature engeniring"
      ]
    },
    {
      "cell_type": "code",
      "metadata": {
        "id": "q_gUGN8J9C9A",
        "colab_type": "code",
        "outputId": "96986a66-4587-44fb-afe9-c3f550713a71",
        "colab": {
          "base_uri": "https://localhost:8080/",
          "height": 35
        }
      },
      "source": [
        "X, y,cat_to_el = sequences[0],sequences[1],sequences[2]\n",
        "del sequences\n",
        "gc.collect()"
      ],
      "execution_count": 0,
      "outputs": [
        {
          "output_type": "execute_result",
          "data": {
            "text/plain": [
              "98"
            ]
          },
          "metadata": {
            "tags": []
          },
          "execution_count": 46
        }
      ]
    },
    {
      "cell_type": "code",
      "metadata": {
        "id": "Qkeo5in69M12",
        "colab_type": "code",
        "colab": {}
      },
      "source": [
        "from keras.layers import Input, Embedding, SpatialDropout1D, Dropout, Dense,LSTM, CuDNNGRU#, CuDNNLSTM, CuDNNGRU\n",
        "from keras.models import Model\n",
        "from keras import backend as K\n",
        "\n",
        "import keras\n",
        "K.tensorflow_backend._get_available_gpus()\n",
        "\n",
        "# Let's set random seed\n",
        "import tensorflow as tf\n",
        "tf.set_random_seed(42)\n",
        "np.random.seed(42)"
      ],
      "execution_count": 0,
      "outputs": []
    },
    {
      "cell_type": "code",
      "metadata": {
        "id": "SfeSS0T-AA_q",
        "colab_type": "code",
        "colab": {}
      },
      "source": [
        "from tensorflow.python.client import device_lib\n",
        "#print(device_lib.list_local_devices())"
      ],
      "execution_count": 0,
      "outputs": []
    },
    {
      "cell_type": "code",
      "metadata": {
        "id": "C_GrOJPP9akI",
        "colab_type": "code",
        "colab": {}
      },
      "source": [
        "max_features = catalogue.shape[0] + 1\n",
        "embed_size = 128\n",
        "maxlen = 18\n",
        "def lstm129():\n",
        "    inp = Input(shape=(maxlen,20))\n",
        "   # x = Embedding(max_features, embed_size)(inp)\n",
        "\n",
        "    x = CuDNNGRU(128,return_sequences=False)(inp)\n",
        "    x = Dropout(0.02)(x)\n",
        "    outp = Dense(max_features, activation=\"softmax\")(x)\n",
        "    model = Model(inputs=inp, outputs=outp)\n",
        "    model.compile(loss='sparse_categorical_crossentropy', optimizer='rmsprop',\n",
        "                  metrics=['sparse_categorical_accuracy'])\n",
        "    return model"
      ],
      "execution_count": 0,
      "outputs": []
    },
    {
      "cell_type": "code",
      "metadata": {
        "id": "ZWKfGSvH93JJ",
        "colab_type": "code",
        "outputId": "4b1ecec2-393b-442b-bf59-e697718c7639",
        "colab": {
          "base_uri": "https://localhost:8080/",
          "height": 35
        }
      },
      "source": [
        "x = X.reshape(-1,18,1)\n",
        "x.shape"
      ],
      "execution_count": 0,
      "outputs": [
        {
          "output_type": "execute_result",
          "data": {
            "text/plain": [
              "(3399095, 18, 1)"
            ]
          },
          "metadata": {
            "tags": []
          },
          "execution_count": 49
        }
      ]
    },
    {
      "cell_type": "code",
      "metadata": {
        "id": "QgTaiD0M-4es",
        "colab_type": "code",
        "outputId": "f94bc6fc-1d94-4550-933b-f8ca2f3d00cd",
        "colab": {
          "base_uri": "https://localhost:8080/",
          "height": 35
        }
      },
      "source": [
        "encoder = Model(inputs=model.inputs, outputs=model.layers[0].output)\n",
        "plot_model(encoder, show_shapes=True, to_file='lstm_encoder.png')\n",
        "# get the feature vector for the input sequence\n",
        "del X_gen\n",
        "gc.collect()"
      ],
      "execution_count": 0,
      "outputs": [
        {
          "output_type": "execute_result",
          "data": {
            "text/plain": [
              "3209"
            ]
          },
          "metadata": {
            "tags": []
          },
          "execution_count": 73
        }
      ]
    },
    {
      "cell_type": "code",
      "metadata": {
        "id": "QDyUHJ2yD5xh",
        "colab_type": "code",
        "outputId": "c1961d9f-dc8a-43fb-e664-a2d0288c2d95",
        "colab": {
          "base_uri": "https://localhost:8080/",
          "height": 7875
        }
      },
      "source": [
        "#yhat = encoder.predict(x[0][0][np.newaxis, 0])\n",
        "#yhat\n",
        "#[encoder.predict(el[np.newaxis, 0]) for el in x[0]]\n",
        "def get_em(x):\n",
        " # print(x.shape)\n",
        "  return np.array([encoder.predict(X_cat[np.newaxis, el[0]]).tolist() for el in x]).reshape(-1,20)\n",
        "\n",
        "X_gen = np.zeros((int(X.shape[0]/2),maxlen,20))\n",
        "\n",
        "for i in tqdm(range(X.shape[0])):\n",
        "  X_gen[i] = get_em(np.array(X[i]).reshape(maxlen,1))\n",
        "  \n",
        "\n"
      ],
      "execution_count": 0,
      "outputs": [
        {
          "output_type": "stream",
          "text": [
            "\n",
            "  0%|          | 0/3399095 [00:00<?, ?it/s]\u001b[A\n",
            "  0%|          | 1/3399095 [00:00<121:26:41,  7.77it/s]\u001b[A\n",
            "  0%|          | 2/3399095 [00:00<122:40:28,  7.70it/s]\u001b[A\n",
            "  0%|          | 3/3399095 [00:00<124:14:05,  7.60it/s]\u001b[A\n",
            "  0%|          | 4/3399095 [00:00<123:56:20,  7.62it/s]\u001b[A\n",
            "  0%|          | 5/3399095 [00:00<127:49:48,  7.39it/s]\u001b[A\n",
            "  0%|          | 6/3399095 [00:00<125:18:50,  7.53it/s]\u001b[A\n",
            "  0%|          | 7/3399095 [00:00<124:23:49,  7.59it/s]\u001b[A\n",
            "  0%|          | 8/3399095 [00:01<124:47:37,  7.57it/s]\u001b[A\n",
            "  0%|          | 9/3399095 [00:01<125:18:21,  7.54it/s]\u001b[A\n",
            "  0%|          | 10/3399095 [00:01<125:46:54,  7.51it/s]\u001b[A\n",
            "  0%|          | 11/3399095 [00:01<125:41:03,  7.51it/s]\u001b[A\n",
            "  0%|          | 12/3399095 [00:01<129:12:13,  7.31it/s]\u001b[A\n",
            "  0%|          | 13/3399095 [00:01<128:46:52,  7.33it/s]\u001b[A\n",
            "  0%|          | 14/3399095 [00:01<126:50:03,  7.44it/s]\u001b[A\n",
            "  0%|          | 15/3399095 [00:02<126:25:42,  7.47it/s]\u001b[A\n",
            "  0%|          | 16/3399095 [00:02<125:40:52,  7.51it/s]\u001b[A\n",
            "  0%|          | 17/3399095 [00:02<124:53:25,  7.56it/s]\u001b[A\n",
            "  0%|          | 18/3399095 [00:02<124:57:29,  7.56it/s]\u001b[A\n",
            "  0%|          | 19/3399095 [00:02<125:50:58,  7.50it/s]\u001b[A\n",
            "  0%|          | 20/3399095 [00:02<129:44:47,  7.28it/s]\u001b[A\n",
            "  0%|          | 21/3399095 [00:02<128:42:47,  7.34it/s]\u001b[A\n",
            "  0%|          | 22/3399095 [00:02<127:15:52,  7.42it/s]\u001b[A\n",
            "  0%|          | 23/3399095 [00:03<127:01:44,  7.43it/s]\u001b[A\n",
            "  0%|          | 24/3399095 [00:03<128:21:37,  7.36it/s]\u001b[A\n",
            "  0%|          | 25/3399095 [00:03<128:04:37,  7.37it/s]\u001b[A\n",
            "  0%|          | 26/3399095 [00:03<126:44:37,  7.45it/s]\u001b[A\n",
            "  0%|          | 27/3399095 [00:03<128:20:02,  7.36it/s]\u001b[A\n",
            "  0%|          | 28/3399095 [00:03<129:31:37,  7.29it/s]\u001b[A\n",
            "  0%|          | 29/3399095 [00:03<129:02:51,  7.32it/s]\u001b[A\n",
            "  0%|          | 30/3399095 [00:04<127:48:50,  7.39it/s]\u001b[A\n",
            "  0%|          | 31/3399095 [00:04<126:44:52,  7.45it/s]\u001b[A\n",
            "  0%|          | 32/3399095 [00:04<127:10:50,  7.42it/s]\u001b[A\n",
            "  0%|          | 33/3399095 [00:04<127:01:56,  7.43it/s]\u001b[A\n",
            "  0%|          | 34/3399095 [00:04<125:04:23,  7.55it/s]\u001b[A\n",
            "  0%|          | 35/3399095 [00:04<129:46:50,  7.28it/s]\u001b[A\n",
            "  0%|          | 36/3399095 [00:04<128:12:41,  7.36it/s]\u001b[A\n",
            "  0%|          | 37/3399095 [00:04<127:15:55,  7.42it/s]\u001b[A\n",
            "  0%|          | 38/3399095 [00:05<127:54:12,  7.38it/s]\u001b[A\n",
            "  0%|          | 39/3399095 [00:05<127:21:30,  7.41it/s]\u001b[A\n",
            "  0%|          | 40/3399095 [00:05<125:59:49,  7.49it/s]\u001b[A\n",
            "  0%|          | 41/3399095 [00:05<124:02:13,  7.61it/s]\u001b[A\n",
            "  0%|          | 42/3399095 [00:05<124:18:56,  7.60it/s]\u001b[A\n",
            "  0%|          | 43/3399095 [00:05<126:47:34,  7.45it/s]\u001b[A\n",
            "  0%|          | 44/3399095 [00:05<126:59:52,  7.43it/s]\u001b[A\n",
            "  0%|          | 45/3399095 [00:06<126:29:43,  7.46it/s]\u001b[A\n",
            "  0%|          | 46/3399095 [00:06<127:06:54,  7.43it/s]\u001b[A\n",
            "  0%|          | 47/3399095 [00:06<125:43:32,  7.51it/s]\u001b[A\n",
            "  0%|          | 48/3399095 [00:06<125:14:13,  7.54it/s]\u001b[A\n",
            "  0%|          | 49/3399095 [00:06<124:26:44,  7.59it/s]\u001b[A\n",
            "  0%|          | 50/3399095 [00:06<126:00:53,  7.49it/s]\u001b[A\n",
            "  0%|          | 51/3399095 [00:06<129:31:48,  7.29it/s]\u001b[A\n",
            "  0%|          | 52/3399095 [00:06<128:09:59,  7.37it/s]\u001b[A\n",
            "  0%|          | 53/3399095 [00:07<127:49:28,  7.39it/s]\u001b[A\n",
            "  0%|          | 54/3399095 [00:07<126:25:12,  7.47it/s]\u001b[A\n",
            "  0%|          | 55/3399095 [00:07<124:55:57,  7.56it/s]\u001b[A\n",
            "  0%|          | 56/3399095 [00:07<123:57:28,  7.62it/s]\u001b[A\n",
            "  0%|          | 57/3399095 [00:07<122:26:19,  7.71it/s]\u001b[A\n",
            "  0%|          | 58/3399095 [00:07<126:38:09,  7.46it/s]\u001b[A\n",
            "  0%|          | 59/3399095 [00:07<124:12:15,  7.60it/s]\u001b[A\n",
            "  0%|          | 60/3399095 [00:08<123:06:02,  7.67it/s]\u001b[A\n",
            "  0%|          | 61/3399095 [00:08<123:14:50,  7.66it/s]\u001b[A\n",
            "  0%|          | 62/3399095 [00:08<123:46:39,  7.63it/s]\u001b[A\n",
            "  0%|          | 63/3399095 [00:08<123:51:14,  7.62it/s]\u001b[A\n",
            "  0%|          | 64/3399095 [00:08<124:37:05,  7.58it/s]\u001b[A\n",
            "  0%|          | 65/3399095 [00:08<124:42:40,  7.57it/s]\u001b[A\n",
            "  0%|          | 66/3399095 [00:08<127:13:38,  7.42it/s]\u001b[A\n",
            "  0%|          | 67/3399095 [00:08<125:57:46,  7.50it/s]\u001b[A\n",
            "  0%|          | 68/3399095 [00:09<125:06:12,  7.55it/s]\u001b[A\n",
            "  0%|          | 69/3399095 [00:09<126:09:36,  7.48it/s]\u001b[A\n",
            "  0%|          | 70/3399095 [00:09<124:55:36,  7.56it/s]\u001b[A\n",
            "  0%|          | 71/3399095 [00:09<124:43:34,  7.57it/s]\u001b[A\n",
            "  0%|          | 72/3399095 [00:09<125:41:26,  7.51it/s]\u001b[A\n",
            "  0%|          | 73/3399095 [00:09<124:47:33,  7.57it/s]\u001b[A\n",
            "  0%|          | 74/3399095 [00:09<127:26:55,  7.41it/s]\u001b[A\n",
            "  0%|          | 75/3399095 [00:10<125:32:52,  7.52it/s]\u001b[A\n",
            "  0%|          | 76/3399095 [00:10<126:53:37,  7.44it/s]\u001b[A\n",
            "  0%|          | 77/3399095 [00:10<125:13:32,  7.54it/s]\u001b[A\n",
            "  0%|          | 78/3399095 [00:10<124:56:18,  7.56it/s]\u001b[A\n",
            "  0%|          | 79/3399095 [00:10<125:22:45,  7.53it/s]\u001b[A\n",
            "  0%|          | 80/3399095 [00:10<124:15:20,  7.60it/s]\u001b[A\n",
            "  0%|          | 81/3399095 [00:10<127:19:34,  7.42it/s]\u001b[A\n",
            "  0%|          | 82/3399095 [00:10<127:08:00,  7.43it/s]\u001b[A\n",
            "  0%|          | 83/3399095 [00:11<126:14:18,  7.48it/s]\u001b[A\n",
            "  0%|          | 84/3399095 [00:11<126:02:05,  7.49it/s]\u001b[A\n",
            "  0%|          | 85/3399095 [00:11<126:33:07,  7.46it/s]\u001b[A\n",
            "  0%|          | 86/3399095 [00:11<125:23:19,  7.53it/s]\u001b[A\n",
            "  0%|          | 87/3399095 [00:11<125:09:44,  7.54it/s]\u001b[A\n",
            "  0%|          | 88/3399095 [00:11<124:15:12,  7.60it/s]\u001b[A\n",
            "  0%|          | 89/3399095 [00:11<128:51:58,  7.33it/s]\u001b[A\n",
            "  0%|          | 90/3399095 [00:12<128:05:22,  7.37it/s]\u001b[A\n",
            "  0%|          | 91/3399095 [00:12<127:22:54,  7.41it/s]\u001b[A\n",
            "  0%|          | 92/3399095 [00:12<126:04:51,  7.49it/s]\u001b[A\n",
            "  0%|          | 93/3399095 [00:12<125:43:56,  7.51it/s]\u001b[A\n",
            "  0%|          | 94/3399095 [00:12<125:46:05,  7.51it/s]\u001b[A\n",
            "  0%|          | 95/3399095 [00:12<125:43:32,  7.51it/s]\u001b[A\n",
            "  0%|          | 96/3399095 [00:12<125:05:10,  7.55it/s]\u001b[A\n",
            "  0%|          | 97/3399095 [00:12<127:28:30,  7.41it/s]\u001b[A\n",
            "  0%|          | 98/3399095 [00:13<127:04:08,  7.43it/s]\u001b[A\n",
            "  0%|          | 99/3399095 [00:13<126:10:07,  7.48it/s]\u001b[A\n",
            "  0%|          | 100/3399095 [00:13<128:03:05,  7.37it/s]\u001b[A\n",
            "  0%|          | 101/3399095 [00:13<127:34:18,  7.40it/s]\u001b[A\n",
            "  0%|          | 102/3399095 [00:13<125:51:09,  7.50it/s]\u001b[A\n",
            "  0%|          | 103/3399095 [00:13<125:11:46,  7.54it/s]\u001b[A\n",
            "  0%|          | 104/3399095 [00:13<126:41:26,  7.45it/s]\u001b[A\n",
            "  0%|          | 105/3399095 [00:14<127:15:02,  7.42it/s]\u001b[A\n",
            "  0%|          | 106/3399095 [00:14<126:53:18,  7.44it/s]\u001b[A\n",
            "  0%|          | 107/3399095 [00:14<125:55:59,  7.50it/s]\u001b[A\n",
            "  0%|          | 108/3399095 [00:14<125:45:31,  7.51it/s]\u001b[A\n",
            "  0%|          | 109/3399095 [00:14<124:52:49,  7.56it/s]\u001b[A\n",
            "  0%|          | 110/3399095 [00:14<124:07:28,  7.61it/s]\u001b[A\n",
            "  0%|          | 111/3399095 [00:14<124:59:15,  7.55it/s]\u001b[A\n",
            "  0%|          | 112/3399095 [00:14<131:16:14,  7.19it/s]\u001b[A\n",
            "  0%|          | 113/3399095 [00:15<128:44:04,  7.33it/s]\u001b[A\n",
            "  0%|          | 114/3399095 [00:15<127:43:27,  7.39it/s]\u001b[A\n",
            "  0%|          | 115/3399095 [00:15<127:28:05,  7.41it/s]\u001b[A\n",
            "  0%|          | 116/3399095 [00:15<127:21:12,  7.41it/s]\u001b[A\n",
            "  0%|          | 117/3399095 [00:15<125:41:41,  7.51it/s]\u001b[A\n",
            "  0%|          | 118/3399095 [00:15<125:42:19,  7.51it/s]\u001b[A\n",
            "  0%|          | 119/3399095 [00:15<124:35:51,  7.58it/s]\u001b[A\n",
            "  0%|          | 120/3399095 [00:16<128:14:56,  7.36it/s]\u001b[A\n",
            "  0%|          | 121/3399095 [00:16<127:51:10,  7.38it/s]\u001b[A\n",
            "  0%|          | 122/3399095 [00:16<125:47:34,  7.51it/s]\u001b[A\n",
            "  0%|          | 123/3399095 [00:16<125:24:05,  7.53it/s]\u001b[A\n",
            "  0%|          | 124/3399095 [00:16<125:16:27,  7.54it/s]\u001b[A\n",
            "  0%|          | 125/3399095 [00:16<125:09:13,  7.54it/s]\u001b[A\n",
            "  0%|          | 126/3399095 [00:16<123:24:25,  7.65it/s]\u001b[A\n",
            "  0%|          | 127/3399095 [00:16<126:36:44,  7.46it/s]\u001b[A\n",
            "  0%|          | 128/3399095 [00:17<127:13:46,  7.42it/s]\u001b[A\n",
            "  0%|          | 129/3399095 [00:17<126:38:02,  7.46it/s]\u001b[A\n",
            "  0%|          | 130/3399095 [00:17<125:46:49,  7.51it/s]\u001b[A\n",
            "  0%|          | 131/3399095 [00:17<125:05:35,  7.55it/s]\u001b[A\n",
            "  0%|          | 132/3399095 [00:17<125:45:47,  7.51it/s]\u001b[A\n",
            "  0%|          | 133/3399095 [00:17<124:50:46,  7.56it/s]\u001b[A\n",
            "  0%|          | 134/3399095 [00:17<124:33:26,  7.58it/s]\u001b[A\n",
            "  0%|          | 135/3399095 [00:18<128:03:02,  7.37it/s]\u001b[A\n",
            "  0%|          | 136/3399095 [00:18<126:19:08,  7.47it/s]\u001b[A\n",
            "  0%|          | 137/3399095 [00:18<124:54:47,  7.56it/s]\u001b[A\n",
            "  0%|          | 138/3399095 [00:18<124:35:39,  7.58it/s]\u001b[A\n",
            "  0%|          | 139/3399095 [00:18<124:06:05,  7.61it/s]\u001b[A\n",
            "  0%|          | 140/3399095 [00:18<124:27:12,  7.59it/s]\u001b[A\n",
            "  0%|          | 141/3399095 [00:18<124:39:33,  7.57it/s]\u001b[A\n",
            "  0%|          | 142/3399095 [00:18<125:17:40,  7.54it/s]\u001b[A\n",
            "  0%|          | 143/3399095 [00:19<130:03:14,  7.26it/s]\u001b[A\n",
            "  0%|          | 144/3399095 [00:19<127:34:27,  7.40it/s]\u001b[A\n",
            "  0%|          | 145/3399095 [00:19<125:17:38,  7.54it/s]\u001b[A\n",
            "  0%|          | 146/3399095 [00:19<125:07:26,  7.55it/s]\u001b[A\n",
            "  0%|          | 147/3399095 [00:19<124:21:05,  7.59it/s]\u001b[A\n",
            "  0%|          | 148/3399095 [00:19<123:23:56,  7.65it/s]\u001b[A\n",
            "  0%|          | 149/3399095 [00:19<122:33:40,  7.70it/s]\u001b[A\n",
            "  0%|          | 150/3399095 [00:20<122:53:20,  7.68it/s]\u001b[A\n",
            "  0%|          | 151/3399095 [00:20<126:47:05,  7.45it/s]\u001b[A\n",
            "  0%|          | 152/3399095 [00:20<126:06:12,  7.49it/s]\u001b[A\n",
            "  0%|          | 153/3399095 [00:20<125:27:33,  7.53it/s]\u001b[A\n",
            "  0%|          | 154/3399095 [00:20<125:20:18,  7.53it/s]\u001b[A\n",
            "  0%|          | 155/3399095 [00:20<123:32:47,  7.64it/s]\u001b[A\n",
            "  0%|          | 156/3399095 [00:20<123:13:34,  7.66it/s]\u001b[A\n",
            "  0%|          | 157/3399095 [00:20<122:59:00,  7.68it/s]\u001b[A\n",
            "  0%|          | 158/3399095 [00:21<127:28:55,  7.41it/s]\u001b[A\n",
            "  0%|          | 159/3399095 [00:21<126:46:47,  7.45it/s]\u001b[A\n",
            "  0%|          | 160/3399095 [00:21<125:54:09,  7.50it/s]\u001b[A\n",
            "  0%|          | 161/3399095 [00:21<125:09:02,  7.54it/s]\u001b[A\n",
            "  0%|          | 162/3399095 [00:21<125:05:16,  7.55it/s]\u001b[A\n",
            "  0%|          | 163/3399095 [00:21<124:08:15,  7.61it/s]\u001b[A\n",
            "  0%|          | 164/3399095 [00:21<123:33:43,  7.64it/s]\u001b[A\n",
            "  0%|          | 165/3399095 [00:22<123:41:37,  7.63it/s]\u001b[A\n",
            "  0%|          | 166/3399095 [00:22<126:25:40,  7.47it/s]\u001b[A\n",
            "  0%|          | 167/3399095 [00:22<125:07:03,  7.55it/s]\u001b[A\n",
            "  0%|          | 168/3399095 [00:22<126:22:16,  7.47it/s]\u001b[A\n",
            "  0%|          | 169/3399095 [00:22<124:39:27,  7.57it/s]\u001b[A\n",
            "  0%|          | 170/3399095 [00:22<122:50:18,  7.69it/s]\u001b[A\n",
            "  0%|          | 171/3399095 [00:22<122:49:46,  7.69it/s]\u001b[A\n",
            "  0%|          | 172/3399095 [00:22<123:55:32,  7.62it/s]\u001b[A\n",
            "  0%|          | 173/3399095 [00:23<123:19:07,  7.66it/s]\u001b[A\n",
            "  0%|          | 174/3399095 [00:23<126:11:16,  7.48it/s]\u001b[A\n",
            "  0%|          | 175/3399095 [00:23<125:50:12,  7.50it/s]\u001b[A\n",
            "  0%|          | 176/3399095 [00:23<125:16:11,  7.54it/s]\u001b[A\n",
            "  0%|          | 177/3399095 [00:23<124:12:19,  7.60it/s]\u001b[A\n",
            "  0%|          | 178/3399095 [00:23<123:53:28,  7.62it/s]\u001b[A\n",
            "  0%|          | 179/3399095 [00:23<123:55:09,  7.62it/s]\u001b[A\n",
            "  0%|          | 180/3399095 [00:23<122:47:19,  7.69it/s]\u001b[A\n",
            "  0%|          | 181/3399095 [00:24<121:56:18,  7.74it/s]\u001b[A\n",
            "  0%|          | 182/3399095 [00:24<126:43:19,  7.45it/s]\u001b[A\n",
            "  0%|          | 183/3399095 [00:24<128:15:26,  7.36it/s]\u001b[A\n",
            "  0%|          | 184/3399095 [00:24<126:45:06,  7.45it/s]\u001b[A\n",
            "  0%|          | 185/3399095 [00:24<125:48:47,  7.50it/s]\u001b[A\n",
            "  0%|          | 186/3399095 [00:24<125:03:19,  7.55it/s]\u001b[A\n",
            "  0%|          | 187/3399095 [00:24<125:24:29,  7.53it/s]\u001b[A\n",
            "  0%|          | 188/3399095 [00:25<125:18:39,  7.53it/s]\u001b[A\n",
            "  0%|          | 189/3399095 [00:25<128:27:25,  7.35it/s]\u001b[A\n",
            "  0%|          | 190/3399095 [00:25<128:15:57,  7.36it/s]\u001b[A\n",
            "  0%|          | 191/3399095 [00:25<128:05:07,  7.37it/s]\u001b[A\n",
            "  0%|          | 192/3399095 [00:25<128:09:10,  7.37it/s]\u001b[A\n",
            "  0%|          | 193/3399095 [00:25<126:32:26,  7.46it/s]\u001b[A\n",
            "  0%|          | 194/3399095 [00:25<125:38:23,  7.51it/s]\u001b[A\n",
            "  0%|          | 195/3399095 [00:26<125:08:52,  7.54it/s]\u001b[A\n",
            "  0%|          | 196/3399095 [00:26<124:37:46,  7.58it/s]\u001b[A\n",
            "  0%|          | 197/3399095 [00:26<126:49:24,  7.44it/s]\u001b[A\n",
            "  0%|          | 198/3399095 [00:26<126:08:37,  7.48it/s]\u001b[A\n",
            "  0%|          | 199/3399095 [00:26<125:51:04,  7.50it/s]\u001b[A\n",
            "  0%|          | 200/3399095 [00:26<125:28:14,  7.52it/s]\u001b[A\n",
            "  0%|          | 201/3399095 [00:26<124:49:53,  7.56it/s]\u001b[A\n",
            "  0%|          | 202/3399095 [00:26<125:12:39,  7.54it/s]\u001b[A\n",
            "  0%|          | 203/3399095 [00:27<125:04:15,  7.55it/s]\u001b[A\n",
            "  0%|          | 204/3399095 [00:27<123:43:51,  7.63it/s]\u001b[A\n",
            "  0%|          | 205/3399095 [00:27<127:42:29,  7.39it/s]\u001b[A\n",
            "  0%|          | 206/3399095 [00:27<126:38:49,  7.45it/s]\u001b[A\n",
            "  0%|          | 207/3399095 [00:27<125:33:14,  7.52it/s]\u001b[A\n",
            "  0%|          | 208/3399095 [00:27<126:22:18,  7.47it/s]\u001b[A\n",
            "  0%|          | 209/3399095 [00:27<126:12:58,  7.48it/s]\u001b[A\n",
            "  0%|          | 210/3399095 [00:28<124:24:22,  7.59it/s]\u001b[A\n",
            "  0%|          | 211/3399095 [00:28<125:22:09,  7.53it/s]\u001b[A\n",
            "  0%|          | 212/3399095 [00:28<128:06:06,  7.37it/s]\u001b[A\n",
            "  0%|          | 213/3399095 [00:28<126:55:07,  7.44it/s]\u001b[A\n",
            "  0%|          | 214/3399095 [00:28<126:52:00,  7.44it/s]\u001b[A\n",
            "  0%|          | 215/3399095 [00:28<126:12:37,  7.48it/s]\u001b[A\n",
            "  0%|          | 216/3399095 [00:28<125:27:41,  7.53it/s]\u001b[A\n",
            "  0%|          | 217/3399095 [00:28<124:53:12,  7.56it/s]\u001b[A\n",
            "  0%|          | 218/3399095 [00:29<124:16:43,  7.60it/s]\u001b[A\n",
            "  0%|          | 219/3399095 [00:29<125:22:37,  7.53it/s]\u001b[A\n",
            "  0%|          | 220/3399095 [00:29<127:13:02,  7.42it/s]\u001b[A\n",
            "  0%|          | 221/3399095 [00:29<126:58:54,  7.44it/s]\u001b[A\n",
            "  0%|          | 222/3399095 [00:29<125:59:08,  7.49it/s]\u001b[A\n",
            "  0%|          | 223/3399095 [00:29<127:19:11,  7.42it/s]\u001b[A\n",
            "  0%|          | 224/3399095 [00:29<126:16:29,  7.48it/s]\u001b[A\n",
            "  0%|          | 225/3399095 [00:30<125:10:22,  7.54it/s]\u001b[A\n",
            "  0%|          | 226/3399095 [00:30<125:15:55,  7.54it/s]\u001b[A\n",
            "  0%|          | 227/3399095 [00:30<125:21:48,  7.53it/s]\u001b[A\n",
            "  0%|          | 228/3399095 [00:30<129:02:47,  7.32it/s]\u001b[A\n",
            "  0%|          | 229/3399095 [00:30<126:53:25,  7.44it/s]\u001b[A\n",
            "  0%|          | 230/3399095 [00:30<125:39:57,  7.51it/s]\u001b[A\n",
            "  0%|          | 231/3399095 [00:30<125:14:05,  7.54it/s]\u001b[A\n",
            "  0%|          | 232/3399095 [00:30<123:55:44,  7.62it/s]\u001b[A\n",
            "  0%|          | 233/3399095 [00:31<123:38:51,  7.64it/s]\u001b[A\n",
            "  0%|          | 234/3399095 [00:31<125:09:15,  7.54it/s]\u001b[A\n",
            "  0%|          | 235/3399095 [00:31<128:38:06,  7.34it/s]\u001b[A\n",
            "  0%|          | 236/3399095 [00:31<127:32:05,  7.40it/s]\u001b[A\n",
            "  0%|          | 237/3399095 [00:31<127:04:05,  7.43it/s]\u001b[A\n",
            "  0%|          | 238/3399095 [00:31<126:51:00,  7.44it/s]\u001b[A\n",
            "  0%|          | 239/3399095 [00:31<125:40:36,  7.51it/s]\u001b[A\n",
            "  0%|          | 240/3399095 [00:32<123:58:20,  7.62it/s]\u001b[A\n",
            "  0%|          | 241/3399095 [00:32<123:09:44,  7.67it/s]\u001b[A\n",
            "  0%|          | 242/3399095 [00:32<122:10:09,  7.73it/s]\u001b[A\n",
            "  0%|          | 243/3399095 [00:32<124:27:07,  7.59it/s]\u001b[A\n",
            "  0%|          | 244/3399095 [00:32<123:39:32,  7.63it/s]\u001b[A\n",
            "  0%|          | 245/3399095 [00:32<124:06:15,  7.61it/s]\u001b[A\n",
            "  0%|          | 246/3399095 [00:32<123:22:53,  7.65it/s]\u001b[A\n",
            "  0%|          | 247/3399095 [00:32<122:59:43,  7.68it/s]\u001b[A\n",
            "  0%|          | 248/3399095 [00:33<123:28:56,  7.65it/s]\u001b[A\n",
            "  0%|          | 249/3399095 [00:33<123:24:56,  7.65it/s]\u001b[A\n",
            "  0%|          | 250/3399095 [00:33<123:13:32,  7.66it/s]\u001b[A\n",
            "  0%|          | 251/3399095 [00:33<129:20:24,  7.30it/s]\u001b[A\n",
            "  0%|          | 252/3399095 [00:33<128:12:32,  7.36it/s]\u001b[A\n",
            "  0%|          | 253/3399095 [00:33<129:11:32,  7.31it/s]\u001b[A\n",
            "  0%|          | 254/3399095 [00:33<127:48:56,  7.39it/s]\u001b[A\n",
            "  0%|          | 255/3399095 [00:34<125:52:53,  7.50it/s]\u001b[A\n",
            "  0%|          | 256/3399095 [00:34<124:12:39,  7.60it/s]\u001b[A\n",
            "  0%|          | 257/3399095 [00:34<126:05:08,  7.49it/s]\u001b[A\n",
            "  0%|          | 258/3399095 [00:34<125:42:51,  7.51it/s]\u001b[A\n",
            "  0%|          | 259/3399095 [00:34<128:04:22,  7.37it/s]\u001b[A\n",
            "  0%|          | 260/3399095 [00:34<128:17:04,  7.36it/s]\u001b[A\n",
            "  0%|          | 261/3399095 [00:34<127:11:19,  7.42it/s]\u001b[A\n",
            "  0%|          | 262/3399095 [00:34<124:53:07,  7.56it/s]\u001b[A\n",
            "  0%|          | 263/3399095 [00:35<124:00:09,  7.61it/s]\u001b[A\n",
            "  0%|          | 264/3399095 [00:35<123:46:33,  7.63it/s]\u001b[A\n",
            "  0%|          | 265/3399095 [00:35<124:46:53,  7.57it/s]\u001b[A\n",
            "  0%|          | 266/3399095 [00:35<128:04:21,  7.37it/s]\u001b[A\n",
            "  0%|          | 267/3399095 [00:35<126:18:17,  7.47it/s]\u001b[A\n",
            "  0%|          | 268/3399095 [00:35<126:28:45,  7.46it/s]\u001b[A\n",
            "  0%|          | 269/3399095 [00:35<125:18:09,  7.53it/s]\u001b[A\n",
            "  0%|          | 270/3399095 [00:35<123:43:32,  7.63it/s]\u001b[A\n",
            "  0%|          | 271/3399095 [00:36<123:31:42,  7.64it/s]\u001b[A\n",
            "  0%|          | 272/3399095 [00:36<124:11:34,  7.60it/s]\u001b[A\n",
            "  0%|          | 273/3399095 [00:36<124:02:46,  7.61it/s]\u001b[A\n",
            "  0%|          | 274/3399095 [00:36<126:54:57,  7.44it/s]\u001b[A\n",
            "  0%|          | 275/3399095 [00:36<125:53:59,  7.50it/s]\u001b[A\n",
            "  0%|          | 276/3399095 [00:36<125:53:44,  7.50it/s]\u001b[A\n",
            "  0%|          | 277/3399095 [00:36<126:16:14,  7.48it/s]\u001b[A\n",
            "  0%|          | 278/3399095 [00:37<125:05:01,  7.55it/s]\u001b[A\n",
            "  0%|          | 279/3399095 [00:37<124:31:48,  7.58it/s]\u001b[A\n",
            "  0%|          | 280/3399095 [00:37<124:11:22,  7.60it/s]\u001b[A\n",
            "  0%|          | 281/3399095 [00:37<124:18:18,  7.60it/s]\u001b[A\n",
            "  0%|          | 282/3399095 [00:37<128:07:52,  7.37it/s]\u001b[A\n",
            "  0%|          | 283/3399095 [00:37<126:54:27,  7.44it/s]\u001b[A\n",
            "  0%|          | 284/3399095 [00:37<124:48:42,  7.56it/s]\u001b[A\n",
            "  0%|          | 285/3399095 [00:37<123:52:13,  7.62it/s]\u001b[A\n",
            "  0%|          | 286/3399095 [00:38<124:10:24,  7.60it/s]\u001b[A\n",
            "  0%|          | 287/3399095 [00:38<125:23:38,  7.53it/s]\u001b[A\n",
            "  0%|          | 288/3399095 [00:38<124:28:18,  7.58it/s]\u001b[A\n",
            "  0%|          | 289/3399095 [00:38<122:50:56,  7.69it/s]\u001b[A\n",
            "  0%|          | 290/3399095 [00:38<127:18:13,  7.42it/s]\u001b[A\n",
            "  0%|          | 291/3399095 [00:38<126:45:34,  7.45it/s]\u001b[A\n",
            "  0%|          | 292/3399095 [00:38<126:50:50,  7.44it/s]\u001b[A\n",
            "  0%|          | 293/3399095 [00:39<126:18:39,  7.47it/s]\u001b[A\n",
            "  0%|          | 294/3399095 [00:39<126:25:50,  7.47it/s]\u001b[A\n",
            "  0%|          | 295/3399095 [00:39<125:46:32,  7.51it/s]\u001b[A\n",
            "  0%|          | 296/3399095 [00:39<125:19:37,  7.53it/s]\u001b[A\n",
            "  0%|          | 297/3399095 [00:39<128:41:07,  7.34it/s]\u001b[A\n",
            "  0%|          | 298/3399095 [00:39<126:57:33,  7.44it/s]\u001b[A\n",
            "  0%|          | 299/3399095 [00:39<126:02:24,  7.49it/s]\u001b[A\n",
            "  0%|          | 300/3399095 [00:39<126:38:46,  7.45it/s]\u001b[A\n",
            "  0%|          | 301/3399095 [00:40<125:08:33,  7.54it/s]\u001b[A\n",
            "  0%|          | 302/3399095 [00:40<125:34:49,  7.52it/s]\u001b[A\n",
            "  0%|          | 303/3399095 [00:40<125:08:02,  7.54it/s]\u001b[A\n",
            "  0%|          | 304/3399095 [00:40<125:09:35,  7.54it/s]\u001b[A\n",
            "  0%|          | 305/3399095 [00:40<129:31:37,  7.29it/s]\u001b[A\n",
            "  0%|          | 306/3399095 [00:40<127:21:49,  7.41it/s]\u001b[A\n",
            "  0%|          | 307/3399095 [00:40<126:31:38,  7.46it/s]\u001b[A\n",
            "  0%|          | 308/3399095 [00:41<126:05:48,  7.49it/s]\u001b[A\n",
            "  0%|          | 309/3399095 [00:41<123:47:52,  7.63it/s]\u001b[A\n",
            "  0%|          | 310/3399095 [00:41<124:11:30,  7.60it/s]\u001b[A\n",
            "  0%|          | 311/3399095 [00:41<124:30:40,  7.58it/s]\u001b[A\n",
            "  0%|          | 312/3399095 [00:41<123:54:10,  7.62it/s]\u001b[A\n",
            "  0%|          | 313/3399095 [00:41<127:31:13,  7.40it/s]\u001b[A\n",
            "  0%|          | 314/3399095 [00:41<125:47:09,  7.51it/s]\u001b[A\n",
            "  0%|          | 315/3399095 [00:41<125:18:24,  7.53it/s]\u001b[A\n",
            "  0%|          | 316/3399095 [00:42<125:09:01,  7.54it/s]\u001b[A\n",
            "  0%|          | 317/3399095 [00:42<125:26:41,  7.53it/s]\u001b[A\n",
            "  0%|          | 318/3399095 [00:42<126:32:17,  7.46it/s]\u001b[A\n",
            "  0%|          | 319/3399095 [00:42<125:30:59,  7.52it/s]\u001b[A\n",
            "  0%|          | 320/3399095 [00:42<128:57:23,  7.32it/s]\u001b[A\n",
            "  0%|          | 321/3399095 [00:42<127:28:23,  7.41it/s]\u001b[A\n",
            "  0%|          | 322/3399095 [00:42<126:17:50,  7.48it/s]\u001b[A\n",
            "  0%|          | 323/3399095 [00:43<125:09:38,  7.54it/s]\u001b[A\n",
            "  0%|          | 324/3399095 [00:43<124:43:10,  7.57it/s]\u001b[A\n",
            "  0%|          | 325/3399095 [00:43<125:25:25,  7.53it/s]\u001b[A\n",
            "  0%|          | 326/3399095 [00:43<125:59:54,  7.49it/s]\u001b[A\n",
            "  0%|          | 327/3399095 [00:43<125:38:19,  7.51it/s]\u001b[A\n",
            "  0%|          | 328/3399095 [00:43<127:00:01,  7.43it/s]\u001b[A\n",
            "  0%|          | 329/3399095 [00:43<124:13:15,  7.60it/s]\u001b[A\n",
            "  0%|          | 330/3399095 [00:43<124:38:22,  7.57it/s]\u001b[A\n",
            "  0%|          | 331/3399095 [00:44<124:25:59,  7.59it/s]\u001b[A\n",
            "  0%|          | 332/3399095 [00:44<123:24:49,  7.65it/s]\u001b[A\n",
            "  0%|          | 333/3399095 [00:44<122:55:09,  7.68it/s]\u001b[A\n",
            "  0%|          | 334/3399095 [00:44<122:44:47,  7.69it/s]\u001b[A\n",
            "  0%|          | 335/3399095 [00:44<122:12:38,  7.73it/s]\u001b[A\n",
            "  0%|          | 336/3399095 [00:44<125:14:33,  7.54it/s]\u001b[A\n",
            "  0%|          | 337/3399095 [00:44<125:21:35,  7.53it/s]\u001b[A\n",
            "  0%|          | 338/3399095 [00:45<125:42:05,  7.51it/s]\u001b[A\n",
            "  0%|          | 339/3399095 [00:45<125:41:55,  7.51it/s]\u001b[A\n",
            "  0%|          | 340/3399095 [00:45<126:14:48,  7.48it/s]\u001b[A\n",
            "  0%|          | 341/3399095 [00:45<126:06:39,  7.49it/s]\u001b[A\n",
            "  0%|          | 342/3399095 [00:45<125:21:56,  7.53it/s]\u001b[A\n",
            "  0%|          | 343/3399095 [00:45<125:50:44,  7.50it/s]\u001b[A\n",
            "  0%|          | 344/3399095 [00:45<126:54:06,  7.44it/s]\u001b[A\n",
            "  0%|          | 345/3399095 [00:45<126:21:12,  7.47it/s]\u001b[A\n",
            "  0%|          | 346/3399095 [00:46<125:27:00,  7.53it/s]\u001b[A\n",
            "  0%|          | 347/3399095 [00:46<125:22:09,  7.53it/s]\u001b[A\n",
            "  0%|          | 348/3399095 [00:46<123:57:16,  7.62it/s]\u001b[A\n",
            "  0%|          | 349/3399095 [00:46<124:35:57,  7.58it/s]\u001b[A\n",
            "  0%|          | 350/3399095 [00:46<124:45:07,  7.57it/s]\u001b[A\n",
            "  0%|          | 351/3399095 [00:46<127:50:15,  7.39it/s]\u001b[A\n",
            "  0%|          | 352/3399095 [00:46<125:38:26,  7.51it/s]\u001b[A\n",
            "  0%|          | 353/3399095 [00:47<125:17:38,  7.54it/s]\u001b[A\n",
            "  0%|          | 354/3399095 [00:47<126:29:01,  7.46it/s]\u001b[A\n",
            "  0%|          | 355/3399095 [00:47<128:48:14,  7.33it/s]\u001b[A\n",
            "  0%|          | 356/3399095 [00:47<127:03:23,  7.43it/s]\u001b[A\n",
            "  0%|          | 357/3399095 [00:47<125:04:34,  7.55it/s]\u001b[A\n",
            "  0%|          | 358/3399095 [00:47<124:25:09,  7.59it/s]\u001b[A\n",
            "  0%|          | 359/3399095 [00:47<127:55:05,  7.38it/s]\u001b[A\n",
            "  0%|          | 360/3399095 [00:47<127:11:52,  7.42it/s]\u001b[A\n",
            "  0%|          | 361/3399095 [00:48<126:28:53,  7.46it/s]\u001b[A\n",
            "  0%|          | 362/3399095 [00:48<127:39:30,  7.40it/s]\u001b[A\n",
            "  0%|          | 363/3399095 [00:48<127:02:03,  7.43it/s]\u001b[A\n",
            "  0%|          | 364/3399095 [00:48<125:14:11,  7.54it/s]\u001b[A\n",
            "  0%|          | 365/3399095 [00:48<125:10:09,  7.54it/s]\u001b[A\n",
            "  0%|          | 366/3399095 [00:48<124:55:10,  7.56it/s]\u001b[A\n",
            "  0%|          | 367/3399095 [00:48<126:15:39,  7.48it/s]\u001b[A\n",
            "  0%|          | 368/3399095 [00:49<125:21:41,  7.53it/s]\u001b[A\n",
            "  0%|          | 369/3399095 [00:49<124:26:37,  7.59it/s]\u001b[A\n",
            "  0%|          | 370/3399095 [00:49<126:28:50,  7.46it/s]\u001b[A\n",
            "  0%|          | 371/3399095 [00:49<125:26:23,  7.53it/s]\u001b[A\n",
            "  0%|          | 372/3399095 [00:49<125:27:52,  7.52it/s]\u001b[A\n",
            "  0%|          | 373/3399095 [00:49<125:22:22,  7.53it/s]\u001b[A"
          ],
          "name": "stderr"
        },
        {
          "output_type": "error",
          "ename": "KeyboardInterrupt",
          "evalue": "ignored",
          "traceback": [
            "\u001b[0;31m---------------------------------------------------------------------------\u001b[0m",
            "\u001b[0;31mKeyboardInterrupt\u001b[0m                         Traceback (most recent call last)",
            "\u001b[0;32m<ipython-input-72-e96e13c12aa2>\u001b[0m in \u001b[0;36m<module>\u001b[0;34m()\u001b[0m\n\u001b[1;32m      6\u001b[0m \u001b[0;34m\u001b[0m\u001b[0m\n\u001b[1;32m      7\u001b[0m \u001b[0;32mfor\u001b[0m \u001b[0mi\u001b[0m \u001b[0;32min\u001b[0m \u001b[0mtqdm\u001b[0m\u001b[0;34m(\u001b[0m\u001b[0mrange\u001b[0m\u001b[0;34m(\u001b[0m\u001b[0mX\u001b[0m\u001b[0;34m.\u001b[0m\u001b[0mshape\u001b[0m\u001b[0;34m[\u001b[0m\u001b[0;36m0\u001b[0m\u001b[0;34m]\u001b[0m\u001b[0;34m)\u001b[0m\u001b[0;34m)\u001b[0m\u001b[0;34m:\u001b[0m\u001b[0;34m\u001b[0m\u001b[0;34m\u001b[0m\u001b[0m\n\u001b[0;32m----> 8\u001b[0;31m   \u001b[0mX_gen\u001b[0m\u001b[0;34m[\u001b[0m\u001b[0mi\u001b[0m\u001b[0;34m]\u001b[0m \u001b[0;34m=\u001b[0m \u001b[0mget_em\u001b[0m\u001b[0;34m(\u001b[0m\u001b[0mnp\u001b[0m\u001b[0;34m.\u001b[0m\u001b[0marray\u001b[0m\u001b[0;34m(\u001b[0m\u001b[0mX\u001b[0m\u001b[0;34m[\u001b[0m\u001b[0mi\u001b[0m\u001b[0;34m]\u001b[0m\u001b[0;34m)\u001b[0m\u001b[0;34m.\u001b[0m\u001b[0mreshape\u001b[0m\u001b[0;34m(\u001b[0m\u001b[0mmaxlen\u001b[0m\u001b[0;34m,\u001b[0m\u001b[0;36m1\u001b[0m\u001b[0;34m)\u001b[0m\u001b[0;34m)\u001b[0m\u001b[0;34m\u001b[0m\u001b[0;34m\u001b[0m\u001b[0m\n\u001b[0m\u001b[1;32m      9\u001b[0m \u001b[0;34m\u001b[0m\u001b[0m\n\u001b[1;32m     10\u001b[0m \u001b[0;34m\u001b[0m\u001b[0m\n",
            "\u001b[0;32m<ipython-input-72-e96e13c12aa2>\u001b[0m in \u001b[0;36mget_em\u001b[0;34m(x)\u001b[0m\n\u001b[1;32m      1\u001b[0m \u001b[0;32mdef\u001b[0m \u001b[0mget_em\u001b[0m\u001b[0;34m(\u001b[0m\u001b[0mx\u001b[0m\u001b[0;34m)\u001b[0m\u001b[0;34m:\u001b[0m\u001b[0;34m\u001b[0m\u001b[0;34m\u001b[0m\u001b[0m\n\u001b[1;32m      2\u001b[0m  \u001b[0;31m# print(x.shape)\u001b[0m\u001b[0;34m\u001b[0m\u001b[0;34m\u001b[0m\u001b[0;34m\u001b[0m\u001b[0m\n\u001b[0;32m----> 3\u001b[0;31m   \u001b[0;32mreturn\u001b[0m \u001b[0mnp\u001b[0m\u001b[0;34m.\u001b[0m\u001b[0marray\u001b[0m\u001b[0;34m(\u001b[0m\u001b[0;34m[\u001b[0m\u001b[0mencoder\u001b[0m\u001b[0;34m.\u001b[0m\u001b[0mpredict\u001b[0m\u001b[0;34m(\u001b[0m\u001b[0mX_cat\u001b[0m\u001b[0;34m[\u001b[0m\u001b[0mnp\u001b[0m\u001b[0;34m.\u001b[0m\u001b[0mnewaxis\u001b[0m\u001b[0;34m,\u001b[0m \u001b[0mel\u001b[0m\u001b[0;34m[\u001b[0m\u001b[0;36m0\u001b[0m\u001b[0;34m]\u001b[0m\u001b[0;34m]\u001b[0m\u001b[0;34m)\u001b[0m\u001b[0;34m.\u001b[0m\u001b[0mtolist\u001b[0m\u001b[0;34m(\u001b[0m\u001b[0;34m)\u001b[0m \u001b[0;32mfor\u001b[0m \u001b[0mel\u001b[0m \u001b[0;32min\u001b[0m \u001b[0mx\u001b[0m\u001b[0;34m]\u001b[0m\u001b[0;34m)\u001b[0m\u001b[0;34m.\u001b[0m\u001b[0mreshape\u001b[0m\u001b[0;34m(\u001b[0m\u001b[0;34m-\u001b[0m\u001b[0;36m1\u001b[0m\u001b[0;34m,\u001b[0m\u001b[0;36m20\u001b[0m\u001b[0;34m)\u001b[0m\u001b[0;34m\u001b[0m\u001b[0;34m\u001b[0m\u001b[0m\n\u001b[0m\u001b[1;32m      4\u001b[0m \u001b[0;34m\u001b[0m\u001b[0m\n\u001b[1;32m      5\u001b[0m \u001b[0mX_gen\u001b[0m \u001b[0;34m=\u001b[0m \u001b[0mnp\u001b[0m\u001b[0;34m.\u001b[0m\u001b[0mzeros\u001b[0m\u001b[0;34m(\u001b[0m\u001b[0;34m(\u001b[0m\u001b[0mint\u001b[0m\u001b[0;34m(\u001b[0m\u001b[0mX\u001b[0m\u001b[0;34m.\u001b[0m\u001b[0mshape\u001b[0m\u001b[0;34m[\u001b[0m\u001b[0;36m0\u001b[0m\u001b[0;34m]\u001b[0m\u001b[0;34m/\u001b[0m\u001b[0;36m2\u001b[0m\u001b[0;34m)\u001b[0m\u001b[0;34m,\u001b[0m\u001b[0mmaxlen\u001b[0m\u001b[0;34m,\u001b[0m\u001b[0;36m20\u001b[0m\u001b[0;34m)\u001b[0m\u001b[0;34m)\u001b[0m\u001b[0;34m\u001b[0m\u001b[0;34m\u001b[0m\u001b[0m\n",
            "\u001b[0;32m<ipython-input-72-e96e13c12aa2>\u001b[0m in \u001b[0;36m<listcomp>\u001b[0;34m(.0)\u001b[0m\n\u001b[1;32m      1\u001b[0m \u001b[0;32mdef\u001b[0m \u001b[0mget_em\u001b[0m\u001b[0;34m(\u001b[0m\u001b[0mx\u001b[0m\u001b[0;34m)\u001b[0m\u001b[0;34m:\u001b[0m\u001b[0;34m\u001b[0m\u001b[0;34m\u001b[0m\u001b[0m\n\u001b[1;32m      2\u001b[0m  \u001b[0;31m# print(x.shape)\u001b[0m\u001b[0;34m\u001b[0m\u001b[0;34m\u001b[0m\u001b[0;34m\u001b[0m\u001b[0m\n\u001b[0;32m----> 3\u001b[0;31m   \u001b[0;32mreturn\u001b[0m \u001b[0mnp\u001b[0m\u001b[0;34m.\u001b[0m\u001b[0marray\u001b[0m\u001b[0;34m(\u001b[0m\u001b[0;34m[\u001b[0m\u001b[0mencoder\u001b[0m\u001b[0;34m.\u001b[0m\u001b[0mpredict\u001b[0m\u001b[0;34m(\u001b[0m\u001b[0mX_cat\u001b[0m\u001b[0;34m[\u001b[0m\u001b[0mnp\u001b[0m\u001b[0;34m.\u001b[0m\u001b[0mnewaxis\u001b[0m\u001b[0;34m,\u001b[0m \u001b[0mel\u001b[0m\u001b[0;34m[\u001b[0m\u001b[0;36m0\u001b[0m\u001b[0;34m]\u001b[0m\u001b[0;34m]\u001b[0m\u001b[0;34m)\u001b[0m\u001b[0;34m.\u001b[0m\u001b[0mtolist\u001b[0m\u001b[0;34m(\u001b[0m\u001b[0;34m)\u001b[0m \u001b[0;32mfor\u001b[0m \u001b[0mel\u001b[0m \u001b[0;32min\u001b[0m \u001b[0mx\u001b[0m\u001b[0;34m]\u001b[0m\u001b[0;34m)\u001b[0m\u001b[0;34m.\u001b[0m\u001b[0mreshape\u001b[0m\u001b[0;34m(\u001b[0m\u001b[0;34m-\u001b[0m\u001b[0;36m1\u001b[0m\u001b[0;34m,\u001b[0m\u001b[0;36m20\u001b[0m\u001b[0;34m)\u001b[0m\u001b[0;34m\u001b[0m\u001b[0;34m\u001b[0m\u001b[0m\n\u001b[0m\u001b[1;32m      4\u001b[0m \u001b[0;34m\u001b[0m\u001b[0m\n\u001b[1;32m      5\u001b[0m \u001b[0mX_gen\u001b[0m \u001b[0;34m=\u001b[0m \u001b[0mnp\u001b[0m\u001b[0;34m.\u001b[0m\u001b[0mzeros\u001b[0m\u001b[0;34m(\u001b[0m\u001b[0;34m(\u001b[0m\u001b[0mint\u001b[0m\u001b[0;34m(\u001b[0m\u001b[0mX\u001b[0m\u001b[0;34m.\u001b[0m\u001b[0mshape\u001b[0m\u001b[0;34m[\u001b[0m\u001b[0;36m0\u001b[0m\u001b[0;34m]\u001b[0m\u001b[0;34m/\u001b[0m\u001b[0;36m2\u001b[0m\u001b[0;34m)\u001b[0m\u001b[0;34m,\u001b[0m\u001b[0mmaxlen\u001b[0m\u001b[0;34m,\u001b[0m\u001b[0;36m20\u001b[0m\u001b[0;34m)\u001b[0m\u001b[0;34m)\u001b[0m\u001b[0;34m\u001b[0m\u001b[0;34m\u001b[0m\u001b[0m\n",
            "\u001b[0;32m/usr/local/lib/python3.6/dist-packages/keras/engine/training.py\u001b[0m in \u001b[0;36mpredict\u001b[0;34m(self, x, batch_size, verbose, steps)\u001b[0m\n\u001b[1;32m   1167\u001b[0m                                             \u001b[0mbatch_size\u001b[0m\u001b[0;34m=\u001b[0m\u001b[0mbatch_size\u001b[0m\u001b[0;34m,\u001b[0m\u001b[0;34m\u001b[0m\u001b[0;34m\u001b[0m\u001b[0m\n\u001b[1;32m   1168\u001b[0m                                             \u001b[0mverbose\u001b[0m\u001b[0;34m=\u001b[0m\u001b[0mverbose\u001b[0m\u001b[0;34m,\u001b[0m\u001b[0;34m\u001b[0m\u001b[0;34m\u001b[0m\u001b[0m\n\u001b[0;32m-> 1169\u001b[0;31m                                             steps=steps)\n\u001b[0m\u001b[1;32m   1170\u001b[0m \u001b[0;34m\u001b[0m\u001b[0m\n\u001b[1;32m   1171\u001b[0m     def train_on_batch(self, x, y,\n",
            "\u001b[0;32m/usr/local/lib/python3.6/dist-packages/keras/engine/training_arrays.py\u001b[0m in \u001b[0;36mpredict_loop\u001b[0;34m(model, f, ins, batch_size, verbose, steps)\u001b[0m\n\u001b[1;32m    292\u001b[0m                 \u001b[0mins_batch\u001b[0m\u001b[0;34m[\u001b[0m\u001b[0mi\u001b[0m\u001b[0;34m]\u001b[0m \u001b[0;34m=\u001b[0m \u001b[0mins_batch\u001b[0m\u001b[0;34m[\u001b[0m\u001b[0mi\u001b[0m\u001b[0;34m]\u001b[0m\u001b[0;34m.\u001b[0m\u001b[0mtoarray\u001b[0m\u001b[0;34m(\u001b[0m\u001b[0;34m)\u001b[0m\u001b[0;34m\u001b[0m\u001b[0;34m\u001b[0m\u001b[0m\n\u001b[1;32m    293\u001b[0m \u001b[0;34m\u001b[0m\u001b[0m\n\u001b[0;32m--> 294\u001b[0;31m             \u001b[0mbatch_outs\u001b[0m \u001b[0;34m=\u001b[0m \u001b[0mf\u001b[0m\u001b[0;34m(\u001b[0m\u001b[0mins_batch\u001b[0m\u001b[0;34m)\u001b[0m\u001b[0;34m\u001b[0m\u001b[0;34m\u001b[0m\u001b[0m\n\u001b[0m\u001b[1;32m    295\u001b[0m             \u001b[0mbatch_outs\u001b[0m \u001b[0;34m=\u001b[0m \u001b[0mto_list\u001b[0m\u001b[0;34m(\u001b[0m\u001b[0mbatch_outs\u001b[0m\u001b[0;34m)\u001b[0m\u001b[0;34m\u001b[0m\u001b[0;34m\u001b[0m\u001b[0m\n\u001b[1;32m    296\u001b[0m             \u001b[0;32mif\u001b[0m \u001b[0mbatch_index\u001b[0m \u001b[0;34m==\u001b[0m \u001b[0;36m0\u001b[0m\u001b[0;34m:\u001b[0m\u001b[0;34m\u001b[0m\u001b[0;34m\u001b[0m\u001b[0m\n",
            "\u001b[0;32m/usr/local/lib/python3.6/dist-packages/keras/backend/tensorflow_backend.py\u001b[0m in \u001b[0;36m__call__\u001b[0;34m(self, inputs)\u001b[0m\n\u001b[1;32m   2713\u001b[0m                 \u001b[0;32mreturn\u001b[0m \u001b[0mself\u001b[0m\u001b[0;34m.\u001b[0m\u001b[0m_legacy_call\u001b[0m\u001b[0;34m(\u001b[0m\u001b[0minputs\u001b[0m\u001b[0;34m)\u001b[0m\u001b[0;34m\u001b[0m\u001b[0;34m\u001b[0m\u001b[0m\n\u001b[1;32m   2714\u001b[0m \u001b[0;34m\u001b[0m\u001b[0m\n\u001b[0;32m-> 2715\u001b[0;31m             \u001b[0;32mreturn\u001b[0m \u001b[0mself\u001b[0m\u001b[0;34m.\u001b[0m\u001b[0m_call\u001b[0m\u001b[0;34m(\u001b[0m\u001b[0minputs\u001b[0m\u001b[0;34m)\u001b[0m\u001b[0;34m\u001b[0m\u001b[0;34m\u001b[0m\u001b[0m\n\u001b[0m\u001b[1;32m   2716\u001b[0m         \u001b[0;32melse\u001b[0m\u001b[0;34m:\u001b[0m\u001b[0;34m\u001b[0m\u001b[0;34m\u001b[0m\u001b[0m\n\u001b[1;32m   2717\u001b[0m             \u001b[0;32mif\u001b[0m \u001b[0mpy_any\u001b[0m\u001b[0;34m(\u001b[0m\u001b[0mis_tensor\u001b[0m\u001b[0;34m(\u001b[0m\u001b[0mx\u001b[0m\u001b[0;34m)\u001b[0m \u001b[0;32mfor\u001b[0m \u001b[0mx\u001b[0m \u001b[0;32min\u001b[0m \u001b[0minputs\u001b[0m\u001b[0;34m)\u001b[0m\u001b[0;34m:\u001b[0m\u001b[0;34m\u001b[0m\u001b[0;34m\u001b[0m\u001b[0m\n",
            "\u001b[0;32m/usr/local/lib/python3.6/dist-packages/keras/backend/tensorflow_backend.py\u001b[0m in \u001b[0;36m_call\u001b[0;34m(self, inputs)\u001b[0m\n\u001b[1;32m   2673\u001b[0m             \u001b[0mfetched\u001b[0m \u001b[0;34m=\u001b[0m \u001b[0mself\u001b[0m\u001b[0;34m.\u001b[0m\u001b[0m_callable_fn\u001b[0m\u001b[0;34m(\u001b[0m\u001b[0;34m*\u001b[0m\u001b[0marray_vals\u001b[0m\u001b[0;34m,\u001b[0m \u001b[0mrun_metadata\u001b[0m\u001b[0;34m=\u001b[0m\u001b[0mself\u001b[0m\u001b[0;34m.\u001b[0m\u001b[0mrun_metadata\u001b[0m\u001b[0;34m)\u001b[0m\u001b[0;34m\u001b[0m\u001b[0;34m\u001b[0m\u001b[0m\n\u001b[1;32m   2674\u001b[0m         \u001b[0;32melse\u001b[0m\u001b[0;34m:\u001b[0m\u001b[0;34m\u001b[0m\u001b[0;34m\u001b[0m\u001b[0m\n\u001b[0;32m-> 2675\u001b[0;31m             \u001b[0mfetched\u001b[0m \u001b[0;34m=\u001b[0m \u001b[0mself\u001b[0m\u001b[0;34m.\u001b[0m\u001b[0m_callable_fn\u001b[0m\u001b[0;34m(\u001b[0m\u001b[0;34m*\u001b[0m\u001b[0marray_vals\u001b[0m\u001b[0;34m)\u001b[0m\u001b[0;34m\u001b[0m\u001b[0;34m\u001b[0m\u001b[0m\n\u001b[0m\u001b[1;32m   2676\u001b[0m         \u001b[0;32mreturn\u001b[0m \u001b[0mfetched\u001b[0m\u001b[0;34m[\u001b[0m\u001b[0;34m:\u001b[0m\u001b[0mlen\u001b[0m\u001b[0;34m(\u001b[0m\u001b[0mself\u001b[0m\u001b[0;34m.\u001b[0m\u001b[0moutputs\u001b[0m\u001b[0;34m)\u001b[0m\u001b[0;34m]\u001b[0m\u001b[0;34m\u001b[0m\u001b[0;34m\u001b[0m\u001b[0m\n\u001b[1;32m   2677\u001b[0m \u001b[0;34m\u001b[0m\u001b[0m\n",
            "\u001b[0;32m/usr/local/lib/python3.6/dist-packages/tensorflow/python/client/session.py\u001b[0m in \u001b[0;36m__call__\u001b[0;34m(self, *args, **kwargs)\u001b[0m\n\u001b[1;32m   1437\u001b[0m           ret = tf_session.TF_SessionRunCallable(\n\u001b[1;32m   1438\u001b[0m               \u001b[0mself\u001b[0m\u001b[0;34m.\u001b[0m\u001b[0m_session\u001b[0m\u001b[0;34m.\u001b[0m\u001b[0m_session\u001b[0m\u001b[0;34m,\u001b[0m \u001b[0mself\u001b[0m\u001b[0;34m.\u001b[0m\u001b[0m_handle\u001b[0m\u001b[0;34m,\u001b[0m \u001b[0margs\u001b[0m\u001b[0;34m,\u001b[0m \u001b[0mstatus\u001b[0m\u001b[0;34m,\u001b[0m\u001b[0;34m\u001b[0m\u001b[0;34m\u001b[0m\u001b[0m\n\u001b[0;32m-> 1439\u001b[0;31m               run_metadata_ptr)\n\u001b[0m\u001b[1;32m   1440\u001b[0m         \u001b[0;32mif\u001b[0m \u001b[0mrun_metadata\u001b[0m\u001b[0;34m:\u001b[0m\u001b[0;34m\u001b[0m\u001b[0;34m\u001b[0m\u001b[0m\n\u001b[1;32m   1441\u001b[0m           \u001b[0mproto_data\u001b[0m \u001b[0;34m=\u001b[0m \u001b[0mtf_session\u001b[0m\u001b[0;34m.\u001b[0m\u001b[0mTF_GetBuffer\u001b[0m\u001b[0;34m(\u001b[0m\u001b[0mrun_metadata_ptr\u001b[0m\u001b[0;34m)\u001b[0m\u001b[0;34m\u001b[0m\u001b[0;34m\u001b[0m\u001b[0m\n",
            "\u001b[0;31mKeyboardInterrupt\u001b[0m: "
          ]
        }
      ]
    },
    {
      "cell_type": "code",
      "metadata": {
        "id": "Cme1GS7pJ2xr",
        "colab_type": "code",
        "outputId": "96cf99aa-4515-4761-c4fc-0bd4d426d356",
        "colab": {
          "base_uri": "https://localhost:8080/",
          "height": 35
        }
      },
      "source": [
        "#encoder.predict()\n",
        "def tem_func(x):\n",
        " # print(cat_to_el[x])\n",
        "  return X_cat[cat_to_el[x]]\n",
        "  \n",
        "\n",
        "\n",
        "temp_seq\n",
        "#X_cat.shape\n",
        "#x[0]\n",
        "del temp_seq\n",
        "gc.collect()\n"
      ],
      "execution_count": 0,
      "outputs": [
        {
          "output_type": "execute_result",
          "data": {
            "text/plain": [
              "41"
            ]
          },
          "metadata": {
            "tags": []
          },
          "execution_count": 74
        }
      ]
    },
    {
      "cell_type": "code",
      "metadata": {
        "id": "82O1ehkpJxao",
        "colab_type": "code",
        "outputId": "92ec2d29-c62d-4d17-b6ef-e534d781a7f2",
        "colab": {
          "base_uri": "https://localhost:8080/",
          "height": 135
        }
      },
      "source": [
        "encoder.predict(X_cat[np.newaxis, el[0]]).tolist() for el in x"
      ],
      "execution_count": 0,
      "outputs": [
        {
          "output_type": "error",
          "ename": "SyntaxError",
          "evalue": "ignored",
          "traceback": [
            "\u001b[0;36m  File \u001b[0;32m\"<ipython-input-75-c60dadc02274>\"\u001b[0;36m, line \u001b[0;32m1\u001b[0m\n\u001b[0;31m    encoder.predict(X_cat[np.newaxis, el[0]]).tolist() for el in x\u001b[0m\n\u001b[0m                                                         ^\u001b[0m\n\u001b[0;31mSyntaxError\u001b[0m\u001b[0;31m:\u001b[0m invalid syntax\n"
          ]
        }
      ]
    },
    {
      "cell_type": "code",
      "metadata": {
        "id": "pVzhsozNQuM2",
        "colab_type": "code",
        "outputId": "ce594c52-3272-404b-bf57-df91b4288732",
        "colab": {
          "base_uri": "https://localhost:8080/",
          "height": 341
        }
      },
      "source": [
        "x[0]"
      ],
      "execution_count": 0,
      "outputs": [
        {
          "output_type": "execute_result",
          "data": {
            "text/plain": [
              "array([[6934],\n",
              "       [4558],\n",
              "       [7572],\n",
              "       [6029],\n",
              "       [2607],\n",
              "       [3448],\n",
              "       [5447],\n",
              "       [1806],\n",
              "       [5096],\n",
              "       [6635],\n",
              "       [4163],\n",
              "       [5711],\n",
              "       [3865],\n",
              "       [8119],\n",
              "       [3315],\n",
              "       [  43],\n",
              "       [6314],\n",
              "       [3069]])"
            ]
          },
          "metadata": {
            "tags": []
          },
          "execution_count": 76
        }
      ]
    },
    {
      "cell_type": "code",
      "metadata": {
        "id": "quhDPl5-9ohD",
        "colab_type": "code",
        "outputId": "d7ea962b-fd7b-4dd0-b142-0848cca08342",
        "colab": {
          "base_uri": "https://localhost:8080/",
          "height": 433
        }
      },
      "source": [
        "model_gen = lstm129()\n",
        "model_gen.fit(X_gen[:500], y[:500], batch_size=2048, epochs=10, verbose=True, validation_split=0.01, shuffle=True)"
      ],
      "execution_count": 0,
      "outputs": [
        {
          "output_type": "stream",
          "text": [
            "Train on 495 samples, validate on 5 samples\n",
            "Epoch 1/10\n",
            "495/495 [==============================] - 3s 6ms/step - loss: 9.2336 - sparse_categorical_accuracy: 0.0000e+00 - val_loss: 9.0932 - val_sparse_categorical_accuracy: 0.0000e+00\n",
            "Epoch 2/10\n",
            "495/495 [==============================] - 0s 88us/step - loss: 9.0031 - sparse_categorical_accuracy: 0.0061 - val_loss: 8.9147 - val_sparse_categorical_accuracy: 0.0000e+00\n",
            "Epoch 3/10\n",
            "495/495 [==============================] - 0s 75us/step - loss: 8.6950 - sparse_categorical_accuracy: 0.0081 - val_loss: 8.6659 - val_sparse_categorical_accuracy: 0.0000e+00\n",
            "Epoch 4/10\n",
            "495/495 [==============================] - 0s 79us/step - loss: 8.2622 - sparse_categorical_accuracy: 0.0061 - val_loss: 8.3672 - val_sparse_categorical_accuracy: 0.0000e+00\n",
            "Epoch 5/10\n",
            "495/495 [==============================] - 0s 77us/step - loss: 7.7199 - sparse_categorical_accuracy: 0.0081 - val_loss: 8.1091 - val_sparse_categorical_accuracy: 0.0000e+00\n",
            "Epoch 6/10\n",
            "495/495 [==============================] - 0s 83us/step - loss: 7.1999 - sparse_categorical_accuracy: 0.0061 - val_loss: 7.9588 - val_sparse_categorical_accuracy: 0.0000e+00\n",
            "Epoch 7/10\n",
            "495/495 [==============================] - 0s 67us/step - loss: 6.8104 - sparse_categorical_accuracy: 0.0081 - val_loss: 7.8973 - val_sparse_categorical_accuracy: 0.0000e+00\n",
            "Epoch 8/10\n",
            "495/495 [==============================] - 0s 74us/step - loss: 6.5691 - sparse_categorical_accuracy: 0.0081 - val_loss: 7.8761 - val_sparse_categorical_accuracy: 0.0000e+00\n",
            "Epoch 9/10\n",
            "495/495 [==============================] - 0s 71us/step - loss: 6.4163 - sparse_categorical_accuracy: 0.0081 - val_loss: 7.8715 - val_sparse_categorical_accuracy: 0.0000e+00\n",
            "Epoch 10/10\n",
            "495/495 [==============================] - 0s 68us/step - loss: 6.3155 - sparse_categorical_accuracy: 0.0081 - val_loss: 7.8780 - val_sparse_categorical_accuracy: 0.0000e+00\n"
          ],
          "name": "stdout"
        },
        {
          "output_type": "execute_result",
          "data": {
            "text/plain": [
              "<keras.callbacks.History at 0x7fb0abe4bc88>"
            ]
          },
          "metadata": {
            "tags": []
          },
          "execution_count": 35
        }
      ]
    },
    {
      "cell_type": "code",
      "metadata": {
        "id": "45np_uch_oRv",
        "colab_type": "code",
        "colab": {}
      },
      "source": [
        ""
      ],
      "execution_count": 0,
      "outputs": []
    },
    {
      "cell_type": "code",
      "metadata": {
        "id": "jKdswlsP9x4f",
        "colab_type": "code",
        "colab": {}
      },
      "source": [
        ""
      ],
      "execution_count": 0,
      "outputs": []
    },
    {
      "cell_type": "code",
      "metadata": {
        "id": "sAJG-Mop9kOq",
        "colab_type": "code",
        "colab": {}
      },
      "source": [
        ""
      ],
      "execution_count": 0,
      "outputs": []
    },
    {
      "cell_type": "code",
      "metadata": {
        "id": "p0V_37cA9hN4",
        "colab_type": "code",
        "colab": {}
      },
      "source": [
        ""
      ],
      "execution_count": 0,
      "outputs": []
    },
    {
      "cell_type": "code",
      "metadata": {
        "id": "TSHnhUbw9GSP",
        "colab_type": "code",
        "colab": {}
      },
      "source": [
        ""
      ],
      "execution_count": 0,
      "outputs": []
    }
  ]
}