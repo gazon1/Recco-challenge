{
  "nbformat": 4,
  "nbformat_minor": 0,
  "metadata": {
    "colab": {
      "name": "baseline.ipynb",
      "version": "0.3.2",
      "provenance": [],
      "collapsed_sections": [],
      "include_colab_link": true
    },
    "kernelspec": {
      "display_name": "Python 3",
      "language": "python",
      "name": "python3"
    }
  },
  "cells": [
    {
      "cell_type": "markdown",
      "metadata": {
        "id": "view-in-github",
        "colab_type": "text"
      },
      "source": [
        "<a href=\"https://colab.research.google.com/github/gazon1/Recco-challenge/blob/master/baseline.ipynb\" target=\"_parent\"><img src=\"https://colab.research.google.com/assets/colab-badge.svg\" alt=\"Open In Colab\"/></a>"
      ]
    },
    {
      "cell_type": "markdown",
      "metadata": {
        "id": "gly_24bqgYEB",
        "colab_type": "text"
      },
      "source": [
        "from sklearn.metrics import # Rekko challenge 2019\n",
        "\n",
        "```\n",
        "                           /$$$$$$$  /$$$$$$$$ /$$   /$$ /$$   /$$  /$$$$$$ \n",
        "                          | $$__  $$| $$_____/| $$  /$$/| $$  /$$/ /$$__  $$\n",
        "                          | $$  \\ $$| $$      | $$ /$$/ | $$ /$$/ | $$  \\ $$\n",
        "                          | $$$$$$$/| $$$$$   | $$$$$/  | $$$$$/  | $$  | $$\n",
        "                          | $$__  $$| $$__/   | $$  $$  | $$  $$  | $$  | $$\n",
        "                          | $$  \\ $$| $$      | $$\\  $$ | $$\\  $$ | $$  | $$\n",
        "                          | $$  | $$| $$$$$$$$| $$ \\  $$| $$ \\  $$|  $$$$$$/\n",
        "                          |__/  |__/|________/|__/  \\__/|__/  \\__/ \\______/ \n",
        "                                                                            \n",
        "```"
      ]
    },
    {
      "cell_type": "markdown",
      "metadata": {
        "id": "P5c3Bz9BgYEI",
        "colab_type": "text"
      },
      "source": [
        "Добро пожаловать на соревнование по машинному обучению от онлайн-кинотеатра [Okko](http://okko.tv) Rekko Challenge 2019.\n",
        "\n",
        "В этом ноутбуке мы покажем вам пример простого но полного решения, от загрузки данных до формирования ответа. Для работы нам понадобятся библиотеки `pandas`, `numpy`, `scipy`, `implicit`, `pprint`, `tqdm`. Установить их в вашем рабочем окружении можно следующей командой.\n",
        "```\n",
        "pip install pandas numpy scipy implicit pprint tqdm\n",
        "```"
      ]
    },
    {
      "cell_type": "code",
      "metadata": {
        "id": "L9ZqWVchgYEN",
        "colab_type": "code",
        "outputId": "fbb9e12d-5263-406d-8c68-bfcb24f3334d",
        "colab": {
          "base_uri": "https://localhost:8080/",
          "height": 34
        }
      },
      "source": [
        "import os\n",
        "import json\n",
        "import pandas as pd\n",
        "import numpy as np\n",
        "import tqdm\n",
        "import scipy.sparse as sp\n",
        "from sklearn.metrics import average_precision_score as score\n",
        "\n",
        "from pprint import pprint\n",
        "from google.colab import drive\n",
        "drive.mount('/content/gdrive')"
      ],
      "execution_count": 0,
      "outputs": [
        {
          "output_type": "stream",
          "text": [
            "Drive already mounted at /content/gdrive; to attempt to forcibly remount, call drive.mount(\"/content/gdrive\", force_remount=True).\n"
          ],
          "name": "stdout"
        }
      ]
    },
    {
      "cell_type": "code",
      "metadata": {
        "id": "G_8t9V448z6H",
        "colab_type": "code",
        "outputId": "a99e5dba-107b-4ebd-8b56-e53b0d11f42c",
        "colab": {
          "base_uri": "https://localhost:8080/",
          "height": 225
        }
      },
      "source": [
        "!pip3 install implicit"
      ],
      "execution_count": 0,
      "outputs": [
        {
          "output_type": "stream",
          "text": [
            "Collecting implicit\n",
            "\u001b[?25l  Downloading https://files.pythonhosted.org/packages/2e/d3/162237c5b41bef34faf5fce513535bc84808113dd3b2497c2437222a9bfc/implicit-0.3.8.tar.gz (783kB)\n",
            "\u001b[K    100% |████████████████████████████████| 788kB 9.5MB/s \n",
            "\u001b[?25hRequirement already satisfied: numpy in /usr/local/lib/python3.6/dist-packages (from implicit) (1.14.6)\n",
            "Requirement already satisfied: scipy>=0.16 in /usr/local/lib/python3.6/dist-packages (from implicit) (1.1.0)\n",
            "Requirement already satisfied: tqdm in /usr/local/lib/python3.6/dist-packages (from implicit) (4.28.1)\n",
            "Building wheels for collected packages: implicit\n",
            "  Building wheel for implicit (setup.py) ... \u001b[?25ldone\n",
            "\u001b[?25h  Stored in directory: /root/.cache/pip/wheels/16/6c/e7/54f2a48bd3bd8a90f5b456a3e7b2ee687e111dbe25fc9fbf9d\n",
            "Successfully built implicit\n",
            "Installing collected packages: implicit\n",
            "Successfully installed implicit-0.3.8\n"
          ],
          "name": "stdout"
        }
      ]
    },
    {
      "cell_type": "markdown",
      "metadata": {
        "id": "Vsbu4E36gYEf",
        "colab_type": "text"
      },
      "source": [
        "### Загрузка данных"
      ]
    },
    {
      "cell_type": "markdown",
      "metadata": {
        "id": "B5yfGB3KgYEs",
        "colab_type": "text"
      },
      "source": [
        "Замените `DATA_PATH` на путь к данным, которые вы скачали со страницы соревнования."
      ]
    },
    {
      "cell_type": "code",
      "metadata": {
        "id": "JL4uBf0B9M70",
        "colab_type": "code",
        "colab": {}
      },
      "source": [
        "DATA_PATH = 'gdrive/My Drive/Colab Notebooks (1)/'"
      ],
      "execution_count": 0,
      "outputs": []
    },
    {
      "cell_type": "markdown",
      "metadata": {
        "id": "fjb36S_9gYE-",
        "colab_type": "text"
      },
      "source": [
        "---"
      ]
    },
    {
      "cell_type": "code",
      "metadata": {
        "id": "2Z2ZpC_l9umR",
        "colab_type": "code",
        "outputId": "39fbeec1-0884-4759-f663-c11a3e91dde7",
        "colab": {
          "base_uri": "https://localhost:8080/",
          "height": 52
        }
      },
      "source": [
        "!ls 'gdrive/My Drive/Colab Notebooks (1)/'"
      ],
      "execution_count": 0,
      "outputs": [
        {
          "output_type": "stream",
          "text": [
            "baseline.ipynb\tcatalogue.json\ttest_users.json\n",
            "bookmarks.csv\tratings.csv\ttransactions.csv\n"
          ],
          "name": "stdout"
        }
      ]
    },
    {
      "cell_type": "markdown",
      "metadata": {
        "id": "9-21CbKCgYFB",
        "colab_type": "text"
      },
      "source": [
        "`catalogue.json` содержит анонимизированную метаинформацию о доступных в сервисе фильмах и сериалах."
      ]
    },
    {
      "cell_type": "code",
      "metadata": {
        "id": "rjmKosCfgYFD",
        "colab_type": "code",
        "colab": {}
      },
      "source": [
        "with open(os.path.join(DATA_PATH, 'catalogue.json'), 'r') as f:\n",
        "    catalogue = json.load(f)\n",
        "    \n",
        "catalogue = {int(k): v for k, v in catalogue.items()}\n",
        "catalogue = pd.DataFrame.from_dict(catalogue,'index').reset_index()\n",
        "# av_hot - нужно для валидации. Эта колонка равна 1, если фильм или сериал может быть потребленным\n",
        "catalogue['av_hot'] = catalogue['availability'].apply(lambda x: 1 if x == [] or 'subscription' in x else 0)\n",
        "catalogue = catalogue.rename(index=str, columns={'index':'element_uid'})"
      ],
      "execution_count": 0,
      "outputs": []
    },
    {
      "cell_type": "code",
      "metadata": {
        "id": "73Focg1vgYFW",
        "colab_type": "code",
        "outputId": "f9041b7c-467b-4479-da43-2374d96853f8",
        "colab": {
          "base_uri": "https://localhost:8080/",
          "height": 608
        }
      },
      "source": [
        "catalogue.head()"
      ],
      "execution_count": 0,
      "outputs": [
        {
          "output_type": "execute_result",
          "data": {
            "text/html": [
              "<div>\n",
              "<style scoped>\n",
              "    .dataframe tbody tr th:only-of-type {\n",
              "        vertical-align: middle;\n",
              "    }\n",
              "\n",
              "    .dataframe tbody tr th {\n",
              "        vertical-align: top;\n",
              "    }\n",
              "\n",
              "    .dataframe thead th {\n",
              "        text-align: right;\n",
              "    }\n",
              "</style>\n",
              "<table border=\"1\" class=\"dataframe\">\n",
              "  <thead>\n",
              "    <tr style=\"text-align: right;\">\n",
              "      <th></th>\n",
              "      <th>element_uid</th>\n",
              "      <th>type</th>\n",
              "      <th>availability</th>\n",
              "      <th>duration</th>\n",
              "      <th>feature_1</th>\n",
              "      <th>feature_2</th>\n",
              "      <th>feature_3</th>\n",
              "      <th>feature_4</th>\n",
              "      <th>feature_5</th>\n",
              "      <th>attributes</th>\n",
              "      <th>av_hot</th>\n",
              "    </tr>\n",
              "  </thead>\n",
              "  <tbody>\n",
              "    <tr>\n",
              "      <th>0</th>\n",
              "      <td>0</td>\n",
              "      <td>movie</td>\n",
              "      <td>[]</td>\n",
              "      <td>80</td>\n",
              "      <td>2.912198e+07</td>\n",
              "      <td>0.575260</td>\n",
              "      <td>0</td>\n",
              "      <td>1.128332</td>\n",
              "      <td>0.654707</td>\n",
              "      <td>[31115, 6713, 10906, 31116, 31117, 270, 24431,...</td>\n",
              "      <td>1</td>\n",
              "    </tr>\n",
              "    <tr>\n",
              "      <th>1</th>\n",
              "      <td>1</td>\n",
              "      <td>movie</td>\n",
              "      <td>[purchase, rent]</td>\n",
              "      <td>120</td>\n",
              "      <td>6.610431e+06</td>\n",
              "      <td>0.773224</td>\n",
              "      <td>3</td>\n",
              "      <td>1.112014</td>\n",
              "      <td>0.654707</td>\n",
              "      <td>[2786, 385, 2799, 3730, 886, 7, 11700, 42, 20,...</td>\n",
              "      <td>0</td>\n",
              "    </tr>\n",
              "    <tr>\n",
              "      <th>2</th>\n",
              "      <td>2</td>\n",
              "      <td>movie</td>\n",
              "      <td>[]</td>\n",
              "      <td>80</td>\n",
              "      <td>1.315874e+07</td>\n",
              "      <td>0.699502</td>\n",
              "      <td>0</td>\n",
              "      <td>1.110127</td>\n",
              "      <td>0.680410</td>\n",
              "      <td>[31442, 31443, 31444, 31445, 113, 31446, 42, 3...</td>\n",
              "      <td>1</td>\n",
              "    </tr>\n",
              "    <tr>\n",
              "      <th>3</th>\n",
              "      <td>3</td>\n",
              "      <td>series</td>\n",
              "      <td>[]</td>\n",
              "      <td>20</td>\n",
              "      <td>4.157712e+07</td>\n",
              "      <td>0.702981</td>\n",
              "      <td>0</td>\n",
              "      <td>1.141929</td>\n",
              "      <td>0.654707</td>\n",
              "      <td>[34361, 34362, 23033, 14887, 270, 20089, 43, 25]</td>\n",
              "      <td>1</td>\n",
              "    </tr>\n",
              "    <tr>\n",
              "      <th>4</th>\n",
              "      <td>4</td>\n",
              "      <td>movie</td>\n",
              "      <td>[purchase, rent, subscription]</td>\n",
              "      <td>70</td>\n",
              "      <td>3.999579e+07</td>\n",
              "      <td>0.626596</td>\n",
              "      <td>8</td>\n",
              "      <td>1.130076</td>\n",
              "      <td>0.592716</td>\n",
              "      <td>[26732, 26733, 26734, 9367, 7792, 336, 26735, ...</td>\n",
              "      <td>1</td>\n",
              "    </tr>\n",
              "  </tbody>\n",
              "</table>\n",
              "</div>"
            ],
            "text/plain": [
              "   element_uid    type                    availability  duration  \\\n",
              "0            0   movie                              []        80   \n",
              "1            1   movie                [purchase, rent]       120   \n",
              "2            2   movie                              []        80   \n",
              "3            3  series                              []        20   \n",
              "4            4   movie  [purchase, rent, subscription]        70   \n",
              "\n",
              "      feature_1  feature_2  feature_3  feature_4  feature_5  \\\n",
              "0  2.912198e+07   0.575260          0   1.128332   0.654707   \n",
              "1  6.610431e+06   0.773224          3   1.112014   0.654707   \n",
              "2  1.315874e+07   0.699502          0   1.110127   0.680410   \n",
              "3  4.157712e+07   0.702981          0   1.141929   0.654707   \n",
              "4  3.999579e+07   0.626596          8   1.130076   0.592716   \n",
              "\n",
              "                                          attributes  av_hot  \n",
              "0  [31115, 6713, 10906, 31116, 31117, 270, 24431,...       1  \n",
              "1  [2786, 385, 2799, 3730, 886, 7, 11700, 42, 20,...       0  \n",
              "2  [31442, 31443, 31444, 31445, 113, 31446, 42, 3...       1  \n",
              "3   [34361, 34362, 23033, 14887, 270, 20089, 43, 25]       1  \n",
              "4  [26732, 26733, 26734, 9367, 7792, 336, 26735, ...       1  "
            ]
          },
          "metadata": {
            "tags": []
          },
          "execution_count": 136
        }
      ]
    },
    {
      "cell_type": "code",
      "metadata": {
        "id": "-BrKyArGsswv",
        "colab_type": "code",
        "colab": {}
      },
      "source": [
        ""
      ],
      "execution_count": 0,
      "outputs": []
    },
    {
      "cell_type": "markdown",
      "metadata": {
        "id": "-M9hcZGfgYF4",
        "colab_type": "text"
      },
      "source": [
        " - `attributes` — мешок атрибутов\n",
        " - `availability` — доступность (может содержать значения `purchase`, `rent` и `subscription`)\n",
        " - `duration` — длительность в минутах, округлённая до десятков (продолжительность серии для сериалов и многосерийных фильмов)\n",
        " - `feature_1..5` — пять анонимизированных вещественных и порядковых признаков\n",
        " - `type` — принимает значения `movie`, `multipart_movie` или `series`"
      ]
    },
    {
      "cell_type": "markdown",
      "metadata": {
        "id": "9bic_qo8gYF8",
        "colab_type": "text"
      },
      "source": [
        "---"
      ]
    },
    {
      "cell_type": "markdown",
      "metadata": {
        "id": "5N0G4hz_gYGB",
        "colab_type": "text"
      },
      "source": [
        "`test_users.json` содержит список пользователей, для которых необходимо построить предсказание"
      ]
    },
    {
      "cell_type": "code",
      "metadata": {
        "id": "yht-nWQ7gYGG",
        "colab_type": "code",
        "colab": {}
      },
      "source": [
        "with open(os.path.join(DATA_PATH, 'test_users.json'), 'r') as f:\n",
        "    test_users = set(json.load(f)['users'])"
      ],
      "execution_count": 0,
      "outputs": []
    },
    {
      "cell_type": "markdown",
      "metadata": {
        "id": "CRH4hX-fgYGg",
        "colab_type": "text"
      },
      "source": [
        "---"
      ]
    },
    {
      "cell_type": "markdown",
      "metadata": {
        "id": "I-OYZb6TgYGl",
        "colab_type": "text"
      },
      "source": [
        "`transactions.csv` — список всех транзакций за определённый период времени"
      ]
    },
    {
      "cell_type": "code",
      "metadata": {
        "id": "x2FKH3PKgYGp",
        "colab_type": "code",
        "outputId": "bb24bc44-07f9-4a82-b110-b999ffabc5fe",
        "colab": {
          "base_uri": "https://localhost:8080/",
          "height": 52
        }
      },
      "source": [
        "%%time\n",
        "transactions = pd.read_csv(\n",
        "    os.path.join(DATA_PATH, 'transactions.csv'),\n",
        "    dtype={\n",
        "        'element_uid': np.uint16,\n",
        "        'user_uid': np.uint32,\n",
        "        'consumption_mode': 'category',\n",
        "        'ts': np.float64,\n",
        "        'watched_time': np.uint64,\n",
        "        'device_type': np.uint8,\n",
        "        'device_manufacturer': np.uint8\n",
        "    }\n",
        ")"
      ],
      "execution_count": 0,
      "outputs": [
        {
          "output_type": "stream",
          "text": [
            "CPU times: user 7.74 s, sys: 755 ms, total: 8.5 s\n",
            "Wall time: 15.4 s\n"
          ],
          "name": "stdout"
        }
      ]
    },
    {
      "cell_type": "code",
      "metadata": {
        "id": "QkRhfhjBgYG1",
        "colab_type": "code",
        "outputId": "6bdf2e27-cdb1-4ae5-eeee-208c2ff312c1",
        "colab": {
          "base_uri": "https://localhost:8080/",
          "height": 143
        }
      },
      "source": [
        "transactions.head(3)"
      ],
      "execution_count": 0,
      "outputs": [
        {
          "output_type": "execute_result",
          "data": {
            "text/html": [
              "<div>\n",
              "<style scoped>\n",
              "    .dataframe tbody tr th:only-of-type {\n",
              "        vertical-align: middle;\n",
              "    }\n",
              "\n",
              "    .dataframe tbody tr th {\n",
              "        vertical-align: top;\n",
              "    }\n",
              "\n",
              "    .dataframe thead th {\n",
              "        text-align: right;\n",
              "    }\n",
              "</style>\n",
              "<table border=\"1\" class=\"dataframe\">\n",
              "  <thead>\n",
              "    <tr style=\"text-align: right;\">\n",
              "      <th></th>\n",
              "      <th>element_uid</th>\n",
              "      <th>user_uid</th>\n",
              "      <th>consumption_mode</th>\n",
              "      <th>ts</th>\n",
              "      <th>watched_time</th>\n",
              "      <th>device_type</th>\n",
              "      <th>device_manufacturer</th>\n",
              "    </tr>\n",
              "  </thead>\n",
              "  <tbody>\n",
              "    <tr>\n",
              "      <th>0</th>\n",
              "      <td>3336</td>\n",
              "      <td>5177</td>\n",
              "      <td>S</td>\n",
              "      <td>4.430518e+07</td>\n",
              "      <td>4282</td>\n",
              "      <td>0</td>\n",
              "      <td>50</td>\n",
              "    </tr>\n",
              "    <tr>\n",
              "      <th>1</th>\n",
              "      <td>481</td>\n",
              "      <td>593316</td>\n",
              "      <td>S</td>\n",
              "      <td>4.430518e+07</td>\n",
              "      <td>2989</td>\n",
              "      <td>0</td>\n",
              "      <td>11</td>\n",
              "    </tr>\n",
              "    <tr>\n",
              "      <th>2</th>\n",
              "      <td>4128</td>\n",
              "      <td>262355</td>\n",
              "      <td>S</td>\n",
              "      <td>4.430518e+07</td>\n",
              "      <td>833</td>\n",
              "      <td>0</td>\n",
              "      <td>50</td>\n",
              "    </tr>\n",
              "  </tbody>\n",
              "</table>\n",
              "</div>"
            ],
            "text/plain": [
              "   element_uid  user_uid consumption_mode            ts  watched_time  \\\n",
              "0         3336      5177                S  4.430518e+07          4282   \n",
              "1          481    593316                S  4.430518e+07          2989   \n",
              "2         4128    262355                S  4.430518e+07           833   \n",
              "\n",
              "   device_type  device_manufacturer  \n",
              "0            0                   50  \n",
              "1            0                   11  \n",
              "2            0                   50  "
            ]
          },
          "metadata": {
            "tags": []
          },
          "execution_count": 116
        }
      ]
    },
    {
      "cell_type": "code",
      "metadata": {
        "id": "y1CQnIPQzOPI",
        "colab_type": "code",
        "outputId": "28d590c4-80a9-4083-cdc5-9b854a6a189c",
        "colab": {
          "base_uri": "https://localhost:8080/",
          "height": 34
        }
      },
      "source": [
        "np.unique(transactions['consumption_mode'].values)"
      ],
      "execution_count": 0,
      "outputs": [
        {
          "output_type": "execute_result",
          "data": {
            "text/plain": [
              "array(['P', 'R', 'S'], dtype=object)"
            ]
          },
          "metadata": {
            "tags": []
          },
          "execution_count": 9
        }
      ]
    },
    {
      "cell_type": "markdown",
      "metadata": {
        "id": "Sv2FBAFjgYHA",
        "colab_type": "text"
      },
      "source": [
        " - `element_uid` — идентификатор элемента\n",
        " - `user_uid` — идентификатор пользователя\n",
        " - `consumption_mode` — тип потребления (`P` — покупка, `R` — аренда, `S` — просмотр по подписке)\n",
        " - `ts` — время совершения транзакции или начала просмотра в случае просмотра по подписке\n",
        " - `watched_time` — число просмотренных по транзакции секунд\n",
        " - `device_type` — анонимизированный тип устройства, с которого была совершена транзакция или начат просмотр\n",
        " - `device_manufacturer` — анонимизированный производитель устройства, с которого была совершена транзакция или начат просмотр"
      ]
    },
    {
      "cell_type": "code",
      "metadata": {
        "id": "f8ABJSd8ofep",
        "colab_type": "code",
        "colab": {}
      },
      "source": [
        "# Здесь создаем тестовое множество пользователей. Пока это будет хранится в validate_user\n",
        "\n",
        "# Найдем пользователей, которые потребили услугу. Это как раз то, что надо предсказать\n",
        "# Первое условие - пользователь купил или арендовал фильм\n",
        "temp = transactions[(transactions['consumption_mode']=='R') | (transactions['consumption_mode']=='P')]\n",
        "\n",
        "# Сохраним все пары пользователь-фильм в переменную\n",
        "validate_user_tran = temp[['user_uid','element_uid']]\n",
        "\n",
        "# Найдем теперь пары, где фильм был просмотрен более чем наполовину, если это было доступно бесплатно или по подписке\n",
        "films = catalogue[(catalogue['type']=='movie') & (catalogue['av_hot']==1)][['element_uid','duration']]\n",
        "temp = pd.merge(transactions, films, left_on='element_uid',right_on='element_uid', how='inner')\n",
        "temp_films = temp[temp['watched_time']>0.5*temp['duration']]\n",
        "temp_films = temp_films[['user_uid','element_uid']]\n",
        "\n",
        "# аналогично для сериалов\n",
        "series = catalogue[(catalogue['type']=='series') & (catalogue['av_hot']==1)][['element_uid','duration']]\n",
        "temp_s = pd.merge(transactions, series, left_on='element_uid',right_on='element_uid', how='inner')\n",
        "temp_s = temp_s[temp_s['watched_time']>0.33*temp_s['duration']]\n",
        "temp_s = temp_s[['user_uid','element_uid']]\n",
        "\n",
        "temp = pd.concat([temp_films,temp_s,validate_user_tran])\n",
        "\n",
        "test = temp"
      ],
      "execution_count": 0,
      "outputs": []
    },
    {
      "cell_type": "code",
      "metadata": {
        "id": "YwumP-eq7G4u",
        "colab_type": "code",
        "colab": {}
      },
      "source": [
        "test_part = test[:10000]\n"
      ],
      "execution_count": 0,
      "outputs": []
    },
    {
      "cell_type": "code",
      "metadata": {
        "id": "EcgkP5cLswGw",
        "colab_type": "code",
        "outputId": "b4a910ea-1de5-4abc-a962-1593f67cac1f",
        "colab": {
          "base_uri": "https://localhost:8080/",
          "height": 206
        }
      },
      "source": [
        "\n",
        "temp.head()"
      ],
      "execution_count": 0,
      "outputs": [
        {
          "output_type": "execute_result",
          "data": {
            "text/html": [
              "<div>\n",
              "<style scoped>\n",
              "    .dataframe tbody tr th:only-of-type {\n",
              "        vertical-align: middle;\n",
              "    }\n",
              "\n",
              "    .dataframe tbody tr th {\n",
              "        vertical-align: top;\n",
              "    }\n",
              "\n",
              "    .dataframe thead th {\n",
              "        text-align: right;\n",
              "    }\n",
              "</style>\n",
              "<table border=\"1\" class=\"dataframe\">\n",
              "  <thead>\n",
              "    <tr style=\"text-align: right;\">\n",
              "      <th></th>\n",
              "      <th>user_uid</th>\n",
              "      <th>element_uid</th>\n",
              "    </tr>\n",
              "  </thead>\n",
              "  <tbody>\n",
              "    <tr>\n",
              "      <th>0</th>\n",
              "      <td>5177</td>\n",
              "      <td>3336</td>\n",
              "    </tr>\n",
              "    <tr>\n",
              "      <th>1</th>\n",
              "      <td>349202</td>\n",
              "      <td>3336</td>\n",
              "    </tr>\n",
              "    <tr>\n",
              "      <th>2</th>\n",
              "      <td>117582</td>\n",
              "      <td>3336</td>\n",
              "    </tr>\n",
              "    <tr>\n",
              "      <th>3</th>\n",
              "      <td>523833</td>\n",
              "      <td>3336</td>\n",
              "    </tr>\n",
              "    <tr>\n",
              "      <th>4</th>\n",
              "      <td>571064</td>\n",
              "      <td>3336</td>\n",
              "    </tr>\n",
              "  </tbody>\n",
              "</table>\n",
              "</div>"
            ],
            "text/plain": [
              "   user_uid  element_uid\n",
              "0      5177         3336\n",
              "1    349202         3336\n",
              "2    117582         3336\n",
              "3    523833         3336\n",
              "4    571064         3336"
            ]
          },
          "metadata": {
            "tags": []
          },
          "execution_count": 154
        }
      ]
    },
    {
      "cell_type": "markdown",
      "metadata": {
        "id": "q_MY0hlRgYHF",
        "colab_type": "text"
      },
      "source": [
        "---"
      ]
    },
    {
      "cell_type": "markdown",
      "metadata": {
        "id": "BLlp25LFgYHI",
        "colab_type": "text"
      },
      "source": [
        "`ratings.csv` содержит информацию о поставленных пользователями оценках"
      ]
    },
    {
      "cell_type": "code",
      "metadata": {
        "id": "2ZiS_BRmgYHN",
        "colab_type": "code",
        "outputId": "4e87d1bf-680d-4b08-a0e1-c25278cb7a92",
        "colab": {
          "base_uri": "https://localhost:8080/",
          "height": 52
        }
      },
      "source": [
        "%%time\n",
        "ratings = pd.read_csv(\n",
        "    os.path.join(DATA_PATH, 'ratings.csv'),\n",
        "    dtype={\n",
        "        'element_uid': np.uint16,\n",
        "        'user_uid': np.uint32,\n",
        "        'ts': np.float64,\n",
        "        'rating': np.uint8\n",
        "    }\n",
        ")"
      ],
      "execution_count": 0,
      "outputs": [
        {
          "output_type": "stream",
          "text": [
            "CPU times: user 258 ms, sys: 13.5 ms, total: 271 ms\n",
            "Wall time: 534 ms\n"
          ],
          "name": "stdout"
        }
      ]
    },
    {
      "cell_type": "code",
      "metadata": {
        "id": "QioC6SS4gYHa",
        "colab_type": "code",
        "outputId": "c8e3f35c-75dc-4d2a-b0ce-f1dc4f6e2472",
        "colab": {
          "base_uri": "https://localhost:8080/",
          "height": 143
        }
      },
      "source": [
        "ratings.head(3)"
      ],
      "execution_count": 0,
      "outputs": [
        {
          "output_type": "execute_result",
          "data": {
            "text/html": [
              "<div>\n",
              "<style scoped>\n",
              "    .dataframe tbody tr th:only-of-type {\n",
              "        vertical-align: middle;\n",
              "    }\n",
              "\n",
              "    .dataframe tbody tr th {\n",
              "        vertical-align: top;\n",
              "    }\n",
              "\n",
              "    .dataframe thead th {\n",
              "        text-align: right;\n",
              "    }\n",
              "</style>\n",
              "<table border=\"1\" class=\"dataframe\">\n",
              "  <thead>\n",
              "    <tr style=\"text-align: right;\">\n",
              "      <th></th>\n",
              "      <th>user_uid</th>\n",
              "      <th>element_uid</th>\n",
              "      <th>rating</th>\n",
              "      <th>ts</th>\n",
              "    </tr>\n",
              "  </thead>\n",
              "  <tbody>\n",
              "    <tr>\n",
              "      <th>0</th>\n",
              "      <td>571252</td>\n",
              "      <td>1364</td>\n",
              "      <td>10</td>\n",
              "      <td>4.430517e+07</td>\n",
              "    </tr>\n",
              "    <tr>\n",
              "      <th>1</th>\n",
              "      <td>63140</td>\n",
              "      <td>3037</td>\n",
              "      <td>10</td>\n",
              "      <td>4.430514e+07</td>\n",
              "    </tr>\n",
              "    <tr>\n",
              "      <th>2</th>\n",
              "      <td>443817</td>\n",
              "      <td>4363</td>\n",
              "      <td>8</td>\n",
              "      <td>4.430514e+07</td>\n",
              "    </tr>\n",
              "  </tbody>\n",
              "</table>\n",
              "</div>"
            ],
            "text/plain": [
              "   user_uid  element_uid  rating            ts\n",
              "0    571252         1364      10  4.430517e+07\n",
              "1     63140         3037      10  4.430514e+07\n",
              "2    443817         4363       8  4.430514e+07"
            ]
          },
          "metadata": {
            "tags": []
          },
          "execution_count": 17
        }
      ]
    },
    {
      "cell_type": "markdown",
      "metadata": {
        "id": "n762WQc3gYHk",
        "colab_type": "text"
      },
      "source": [
        " - `rating` — поставленный пользователем рейтинг (от `0` до `10`)"
      ]
    },
    {
      "cell_type": "markdown",
      "metadata": {
        "id": "5tpDtOrzgYHm",
        "colab_type": "text"
      },
      "source": [
        "---"
      ]
    },
    {
      "cell_type": "markdown",
      "metadata": {
        "id": "5EBRM4KmgYHs",
        "colab_type": "text"
      },
      "source": [
        "`bookmarks.csv` содержит информацию об элементах, добавленных пользователями в список «Избранное»"
      ]
    },
    {
      "cell_type": "code",
      "metadata": {
        "id": "OdaGsulxgYH2",
        "colab_type": "code",
        "outputId": "a5a1013a-411d-4ed8-b410-0c006b174a4f",
        "colab": {
          "base_uri": "https://localhost:8080/",
          "height": 52
        }
      },
      "source": [
        "%%time\n",
        "bookmarks = pd.read_csv(\n",
        "    os.path.join(DATA_PATH, 'bookmarks.csv'),\n",
        "    dtype={\n",
        "        'element_uid': np.uint16,\n",
        "        'user_uid': np.uint32,\n",
        "        'ts': np.float64\n",
        "    }\n",
        ")"
      ],
      "execution_count": 0,
      "outputs": [
        {
          "output_type": "stream",
          "text": [
            "CPU times: user 454 ms, sys: 22.9 ms, total: 477 ms\n",
            "Wall time: 1.07 s\n"
          ],
          "name": "stdout"
        }
      ]
    },
    {
      "cell_type": "code",
      "metadata": {
        "id": "UMJ5ZoB3gYIR",
        "colab_type": "code",
        "outputId": "1b00d58b-9dcd-456f-9f64-4c26813956ce",
        "colab": {
          "base_uri": "https://localhost:8080/",
          "height": 143
        }
      },
      "source": [
        "bookmarks.head(3)"
      ],
      "execution_count": 0,
      "outputs": [
        {
          "output_type": "execute_result",
          "data": {
            "text/html": [
              "<div>\n",
              "<style scoped>\n",
              "    .dataframe tbody tr th:only-of-type {\n",
              "        vertical-align: middle;\n",
              "    }\n",
              "\n",
              "    .dataframe tbody tr th {\n",
              "        vertical-align: top;\n",
              "    }\n",
              "\n",
              "    .dataframe thead th {\n",
              "        text-align: right;\n",
              "    }\n",
              "</style>\n",
              "<table border=\"1\" class=\"dataframe\">\n",
              "  <thead>\n",
              "    <tr style=\"text-align: right;\">\n",
              "      <th></th>\n",
              "      <th>user_uid</th>\n",
              "      <th>element_uid</th>\n",
              "      <th>ts</th>\n",
              "    </tr>\n",
              "  </thead>\n",
              "  <tbody>\n",
              "    <tr>\n",
              "      <th>0</th>\n",
              "      <td>301135</td>\n",
              "      <td>7185</td>\n",
              "      <td>4.430516e+07</td>\n",
              "    </tr>\n",
              "    <tr>\n",
              "      <th>1</th>\n",
              "      <td>301135</td>\n",
              "      <td>4083</td>\n",
              "      <td>4.430516e+07</td>\n",
              "    </tr>\n",
              "    <tr>\n",
              "      <th>2</th>\n",
              "      <td>301135</td>\n",
              "      <td>10158</td>\n",
              "      <td>4.430516e+07</td>\n",
              "    </tr>\n",
              "  </tbody>\n",
              "</table>\n",
              "</div>"
            ],
            "text/plain": [
              "   user_uid  element_uid            ts\n",
              "0    301135         7185  4.430516e+07\n",
              "1    301135         4083  4.430516e+07\n",
              "2    301135        10158  4.430516e+07"
            ]
          },
          "metadata": {
            "tags": []
          },
          "execution_count": 19
        }
      ]
    },
    {
      "cell_type": "code",
      "metadata": {
        "id": "YtypT4T-gYIn",
        "colab_type": "code",
        "outputId": "a8754d39-7197-49d5-a62a-825341ebf8dc",
        "colab": {
          "base_uri": "https://localhost:8080/",
          "height": 206
        }
      },
      "source": [
        "bookmarks['rating'] = 1\n",
        "_bookmarks = bookmarks[['rating', 'user_uid', 'element_uid']]\n",
        "_bookmarks.head()"
      ],
      "execution_count": 0,
      "outputs": [
        {
          "output_type": "execute_result",
          "data": {
            "text/html": [
              "<div>\n",
              "<style scoped>\n",
              "    .dataframe tbody tr th:only-of-type {\n",
              "        vertical-align: middle;\n",
              "    }\n",
              "\n",
              "    .dataframe tbody tr th {\n",
              "        vertical-align: top;\n",
              "    }\n",
              "\n",
              "    .dataframe thead th {\n",
              "        text-align: right;\n",
              "    }\n",
              "</style>\n",
              "<table border=\"1\" class=\"dataframe\">\n",
              "  <thead>\n",
              "    <tr style=\"text-align: right;\">\n",
              "      <th></th>\n",
              "      <th>rating</th>\n",
              "      <th>user_uid</th>\n",
              "      <th>element_uid</th>\n",
              "    </tr>\n",
              "  </thead>\n",
              "  <tbody>\n",
              "    <tr>\n",
              "      <th>0</th>\n",
              "      <td>1</td>\n",
              "      <td>301135</td>\n",
              "      <td>7185</td>\n",
              "    </tr>\n",
              "    <tr>\n",
              "      <th>1</th>\n",
              "      <td>1</td>\n",
              "      <td>301135</td>\n",
              "      <td>4083</td>\n",
              "    </tr>\n",
              "    <tr>\n",
              "      <th>2</th>\n",
              "      <td>1</td>\n",
              "      <td>301135</td>\n",
              "      <td>10158</td>\n",
              "    </tr>\n",
              "    <tr>\n",
              "      <th>3</th>\n",
              "      <td>1</td>\n",
              "      <td>301135</td>\n",
              "      <td>2693</td>\n",
              "    </tr>\n",
              "    <tr>\n",
              "      <th>4</th>\n",
              "      <td>1</td>\n",
              "      <td>301135</td>\n",
              "      <td>2181</td>\n",
              "    </tr>\n",
              "  </tbody>\n",
              "</table>\n",
              "</div>"
            ],
            "text/plain": [
              "   rating  user_uid  element_uid\n",
              "0       1    301135         7185\n",
              "1       1    301135         4083\n",
              "2       1    301135        10158\n",
              "3       1    301135         2693\n",
              "4       1    301135         2181"
            ]
          },
          "metadata": {
            "tags": []
          },
          "execution_count": 12
        }
      ]
    },
    {
      "cell_type": "markdown",
      "metadata": {
        "id": "DpRmLjBRgYI7",
        "colab_type": "text"
      },
      "source": [
        "### Решение"
      ]
    },
    {
      "cell_type": "markdown",
      "metadata": {
        "id": "nmsSPvgUgYI-",
        "colab_type": "text"
      },
      "source": [
        "Для начала построим список элементов, которые тестовые пользователи уже купили или посмотрели по подписке: они не смогут купить их второй раз, а просмотр по подписке второй раз маловероятен, поэтому мы захотим отфильтровать такие элементы из финального ответа.\n",
        "\n",
        "Точно так же можно поступить и с рейтингами и добавлениями в избранное, если это будет казаться правильным."
      ]
    },
    {
      "cell_type": "code",
      "metadata": {
        "id": "eC-2HYA7gYJD",
        "colab_type": "code",
        "outputId": "572af21f-defb-4a70-cf69-543c7871ebd7",
        "colab": {
          "base_uri": "https://localhost:8080/",
          "height": 34
        }
      },
      "source": [
        "from collections import defaultdict\n",
        "\n",
        "filtered_elements = defaultdict(set)\n",
        "\n",
        "for user_uid, element_uid in tqdm.tqdm(transactions.loc[:, ['user_uid', 'element_uid']].values):\n",
        "    if user_uid not in test_users:\n",
        "        continue\n",
        "    filtered_elements[user_uid].add(element_uid)"
      ],
      "execution_count": 0,
      "outputs": [
        {
          "output_type": "stream",
          "text": [
            "100%|██████████| 9643012/9643012 [00:17<00:00, 543250.94it/s]\n"
          ],
          "name": "stderr"
        }
      ]
    },
    {
      "cell_type": "markdown",
      "metadata": {
        "id": "nU5zgurvgYJa",
        "colab_type": "text"
      },
      "source": [
        "---"
      ]
    },
    {
      "cell_type": "markdown",
      "metadata": {
        "id": "RK7VGIZHgYJe",
        "colab_type": "text"
      },
      "source": [
        "Для примера мы воспользуемся методом K ближайших соседей, реализованным в библиотеке `implicit`. В качестве данных используем только информацию о рейтингах.\n",
        "\n",
        "Необходимо построить разреженную матрицу, где строкам будут соответствовать элементы, столбцам — пользователи, а на пересечении пользователя и элемента будет находиться количественная оценка степени их взаимодействия, если таковое имело место.\n",
        "\n",
        "Не забудем добавить `1` к рейтингу, чтобы избежать деления на ноль во время вычисления `tf-idf`."
      ]
    },
    {
      "cell_type": "code",
      "metadata": {
        "id": "wxjjGi2vgYJj",
        "colab_type": "code",
        "colab": {}
      },
      "source": [
        "ratings['user_uid'] = ratings['user_uid'].astype('category')\n",
        "ratings['element_uid'] = ratings['element_uid'].astype('category')\n",
        "\n",
        "ratings_matrix = sp.coo_matrix(\n",
        "    (ratings['rating'].astype(np.float32) + 1,\n",
        "        (\n",
        "            ratings['element_uid'].cat.codes.copy(),\n",
        "            ratings['user_uid'].cat.codes.copy()\n",
        "        )\n",
        "    )\n",
        ")\n",
        "\n",
        "ratings_matrix = ratings_matrix.tocsr()\n"
      ],
      "execution_count": 0,
      "outputs": []
    },
    {
      "cell_type": "code",
      "metadata": {
        "id": "kWk15MukgYJn",
        "colab_type": "code",
        "outputId": "0c6ea9be-1f91-4059-eb7f-5972ed85c62f",
        "colab": {
          "base_uri": "https://localhost:8080/",
          "height": 206
        }
      },
      "source": [
        "ratings.head()\n"
      ],
      "execution_count": 0,
      "outputs": [
        {
          "output_type": "execute_result",
          "data": {
            "text/html": [
              "<div>\n",
              "<style scoped>\n",
              "    .dataframe tbody tr th:only-of-type {\n",
              "        vertical-align: middle;\n",
              "    }\n",
              "\n",
              "    .dataframe tbody tr th {\n",
              "        vertical-align: top;\n",
              "    }\n",
              "\n",
              "    .dataframe thead th {\n",
              "        text-align: right;\n",
              "    }\n",
              "</style>\n",
              "<table border=\"1\" class=\"dataframe\">\n",
              "  <thead>\n",
              "    <tr style=\"text-align: right;\">\n",
              "      <th></th>\n",
              "      <th>user_uid</th>\n",
              "      <th>element_uid</th>\n",
              "      <th>rating</th>\n",
              "      <th>ts</th>\n",
              "    </tr>\n",
              "  </thead>\n",
              "  <tbody>\n",
              "    <tr>\n",
              "      <th>0</th>\n",
              "      <td>571252</td>\n",
              "      <td>1364</td>\n",
              "      <td>10</td>\n",
              "      <td>4.430517e+07</td>\n",
              "    </tr>\n",
              "    <tr>\n",
              "      <th>1</th>\n",
              "      <td>63140</td>\n",
              "      <td>3037</td>\n",
              "      <td>10</td>\n",
              "      <td>4.430514e+07</td>\n",
              "    </tr>\n",
              "    <tr>\n",
              "      <th>2</th>\n",
              "      <td>443817</td>\n",
              "      <td>4363</td>\n",
              "      <td>8</td>\n",
              "      <td>4.430514e+07</td>\n",
              "    </tr>\n",
              "    <tr>\n",
              "      <th>3</th>\n",
              "      <td>359870</td>\n",
              "      <td>1364</td>\n",
              "      <td>10</td>\n",
              "      <td>4.430506e+07</td>\n",
              "    </tr>\n",
              "    <tr>\n",
              "      <th>4</th>\n",
              "      <td>359870</td>\n",
              "      <td>3578</td>\n",
              "      <td>9</td>\n",
              "      <td>4.430506e+07</td>\n",
              "    </tr>\n",
              "  </tbody>\n",
              "</table>\n",
              "</div>"
            ],
            "text/plain": [
              "  user_uid element_uid  rating            ts\n",
              "0   571252        1364      10  4.430517e+07\n",
              "1    63140        3037      10  4.430514e+07\n",
              "2   443817        4363       8  4.430514e+07\n",
              "3   359870        1364      10  4.430506e+07\n",
              "4   359870        3578       9  4.430506e+07"
            ]
          },
          "metadata": {
            "tags": []
          },
          "execution_count": 23
        }
      ]
    },
    {
      "cell_type": "code",
      "metadata": {
        "id": "MZCDidnsgYJ6",
        "colab_type": "code",
        "colab": {}
      },
      "source": [
        "_ratings = ratings[ratings['rating']>4]"
      ],
      "execution_count": 0,
      "outputs": []
    },
    {
      "cell_type": "code",
      "metadata": {
        "id": "3ptHYJ1ggYKD",
        "colab_type": "code",
        "outputId": "e145449d-bf8b-414f-c230-da6b27ebc1a4",
        "colab": {
          "base_uri": "https://localhost:8080/",
          "height": 311
        }
      },
      "source": [
        "_ratings['rating'] = np.where(_ratings['rating']>=1, 1, 0)\n",
        "_ratings.head()"
      ],
      "execution_count": 0,
      "outputs": [
        {
          "output_type": "stream",
          "text": [
            "/usr/local/lib/python3.6/dist-packages/ipykernel_launcher.py:1: SettingWithCopyWarning: \n",
            "A value is trying to be set on a copy of a slice from a DataFrame.\n",
            "Try using .loc[row_indexer,col_indexer] = value instead\n",
            "\n",
            "See the caveats in the documentation: http://pandas.pydata.org/pandas-docs/stable/indexing.html#indexing-view-versus-copy\n",
            "  \"\"\"Entry point for launching an IPython kernel.\n"
          ],
          "name": "stderr"
        },
        {
          "output_type": "execute_result",
          "data": {
            "text/html": [
              "<div>\n",
              "<style scoped>\n",
              "    .dataframe tbody tr th:only-of-type {\n",
              "        vertical-align: middle;\n",
              "    }\n",
              "\n",
              "    .dataframe tbody tr th {\n",
              "        vertical-align: top;\n",
              "    }\n",
              "\n",
              "    .dataframe thead th {\n",
              "        text-align: right;\n",
              "    }\n",
              "</style>\n",
              "<table border=\"1\" class=\"dataframe\">\n",
              "  <thead>\n",
              "    <tr style=\"text-align: right;\">\n",
              "      <th></th>\n",
              "      <th>user_uid</th>\n",
              "      <th>element_uid</th>\n",
              "      <th>rating</th>\n",
              "      <th>ts</th>\n",
              "    </tr>\n",
              "  </thead>\n",
              "  <tbody>\n",
              "    <tr>\n",
              "      <th>0</th>\n",
              "      <td>571252</td>\n",
              "      <td>1364</td>\n",
              "      <td>1</td>\n",
              "      <td>4.430517e+07</td>\n",
              "    </tr>\n",
              "    <tr>\n",
              "      <th>1</th>\n",
              "      <td>63140</td>\n",
              "      <td>3037</td>\n",
              "      <td>1</td>\n",
              "      <td>4.430514e+07</td>\n",
              "    </tr>\n",
              "    <tr>\n",
              "      <th>2</th>\n",
              "      <td>443817</td>\n",
              "      <td>4363</td>\n",
              "      <td>1</td>\n",
              "      <td>4.430514e+07</td>\n",
              "    </tr>\n",
              "    <tr>\n",
              "      <th>3</th>\n",
              "      <td>359870</td>\n",
              "      <td>1364</td>\n",
              "      <td>1</td>\n",
              "      <td>4.430506e+07</td>\n",
              "    </tr>\n",
              "    <tr>\n",
              "      <th>4</th>\n",
              "      <td>359870</td>\n",
              "      <td>3578</td>\n",
              "      <td>1</td>\n",
              "      <td>4.430506e+07</td>\n",
              "    </tr>\n",
              "  </tbody>\n",
              "</table>\n",
              "</div>"
            ],
            "text/plain": [
              "  user_uid element_uid  rating            ts\n",
              "0   571252        1364       1  4.430517e+07\n",
              "1    63140        3037       1  4.430514e+07\n",
              "2   443817        4363       1  4.430514e+07\n",
              "3   359870        1364       1  4.430506e+07\n",
              "4   359870        3578       1  4.430506e+07"
            ]
          },
          "metadata": {
            "tags": []
          },
          "execution_count": 16
        }
      ]
    },
    {
      "cell_type": "code",
      "metadata": {
        "id": "bciJu_UXgYKJ",
        "colab_type": "code",
        "colab": {}
      },
      "source": [
        "_transaction = transactions[['element_uid', 'user_uid','watched_time']]\n",
        "_transaction = _transaction[_transaction['watched_time']>600]\n",
        "_transaction['rating'] = 1"
      ],
      "execution_count": 0,
      "outputs": []
    },
    {
      "cell_type": "code",
      "metadata": {
        "id": "d2e6gNBsgYKY",
        "colab_type": "code",
        "outputId": "654527f0-5a8c-4553-afe9-2ae212b00acd",
        "colab": {
          "base_uri": "https://localhost:8080/",
          "height": 34
        }
      },
      "source": [
        "np.unique(_ratings['rating'].values)"
      ],
      "execution_count": 0,
      "outputs": [
        {
          "output_type": "execute_result",
          "data": {
            "text/plain": [
              "array([1])"
            ]
          },
          "metadata": {
            "tags": []
          },
          "execution_count": 19
        }
      ]
    },
    {
      "cell_type": "code",
      "metadata": {
        "id": "E8FbNfhQgYKf",
        "colab_type": "code",
        "outputId": "5540c7f4-7ace-4c66-87e6-9e291fc7d669",
        "colab": {}
      },
      "source": [
        "_ratings.shape[0]"
      ],
      "execution_count": 0,
      "outputs": [
        {
          "output_type": "execute_result",
          "data": {
            "text/plain": [
              "438790"
            ]
          },
          "metadata": {
            "tags": []
          },
          "execution_count": 30
        }
      ]
    },
    {
      "cell_type": "code",
      "metadata": {
        "id": "Vc5ojGUugYKy",
        "colab_type": "code",
        "colab": {}
      },
      "source": [
        "all_ratings = pd.concat([_ratings[['user_uid', 'element_uid', 'rating']], _bookmarks[['user_uid', 'element_uid', 'rating']]])\n",
        "all_ratings = pd.concat([all_ratings, _transaction])\n",
        "\n",
        "all_ratings['user_uid'] = all_ratings['user_uid'].astype('category')\n",
        "all_ratings['element_uid'] = all_ratings['element_uid'].astype('category')\n",
        "\n",
        "ratings_matrix = sp.coo_matrix(\n",
        "    (all_ratings['rating'].astype(np.float32) + 1,\n",
        "        (\n",
        "            all_ratings['element_uid'].cat.codes.copy(),\n",
        "            all_ratings['user_uid'].cat.codes.copy()\n",
        "        )\n",
        "    )\n",
        ")\n",
        "\n",
        "ratings_matrix = ratings_matrix.tocsr()"
      ],
      "execution_count": 0,
      "outputs": []
    },
    {
      "cell_type": "code",
      "metadata": {
        "id": "lZDeQwJZgYK4",
        "colab_type": "code",
        "outputId": "ebd9492a-dae1-4953-ca54-a8a99a654690",
        "colab": {
          "base_uri": "https://localhost:8080/",
          "height": 34
        }
      },
      "source": [
        "sparsity = ratings_matrix.nnz / (ratings_matrix.shape[0] * ratings_matrix.shape[1])\n",
        "print('Sparsity: %.6f' % sparsity)"
      ],
      "execution_count": 0,
      "outputs": [
        {
          "output_type": "stream",
          "text": [
            "Sparsity: 0.001770\n"
          ],
          "name": "stdout"
        }
      ]
    },
    {
      "cell_type": "markdown",
      "metadata": {
        "id": "IElMWOuEgYLE",
        "colab_type": "text"
      },
      "source": [
        "Обучить модель крайне просто."
      ]
    },
    {
      "cell_type": "code",
      "metadata": {
        "id": "kn5zCUlLANob",
        "colab_type": "code",
        "outputId": "feb93b41-43ee-456f-e4d9-90d348f09d15",
        "colab": {
          "base_uri": "https://localhost:8080/",
          "height": 86
        }
      },
      "source": [
        "!pip install implicit==0.3.7"
      ],
      "execution_count": 0,
      "outputs": [
        {
          "output_type": "stream",
          "text": [
            "Requirement already satisfied: implicit==0.3.7 in /usr/local/lib/python3.6/dist-packages (0.3.7)\n",
            "Requirement already satisfied: numpy in /usr/local/lib/python3.6/dist-packages (from implicit==0.3.7) (1.14.6)\n",
            "Requirement already satisfied: scipy>=0.16 in /usr/local/lib/python3.6/dist-packages (from implicit==0.3.7) (1.1.0)\n",
            "Requirement already satisfied: tqdm in /usr/local/lib/python3.6/dist-packages (from implicit==0.3.7) (4.28.1)\n"
          ],
          "name": "stdout"
        }
      ]
    },
    {
      "cell_type": "code",
      "metadata": {
        "id": "-eJl5SK2gYLH",
        "colab_type": "code",
        "outputId": "13dbf14d-19f6-46b8-b118-5e2365cf64da",
        "colab": {
          "base_uri": "https://localhost:8080/",
          "height": 917
        }
      },
      "source": [
        "%%time\n",
        "from implicit.nearest_neighbours import TFIDFRecommender\n",
        "from implicit.als import AlternatingLeastSquares\n",
        "\n",
        "model = AlternatingLeastSquares(factors=64)\n",
        "\n",
        "# model = TFIDFRecommender()\n",
        "model.fit(ratings_matrix)"
      ],
      "execution_count": 0,
      "outputs": [
        {
          "output_type": "stream",
          "text": [
            "WARNING:root:OpenBLAS detected. Its highly recommend to set the environment variable 'export OPENBLAS_NUM_THREADS=1' to disable its internal multithreading\n"
          ],
          "name": "stderr"
        },
        {
          "output_type": "error",
          "ename": "RuntimeError",
          "evalue": "ignored",
          "traceback": [
            "\u001b[0;31m---------------------------------------------------------------------------\u001b[0m",
            "\u001b[0;31mRuntimeError\u001b[0m                              Traceback (most recent call last)",
            "\u001b[0;32m<ipython-input-19-4f0bbb515a56>\u001b[0m in \u001b[0;36m<module>\u001b[0;34m()\u001b[0m\n\u001b[0;32m----> 1\u001b[0;31m \u001b[0mget_ipython\u001b[0m\u001b[0;34m(\u001b[0m\u001b[0;34m)\u001b[0m\u001b[0;34m.\u001b[0m\u001b[0mrun_cell_magic\u001b[0m\u001b[0;34m(\u001b[0m\u001b[0;34m'time'\u001b[0m\u001b[0;34m,\u001b[0m \u001b[0;34m''\u001b[0m\u001b[0;34m,\u001b[0m \u001b[0;34m'from implicit.nearest_neighbours import TFIDFRecommender\\nfrom implicit.als import AlternatingLeastSquares\\n\\nmodel = AlternatingLeastSquares(factors=64)\\n\\n# model = TFIDFRecommender()\\nmodel.fit(ratings_matrix)'\u001b[0m\u001b[0;34m)\u001b[0m\u001b[0;34m\u001b[0m\u001b[0;34m\u001b[0m\u001b[0m\n\u001b[0m",
            "\u001b[0;32m/usr/local/lib/python3.6/dist-packages/IPython/core/interactiveshell.py\u001b[0m in \u001b[0;36mrun_cell_magic\u001b[0;34m(self, magic_name, line, cell)\u001b[0m\n\u001b[1;32m   2115\u001b[0m             \u001b[0mmagic_arg_s\u001b[0m \u001b[0;34m=\u001b[0m \u001b[0mself\u001b[0m\u001b[0;34m.\u001b[0m\u001b[0mvar_expand\u001b[0m\u001b[0;34m(\u001b[0m\u001b[0mline\u001b[0m\u001b[0;34m,\u001b[0m \u001b[0mstack_depth\u001b[0m\u001b[0;34m)\u001b[0m\u001b[0;34m\u001b[0m\u001b[0;34m\u001b[0m\u001b[0m\n\u001b[1;32m   2116\u001b[0m             \u001b[0;32mwith\u001b[0m \u001b[0mself\u001b[0m\u001b[0;34m.\u001b[0m\u001b[0mbuiltin_trap\u001b[0m\u001b[0;34m:\u001b[0m\u001b[0;34m\u001b[0m\u001b[0;34m\u001b[0m\u001b[0m\n\u001b[0;32m-> 2117\u001b[0;31m                 \u001b[0mresult\u001b[0m \u001b[0;34m=\u001b[0m \u001b[0mfn\u001b[0m\u001b[0;34m(\u001b[0m\u001b[0mmagic_arg_s\u001b[0m\u001b[0;34m,\u001b[0m \u001b[0mcell\u001b[0m\u001b[0;34m)\u001b[0m\u001b[0;34m\u001b[0m\u001b[0;34m\u001b[0m\u001b[0m\n\u001b[0m\u001b[1;32m   2118\u001b[0m             \u001b[0;32mreturn\u001b[0m \u001b[0mresult\u001b[0m\u001b[0;34m\u001b[0m\u001b[0;34m\u001b[0m\u001b[0m\n\u001b[1;32m   2119\u001b[0m \u001b[0;34m\u001b[0m\u001b[0m\n",
            "\u001b[0;32m</usr/local/lib/python3.6/dist-packages/decorator.py:decorator-gen-60>\u001b[0m in \u001b[0;36mtime\u001b[0;34m(self, line, cell, local_ns)\u001b[0m\n",
            "\u001b[0;32m/usr/local/lib/python3.6/dist-packages/IPython/core/magic.py\u001b[0m in \u001b[0;36m<lambda>\u001b[0;34m(f, *a, **k)\u001b[0m\n\u001b[1;32m    186\u001b[0m     \u001b[0;31m# but it's overkill for just that one bit of state.\u001b[0m\u001b[0;34m\u001b[0m\u001b[0;34m\u001b[0m\u001b[0;34m\u001b[0m\u001b[0m\n\u001b[1;32m    187\u001b[0m     \u001b[0;32mdef\u001b[0m \u001b[0mmagic_deco\u001b[0m\u001b[0;34m(\u001b[0m\u001b[0marg\u001b[0m\u001b[0;34m)\u001b[0m\u001b[0;34m:\u001b[0m\u001b[0;34m\u001b[0m\u001b[0;34m\u001b[0m\u001b[0m\n\u001b[0;32m--> 188\u001b[0;31m         \u001b[0mcall\u001b[0m \u001b[0;34m=\u001b[0m \u001b[0;32mlambda\u001b[0m \u001b[0mf\u001b[0m\u001b[0;34m,\u001b[0m \u001b[0;34m*\u001b[0m\u001b[0ma\u001b[0m\u001b[0;34m,\u001b[0m \u001b[0;34m**\u001b[0m\u001b[0mk\u001b[0m\u001b[0;34m:\u001b[0m \u001b[0mf\u001b[0m\u001b[0;34m(\u001b[0m\u001b[0;34m*\u001b[0m\u001b[0ma\u001b[0m\u001b[0;34m,\u001b[0m \u001b[0;34m**\u001b[0m\u001b[0mk\u001b[0m\u001b[0;34m)\u001b[0m\u001b[0;34m\u001b[0m\u001b[0;34m\u001b[0m\u001b[0m\n\u001b[0m\u001b[1;32m    189\u001b[0m \u001b[0;34m\u001b[0m\u001b[0m\n\u001b[1;32m    190\u001b[0m         \u001b[0;32mif\u001b[0m \u001b[0mcallable\u001b[0m\u001b[0;34m(\u001b[0m\u001b[0marg\u001b[0m\u001b[0;34m)\u001b[0m\u001b[0;34m:\u001b[0m\u001b[0;34m\u001b[0m\u001b[0;34m\u001b[0m\u001b[0m\n",
            "\u001b[0;32m/usr/local/lib/python3.6/dist-packages/IPython/core/magics/execution.py\u001b[0m in \u001b[0;36mtime\u001b[0;34m(self, line, cell, local_ns)\u001b[0m\n\u001b[1;32m   1191\u001b[0m         \u001b[0;32melse\u001b[0m\u001b[0;34m:\u001b[0m\u001b[0;34m\u001b[0m\u001b[0;34m\u001b[0m\u001b[0m\n\u001b[1;32m   1192\u001b[0m             \u001b[0mst\u001b[0m \u001b[0;34m=\u001b[0m \u001b[0mclock2\u001b[0m\u001b[0;34m(\u001b[0m\u001b[0;34m)\u001b[0m\u001b[0;34m\u001b[0m\u001b[0;34m\u001b[0m\u001b[0m\n\u001b[0;32m-> 1193\u001b[0;31m             \u001b[0mexec\u001b[0m\u001b[0;34m(\u001b[0m\u001b[0mcode\u001b[0m\u001b[0;34m,\u001b[0m \u001b[0mglob\u001b[0m\u001b[0;34m,\u001b[0m \u001b[0mlocal_ns\u001b[0m\u001b[0;34m)\u001b[0m\u001b[0;34m\u001b[0m\u001b[0;34m\u001b[0m\u001b[0m\n\u001b[0m\u001b[1;32m   1194\u001b[0m             \u001b[0mend\u001b[0m \u001b[0;34m=\u001b[0m \u001b[0mclock2\u001b[0m\u001b[0;34m(\u001b[0m\u001b[0;34m)\u001b[0m\u001b[0;34m\u001b[0m\u001b[0;34m\u001b[0m\u001b[0m\n\u001b[1;32m   1195\u001b[0m             \u001b[0mout\u001b[0m \u001b[0;34m=\u001b[0m \u001b[0;32mNone\u001b[0m\u001b[0;34m\u001b[0m\u001b[0;34m\u001b[0m\u001b[0m\n",
            "\u001b[0;32m<timed exec>\u001b[0m in \u001b[0;36m<module>\u001b[0;34m()\u001b[0m\n",
            "\u001b[0;32m/usr/local/lib/python3.6/dist-packages/implicit/als.py\u001b[0m in \u001b[0;36mfit\u001b[0;34m(self, item_users, show_progress)\u001b[0m\n\u001b[1;32m    147\u001b[0m \u001b[0;34m\u001b[0m\u001b[0m\n\u001b[1;32m    148\u001b[0m         \u001b[0;32mif\u001b[0m \u001b[0mself\u001b[0m\u001b[0;34m.\u001b[0m\u001b[0muse_gpu\u001b[0m\u001b[0;34m:\u001b[0m\u001b[0;34m\u001b[0m\u001b[0;34m\u001b[0m\u001b[0m\n\u001b[0;32m--> 149\u001b[0;31m             \u001b[0;32mreturn\u001b[0m \u001b[0mself\u001b[0m\u001b[0;34m.\u001b[0m\u001b[0m_fit_gpu\u001b[0m\u001b[0;34m(\u001b[0m\u001b[0mCiu\u001b[0m\u001b[0;34m,\u001b[0m \u001b[0mCui\u001b[0m\u001b[0;34m,\u001b[0m \u001b[0mshow_progress\u001b[0m\u001b[0;34m)\u001b[0m\u001b[0;34m\u001b[0m\u001b[0;34m\u001b[0m\u001b[0m\n\u001b[0m\u001b[1;32m    150\u001b[0m \u001b[0;34m\u001b[0m\u001b[0m\n\u001b[1;32m    151\u001b[0m         \u001b[0msolver\u001b[0m \u001b[0;34m=\u001b[0m \u001b[0mself\u001b[0m\u001b[0;34m.\u001b[0m\u001b[0msolver\u001b[0m\u001b[0;34m\u001b[0m\u001b[0;34m\u001b[0m\u001b[0m\n",
            "\u001b[0;32m/usr/local/lib/python3.6/dist-packages/implicit/als.py\u001b[0m in \u001b[0;36m_fit_gpu\u001b[0;34m(self, Ciu_host, Cui_host, show_progress)\u001b[0m\n\u001b[1;32m    186\u001b[0m             \u001b[0mself\u001b[0m\u001b[0;34m.\u001b[0m\u001b[0muser_factors\u001b[0m \u001b[0;34m=\u001b[0m \u001b[0mself\u001b[0m\u001b[0;34m.\u001b[0m\u001b[0muser_factors\u001b[0m\u001b[0;34m.\u001b[0m\u001b[0mastype\u001b[0m\u001b[0;34m(\u001b[0m\u001b[0mnp\u001b[0m\u001b[0;34m.\u001b[0m\u001b[0mfloat32\u001b[0m\u001b[0;34m)\u001b[0m\u001b[0;34m\u001b[0m\u001b[0;34m\u001b[0m\u001b[0m\n\u001b[1;32m    187\u001b[0m \u001b[0;34m\u001b[0m\u001b[0m\n\u001b[0;32m--> 188\u001b[0;31m         \u001b[0mCiu\u001b[0m \u001b[0;34m=\u001b[0m \u001b[0mimplicit\u001b[0m\u001b[0;34m.\u001b[0m\u001b[0mcuda\u001b[0m\u001b[0;34m.\u001b[0m\u001b[0mCuCSRMatrix\u001b[0m\u001b[0;34m(\u001b[0m\u001b[0mCiu_host\u001b[0m\u001b[0;34m)\u001b[0m\u001b[0;34m\u001b[0m\u001b[0;34m\u001b[0m\u001b[0m\n\u001b[0m\u001b[1;32m    189\u001b[0m         \u001b[0mCui\u001b[0m \u001b[0;34m=\u001b[0m \u001b[0mimplicit\u001b[0m\u001b[0;34m.\u001b[0m\u001b[0mcuda\u001b[0m\u001b[0;34m.\u001b[0m\u001b[0mCuCSRMatrix\u001b[0m\u001b[0;34m(\u001b[0m\u001b[0mCui_host\u001b[0m\u001b[0;34m)\u001b[0m\u001b[0;34m\u001b[0m\u001b[0;34m\u001b[0m\u001b[0m\n\u001b[1;32m    190\u001b[0m         \u001b[0mX\u001b[0m \u001b[0;34m=\u001b[0m \u001b[0mimplicit\u001b[0m\u001b[0;34m.\u001b[0m\u001b[0mcuda\u001b[0m\u001b[0;34m.\u001b[0m\u001b[0mCuDenseMatrix\u001b[0m\u001b[0;34m(\u001b[0m\u001b[0mself\u001b[0m\u001b[0;34m.\u001b[0m\u001b[0muser_factors\u001b[0m\u001b[0;34m.\u001b[0m\u001b[0mastype\u001b[0m\u001b[0;34m(\u001b[0m\u001b[0mnp\u001b[0m\u001b[0;34m.\u001b[0m\u001b[0mfloat32\u001b[0m\u001b[0;34m)\u001b[0m\u001b[0;34m)\u001b[0m\u001b[0;34m\u001b[0m\u001b[0;34m\u001b[0m\u001b[0m\n",
            "\u001b[0;32mimplicit/cuda/_cuda.pyx\u001b[0m in \u001b[0;36mimplicit.cuda._cuda.CuCSRMatrix.__cinit__\u001b[0;34m()\u001b[0m\n",
            "\u001b[0;31mRuntimeError\u001b[0m: Cuda Error: no CUDA-capable device is detected (implicit/cuda/matrix.cu:47)"
          ]
        }
      ]
    },
    {
      "cell_type": "code",
      "metadata": {
        "id": "aQbD6LZhy0ji",
        "colab_type": "code",
        "colab": {}
      },
      "source": [
        "!im"
      ],
      "execution_count": 0,
      "outputs": []
    },
    {
      "cell_type": "markdown",
      "metadata": {
        "id": "HPwCtdd_gYLN",
        "colab_type": "text"
      },
      "source": [
        "---"
      ]
    },
    {
      "cell_type": "code",
      "metadata": {
        "id": "VefqQxfEgYLT",
        "colab_type": "code",
        "colab": {}
      },
      "source": [
        "ratings_matrix_T = ratings_matrix.T.tocsr()\n"
      ],
      "execution_count": 0,
      "outputs": []
    },
    {
      "cell_type": "markdown",
      "metadata": {
        "id": "sO1l4c18gYLa",
        "colab_type": "text"
      },
      "source": [
        "Отображения из оригинальной категории во внутреннюю пригодится нам в дальнейшем."
      ]
    },
    {
      "cell_type": "code",
      "metadata": {
        "id": "Ds9k8oqbgYLc",
        "colab_type": "code",
        "colab": {}
      },
      "source": [
        "user_uid_to_cat = dict(zip(\n",
        "    all_ratings['user_uid'].cat.categories,\n",
        "    range(len(all_ratings['user_uid'].cat.categories))\n",
        "))"
      ],
      "execution_count": 0,
      "outputs": []
    },
    {
      "cell_type": "code",
      "metadata": {
        "id": "BBDWJn4sgYLz",
        "colab_type": "code",
        "colab": {}
      },
      "source": [
        "element_uid_to_cat = dict(zip(\n",
        "    all_ratings['element_uid'].cat.categories,\n",
        "    range(len(all_ratings['element_uid'].cat.categories))\n",
        "))"
      ],
      "execution_count": 0,
      "outputs": []
    },
    {
      "cell_type": "code",
      "metadata": {
        "id": "SXba3xEWgYL3",
        "colab_type": "code",
        "colab": {}
      },
      "source": [
        "filtered_elements_cat = {k: [element_uid_to_cat.get(x, None) for x in v] for k, v in filtered_elements.items()}"
      ],
      "execution_count": 0,
      "outputs": []
    },
    {
      "cell_type": "markdown",
      "metadata": {
        "id": "5WxmZVijgYL_",
        "colab_type": "text"
      },
      "source": [
        "---"
      ]
    },
    {
      "cell_type": "markdown",
      "metadata": {
        "id": "p4ALUWt3gYMA",
        "colab_type": "text"
      },
      "source": [
        "В метод `model.recommend` мы передаём идентификатор пользователя, который получаем обратным преобразованием из категории, транспонированную матрицу взаимодействий, число необходимых рекомендаций и список элементов, которые мы договорились фильтровать из ответа.\n",
        "\n",
        "Возвращает метод список пар (`element_cat`, `score`), отсортированный по вторым элементам. Из него необходимо достать все первые элементы пар и из категории преобразовать их к `element_uid`."
      ]
    },
    {
      "cell_type": "markdown",
      "metadata": {
        "id": "5kd1UB6ugYMB",
        "colab_type": "text"
      },
      "source": [
        "**Важно:** Не все тестовые пользователи есть в `ratings.csv` и не все из них есть в `transactions.csv`. Используя только один источник данных мы не можем построить полное предсказание. Такой ответ с неполным числом пользователей бдет принят системой, но при вычислении средней метрики метрика для отсутствующих пользователей будет принята равной нулю."
      ]
    },
    {
      "cell_type": "code",
      "metadata": {
        "id": "_d8HLIPbgYMC",
        "colab_type": "code",
        "colab": {}
      },
      "source": [
        "result = {}\n",
        "\n",
        "for user_uid in tqdm.tqdm(test_users):\n",
        "    # transform user_uid to model's internal user category\n",
        "    try:\n",
        "        user_cat = user_uid_to_cat[user_uid]\n",
        "    except LookupError:\n",
        "        continue\n",
        "    \n",
        "    # perform inference\n",
        "    recs = model.recommend(\n",
        "        user_cat,\n",
        "        ratings_matrix_T,\n",
        "        N=20,\n",
        "        filter_already_liked_items=True,\n",
        "        filter_items=filtered_elements_cat.get(user_uid, set())\n",
        "    )\n",
        "    \n",
        "    # drop scores and transform model's internal elelemnt category to element_uid for every prediction\n",
        "    # also convert np.uint64 to int so it could be json serialized later\n",
        "    result[user_uid] = [int(all_ratings['element_uid'].cat.categories[i]) for i, _ in recs]"
      ],
      "execution_count": 0,
      "outputs": []
    },
    {
      "cell_type": "code",
      "metadata": {
        "id": "uUBNOUj-8Ofl",
        "colab_type": "code",
        "colab": {}
      },
      "source": [
        "def eval(model, test):\n",
        "  ev = []\n",
        "  counter = 0\n",
        "  for user in np.unique(test['user_uid'].values):\n",
        "    counter +=1\n",
        "    y_true = test[test['user_uid']==5177].values[:,1] \n",
        "\n",
        "\n",
        "    user_cat = user_uid_to_cat[user_uid]\n",
        "    recs = model.recommend(\n",
        "        user_cat,\n",
        "        ratings_matrix_T,\n",
        "        N=20,\n",
        "        filter_already_liked_items=True,\n",
        "        filter_items=filtered_elements_cat.get(user_uid, set())\n",
        "    )\n",
        "#score()\n",
        "\n",
        "    y_pred = np.array(recs)[:,0]\n",
        "    summ = 0\n",
        "    for i in range(1,21):\n",
        "      summ += len(np.intersect1d(y_pred[:i],y_true))/i\n",
        "    ev.append(summ)\n",
        "    if counter == 10000:\n",
        "      break\n",
        "    if counter % 1000 == 0:\n",
        "      print(counter)\n",
        "  return np.mean(np.array(ev))\n",
        "\n",
        "eval(model,test)"
      ],
      "execution_count": 0,
      "outputs": []
    },
    {
      "cell_type": "code",
      "metadata": {
        "id": "FBd3-C_0gYMI",
        "colab_type": "code",
        "outputId": "ab1cb7b9-0d1b-499a-9098-31f4a890c7a6",
        "colab": {
          "base_uri": "https://localhost:8080/",
          "height": 35
        }
      },
      "source": [
        "len(result)"
      ],
      "execution_count": 0,
      "outputs": [
        {
          "output_type": "execute_result",
          "data": {
            "text/plain": [
              "49920"
            ]
          },
          "metadata": {
            "tags": []
          },
          "execution_count": 49
        }
      ]
    },
    {
      "cell_type": "markdown",
      "metadata": {
        "id": "P-M2B0kygYMl",
        "colab_type": "text"
      },
      "source": [
        "Используя только информацию о рейтингах мы смогли построить предсказание для `13251` из `50000` тестовых пользователей. Ровно в таком виде ответы и стоит сохранить для отправки."
      ]
    },
    {
      "cell_type": "code",
      "metadata": {
        "id": "-v-C66XzgYMm",
        "colab_type": "code",
        "outputId": "40f684f0-3114-4a63-cf50-ada14a462a8c",
        "colab": {
          "base_uri": "https://localhost:8080/",
          "height": 202
        }
      },
      "source": [
        "from os.path import join\n",
        "with open(join(DATA_PATH, 'answer.json'), 'w') as f:\n",
        "    json.dump(result, f)"
      ],
      "execution_count": 0,
      "outputs": [
        {
          "output_type": "error",
          "ename": "NameError",
          "evalue": "ignored",
          "traceback": [
            "\u001b[0;31m---------------------------------------------------------------------------\u001b[0m",
            "\u001b[0;31mNameError\u001b[0m                                 Traceback (most recent call last)",
            "\u001b[0;32m<ipython-input-35-5d89968e0a4b>\u001b[0m in \u001b[0;36m<module>\u001b[0;34m()\u001b[0m\n\u001b[1;32m      1\u001b[0m \u001b[0;32mfrom\u001b[0m \u001b[0mos\u001b[0m\u001b[0;34m.\u001b[0m\u001b[0mpath\u001b[0m \u001b[0;32mimport\u001b[0m \u001b[0mjoin\u001b[0m\u001b[0;34m\u001b[0m\u001b[0;34m\u001b[0m\u001b[0m\n\u001b[1;32m      2\u001b[0m \u001b[0;32mwith\u001b[0m \u001b[0mopen\u001b[0m\u001b[0;34m(\u001b[0m\u001b[0mjoin\u001b[0m\u001b[0;34m(\u001b[0m\u001b[0mDATA_PATH\u001b[0m\u001b[0;34m,\u001b[0m \u001b[0;34m'answer.json'\u001b[0m\u001b[0;34m)\u001b[0m\u001b[0;34m,\u001b[0m \u001b[0;34m'w'\u001b[0m\u001b[0;34m)\u001b[0m \u001b[0;32mas\u001b[0m \u001b[0mf\u001b[0m\u001b[0;34m:\u001b[0m\u001b[0;34m\u001b[0m\u001b[0;34m\u001b[0m\u001b[0m\n\u001b[0;32m----> 3\u001b[0;31m     \u001b[0mjson\u001b[0m\u001b[0;34m.\u001b[0m\u001b[0mdump\u001b[0m\u001b[0;34m(\u001b[0m\u001b[0mresult\u001b[0m\u001b[0;34m,\u001b[0m \u001b[0mf\u001b[0m\u001b[0;34m)\u001b[0m\u001b[0;34m\u001b[0m\u001b[0;34m\u001b[0m\u001b[0m\n\u001b[0m",
            "\u001b[0;31mNameError\u001b[0m: name 'result' is not defined"
          ]
        }
      ]
    },
    {
      "cell_type": "code",
      "metadata": {
        "id": "5aw0Yp_zgYM7",
        "colab_type": "code",
        "colab": {}
      },
      "source": [
        ""
      ],
      "execution_count": 0,
      "outputs": []
    }
  ]
}