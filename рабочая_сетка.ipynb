{
  "nbformat": 4,
  "nbformat_minor": 0,
  "metadata": {
    "colab": {
      "name": "рабочая сетка.ipynb",
      "version": "0.3.2",
      "provenance": [],
      "collapsed_sections": [],
      "include_colab_link": true
    },
    "kernelspec": {
      "name": "python3",
      "display_name": "Python 3"
    },
    "accelerator": "GPU"
  },
  "cells": [
    {
      "cell_type": "markdown",
      "metadata": {
        "id": "view-in-github",
        "colab_type": "text"
      },
      "source": [
        "<a href=\"https://colab.research.google.com/github/gazon1/Recco-challenge/blob/master/%D1%80%D0%B0%D0%B1%D0%BE%D1%87%D0%B0%D1%8F_%D1%81%D0%B5%D1%82%D0%BA%D0%B0.ipynb\" target=\"_parent\"><img src=\"https://colab.research.google.com/assets/colab-badge.svg\" alt=\"Open In Colab\"/></a>"
      ]
    },
    {
      "cell_type": "markdown",
      "metadata": {
        "colab_type": "text",
        "id": "gly_24bqgYEB"
      },
      "source": [
        "from sklearn.metrics import # Rekko challenge 2019\n",
        "\n",
        "```\n",
        "                           /$$$$$$$  /$$$$$$$$ /$$   /$$ /$$   /$$  /$$$$$$ \n",
        "                          | $$__  $$| $$_____/| $$  /$$/| $$  /$$/ /$$__  $$\n",
        "                          | $$  \\ $$| $$      | $$ /$$/ | $$ /$$/ | $$  \\ $$\n",
        "                          | $$$$$$$/| $$$$$   | $$$$$/  | $$$$$/  | $$  | $$\n",
        "                          | $$__  $$| $$__/   | $$  $$  | $$  $$  | $$  | $$\n",
        "                          | $$  \\ $$| $$      | $$\\  $$ | $$\\  $$ | $$  | $$\n",
        "                          | $$  | $$| $$$$$$$$| $$ \\  $$| $$ \\  $$|  $$$$$$/\n",
        "                          |__/  |__/|________/|__/  \\__/|__/  \\__/ \\______/ \n",
        "                                                                            \n",
        "```"
      ]
    },
    {
      "cell_type": "markdown",
      "metadata": {
        "colab_type": "text",
        "id": "P5c3Bz9BgYEI"
      },
      "source": [
        "Добро пожаловать на соревнование по машинному обучению от онлайн-кинотеатра [Okko](http://okko.tv) Rekko Challenge 2019.\n",
        "\n",
        "В этом ноутбуке мы покажем вам пример простого но полного решения, от загрузки данных до формирования ответа. Для работы нам понадобятся библиотеки `pandas`, `numpy`, `scipy`, `implicit`, `pprint`, `tqdm`. Установить их в вашем рабочем окружении можно следующей командой.\n",
        "```\n",
        "pip install pandas numpy scipy implicit pprint tqdm\n",
        "```"
      ]
    },
    {
      "cell_type": "code",
      "metadata": {
        "colab_type": "code",
        "id": "L9ZqWVchgYEN",
        "outputId": "2f64424e-ac33-4999-ebee-5e290c9512e9",
        "colab": {
          "base_uri": "https://localhost:8080/",
          "height": 34
        }
      },
      "source": [
        "import os\n",
        "import json\n",
        "import pandas as pd\n",
        "import numpy as np\n",
        "\n",
        "\n",
        "import tqdm\n",
        "import scipy.sparse as sp\n",
        "from sklearn.metrics import average_precision_score as score\n",
        "import time\n",
        "from matplotlib import pyplot as plt\n",
        "\n",
        "import itertools\n",
        "from pprint import pprint\n",
        "\n",
        "DATA_PATH = ''\n",
        "%matplotlib inline\n",
        "\n",
        "# For Google Colab only:\n",
        "import sys\n",
        "sys.path.append('/content/gdrive/My Drive/okko competition')\n",
        "#from reco_utils.recommender.sar.sar_singlenode import SARSingleNode\n",
        "from google.colab import drive\n",
        "drive.mount('/content/gdrive')\n",
        "\n",
        "DATA_PATH = 'gdrive/My Drive/okko competition/data'\n",
        "CODE_PATH = 'gdrive/My Drive/okko competition/code'"
      ],
      "execution_count": 0,
      "outputs": [
        {
          "output_type": "stream",
          "text": [
            "Drive already mounted at /content/gdrive; to attempt to forcibly remount, call drive.mount(\"/content/gdrive\", force_remount=True).\n"
          ],
          "name": "stdout"
        }
      ]
    },
    {
      "cell_type": "code",
      "metadata": {
        "id": "eZLrpj1FHc4K",
        "colab_type": "code",
        "colab": {}
      },
      "source": [
        "#Hyperparametrs:\n",
        "\n",
        "WATCHED_TIME = 600 # выкидываем передачи, просмотренные меньше WATCHED_TIME. ЧТобы ничего не выкидывать - ставим 0\n",
        "MIN_RATING = 3 # ниже этого рейтинга все выкидываем\n"
      ],
      "execution_count": 0,
      "outputs": []
    },
    {
      "cell_type": "code",
      "metadata": {
        "id": "cJmoNPO5Kx4A",
        "colab_type": "code",
        "colab": {}
      },
      "source": [
        "from keras.layers import Input, Embedding, SpatialDropout1D, Dropout, Dense,LSTM, CuDNNGRU#, CuDNNLSTM, CuDNNGRU\n",
        "from keras.models import Model\n",
        "\n",
        "import keras\n",
        "from keras.layers import Bidirectional, GlobalAveragePooling1D, GlobalMaxPooling1D, concatenate, BatchNormalization\n",
        "\n",
        "\n",
        "# Let's set random seed\n",
        "import tensorflow as tf\n",
        "tf.set_random_seed(42)\n",
        "np.random.seed(42)"
      ],
      "execution_count": 0,
      "outputs": []
    },
    {
      "cell_type": "markdown",
      "metadata": {
        "colab_type": "text",
        "id": "Vsbu4E36gYEf"
      },
      "source": [
        "### Загрузка данных"
      ]
    },
    {
      "cell_type": "markdown",
      "metadata": {
        "colab_type": "text",
        "id": "9-21CbKCgYFB"
      },
      "source": [
        "`catalogue.json` содержит анонимизированную метаинформацию о доступных в сервисе фильмах и сериалах."
      ]
    },
    {
      "cell_type": "code",
      "metadata": {
        "colab_type": "code",
        "id": "rjmKosCfgYFD",
        "colab": {}
      },
      "source": [
        "with open(os.path.join(DATA_PATH, 'catalogue.json'), 'r') as f:\n",
        "    catalogue = json.load(f)\n",
        "    \n",
        "catalogue = {int(k): v for k, v in catalogue.items()}\n",
        "catalogue = pd.DataFrame.from_dict(catalogue,'index').reset_index()\n",
        "# av_hot - нужно для валидации. Эта колонка равна 1, если фильм или сериал может быть потребленным\n",
        "catalogue['av_hot'] = catalogue['availability'].apply(lambda x: 1 if x == [] or 'subscription' in x else 0)\n",
        "catalogue = catalogue.rename(index=str, columns={'index':'element_uid'})"
      ],
      "execution_count": 0,
      "outputs": []
    },
    {
      "cell_type": "markdown",
      "metadata": {
        "colab_type": "text",
        "id": "-M9hcZGfgYF4"
      },
      "source": [
        " - `attributes` — мешок атрибутов\n",
        " - `availability` — доступность (может содержать значения `purchase`, `rent` и `subscription`)\n",
        " - `duration` — длительность в минутах, округлённая до десятков (продолжительность серии для сериалов и многосерийных фильмов)\n",
        " - `feature_1..5` — пять анонимизированных вещественных и порядковых признаков\n",
        " - `type` — принимает значения `movie`, `multipart_movie` или `series`"
      ]
    },
    {
      "cell_type": "markdown",
      "metadata": {
        "colab_type": "text",
        "id": "5N0G4hz_gYGB"
      },
      "source": [
        "`test_users.json` содержит список пользователей, для которых необходимо построить предсказание"
      ]
    },
    {
      "cell_type": "code",
      "metadata": {
        "colab_type": "code",
        "id": "yht-nWQ7gYGG",
        "outputId": "fbfd8c74-9ffc-47d4-f26a-caea60475493",
        "colab": {
          "base_uri": "https://localhost:8080/",
          "height": 34
        }
      },
      "source": [
        "with open(os.path.join(DATA_PATH, 'test_users.json'), 'r') as f:\n",
        "    test_users = set(json.load(f)['users'])\n",
        "len(test_users)"
      ],
      "execution_count": 0,
      "outputs": [
        {
          "output_type": "execute_result",
          "data": {
            "text/plain": [
              "50000"
            ]
          },
          "metadata": {
            "tags": []
          },
          "execution_count": 158
        }
      ]
    },
    {
      "cell_type": "markdown",
      "metadata": {
        "colab_type": "text",
        "id": "I-OYZb6TgYGl"
      },
      "source": [
        "`transactions.csv` — список всех транзакций за определённый период времени"
      ]
    },
    {
      "cell_type": "code",
      "metadata": {
        "colab_type": "code",
        "id": "x2FKH3PKgYGp",
        "outputId": "06ac0566-b453-47ec-cf23-cd605254e237",
        "colab": {
          "base_uri": "https://localhost:8080/",
          "height": 52
        }
      },
      "source": [
        "%%time\n",
        "transactions = pd.read_csv(\n",
        "    os.path.join(DATA_PATH, 'transactions.csv'),\n",
        "    dtype={\n",
        "        'element_uid': np.uint16,\n",
        "        'user_uid': np.uint32,\n",
        "        'consumption_mode': 'category',\n",
        "        'ts': np.float64,\n",
        "        'watched_time': np.uint64,\n",
        "        'device_type': np.uint8,\n",
        "        'device_manufacturer': np.uint8\n",
        "    }\n",
        ")"
      ],
      "execution_count": 0,
      "outputs": [
        {
          "output_type": "stream",
          "text": [
            "CPU times: user 6.89 s, sys: 112 ms, total: 7.01 s\n",
            "Wall time: 7.26 s\n"
          ],
          "name": "stdout"
        }
      ]
    },
    {
      "cell_type": "code",
      "metadata": {
        "colab_type": "code",
        "id": "2ZiS_BRmgYHN",
        "outputId": "0b221fb5-a343-4912-cc4c-f8e0bfae6c25",
        "colab": {
          "base_uri": "https://localhost:8080/",
          "height": 52
        }
      },
      "source": [
        "%%time\n",
        "ratings = pd.read_csv(\n",
        "    os.path.join(DATA_PATH, 'ratings.csv'),\n",
        "    dtype={\n",
        "        'element_uid': np.uint16,\n",
        "        'user_uid': np.uint32,\n",
        "        'ts': np.float64,\n",
        "        'rating': np.uint8\n",
        "    }\n",
        ")"
      ],
      "execution_count": 0,
      "outputs": [
        {
          "output_type": "stream",
          "text": [
            "CPU times: user 199 ms, sys: 9.83 ms, total: 209 ms\n",
            "Wall time: 224 ms\n"
          ],
          "name": "stdout"
        }
      ]
    },
    {
      "cell_type": "code",
      "metadata": {
        "colab_type": "code",
        "id": "OdaGsulxgYH2",
        "outputId": "f6595ac0-c04b-421d-b783-dc0ce3b74ddf",
        "colab": {
          "base_uri": "https://localhost:8080/",
          "height": 52
        }
      },
      "source": [
        "%%time\n",
        "bookmarks = pd.read_csv(\n",
        "    os.path.join(DATA_PATH, 'bookmarks.csv'),\n",
        "    dtype={\n",
        "        'element_uid': np.uint16,\n",
        "        'user_uid': np.uint32,\n",
        "        'ts': np.float64\n",
        "    }\n",
        ")"
      ],
      "execution_count": 0,
      "outputs": [
        {
          "output_type": "stream",
          "text": [
            "CPU times: user 368 ms, sys: 13.7 ms, total: 381 ms\n",
            "Wall time: 397 ms\n"
          ],
          "name": "stdout"
        }
      ]
    },
    {
      "cell_type": "code",
      "metadata": {
        "colab_type": "code",
        "id": "YtypT4T-gYIn",
        "outputId": "3909ed5e-a50a-4b34-aa6f-a1b2a0f29bc5",
        "colab": {
          "base_uri": "https://localhost:8080/",
          "height": 121
        }
      },
      "source": [
        "bookmarks['rating'] = 1\n",
        "_bookmarks = bookmarks[['rating', 'user_uid', 'element_uid','ts']]\n",
        "\n",
        "_ratings = ratings[ratings['rating']>5]\n",
        "_ratings['rating'] = 1\n",
        "\n",
        "_transaction = transactions[['element_uid', 'user_uid','ts','watched_time']]\n",
        "_transaction = _transaction[(_transaction['watched_time']>700)]\n",
        "_transaction['rating'] = 1"
      ],
      "execution_count": 0,
      "outputs": [
        {
          "output_type": "stream",
          "text": [
            "/usr/local/lib/python3.6/dist-packages/ipykernel_launcher.py:5: SettingWithCopyWarning: \n",
            "A value is trying to be set on a copy of a slice from a DataFrame.\n",
            "Try using .loc[row_indexer,col_indexer] = value instead\n",
            "\n",
            "See the caveats in the documentation: http://pandas.pydata.org/pandas-docs/stable/indexing.html#indexing-view-versus-copy\n",
            "  \"\"\"\n"
          ],
          "name": "stderr"
        }
      ]
    },
    {
      "cell_type": "code",
      "metadata": {
        "id": "Iq4iedsaIjez",
        "colab_type": "code",
        "colab": {}
      },
      "source": [
        "all_ratings = pd.concat([ _transaction[['user_uid', 'element_uid', 'rating', 'ts']],_bookmarks[['user_uid', 'element_uid', 'rating', 'ts']]])\n",
        "all_ratings = pd.concat([all_ratings, _ratings[['user_uid', 'element_uid', 'rating','ts']]])\n",
        "# all_ratings = all_ratings.drop_duplicates(['user_uid','element_uid'],keep='first')\n",
        "all_ratings = all_ratings.sort_values(by=['ts'])\n",
        "all_ratings= all_ratings.rename(index=str,columns={'element_uid':'itemID','user_uid':'userID','ts':'timestamp'})"
      ],
      "execution_count": 0,
      "outputs": []
    },
    {
      "cell_type": "code",
      "metadata": {
        "id": "CDOngt5TNKfh",
        "colab_type": "code",
        "outputId": "33d77ab1-11a5-4bc0-e23b-a6a02e9b40e9",
        "colab": {
          "base_uri": "https://localhost:8080/",
          "height": 143
        }
      },
      "source": [
        "#надо найти оптимальный размер, который взлезет в память. в 12 ГБ РАМ влезает около 800к записей. Всего их 11 млн\n",
        "all_ratings.head(3)"
      ],
      "execution_count": 0,
      "outputs": [
        {
          "output_type": "execute_result",
          "data": {
            "text/html": [
              "<div>\n",
              "<style scoped>\n",
              "    .dataframe tbody tr th:only-of-type {\n",
              "        vertical-align: middle;\n",
              "    }\n",
              "\n",
              "    .dataframe tbody tr th {\n",
              "        vertical-align: top;\n",
              "    }\n",
              "\n",
              "    .dataframe thead th {\n",
              "        text-align: right;\n",
              "    }\n",
              "</style>\n",
              "<table border=\"1\" class=\"dataframe\">\n",
              "  <thead>\n",
              "    <tr style=\"text-align: right;\">\n",
              "      <th></th>\n",
              "      <th>userID</th>\n",
              "      <th>itemID</th>\n",
              "      <th>rating</th>\n",
              "      <th>timestamp</th>\n",
              "    </tr>\n",
              "  </thead>\n",
              "  <tbody>\n",
              "    <tr>\n",
              "      <th>9643011</th>\n",
              "      <td>283774</td>\n",
              "      <td>6189</td>\n",
              "      <td>1</td>\n",
              "      <td>4.173063e+07</td>\n",
              "    </tr>\n",
              "    <tr>\n",
              "      <th>9643010</th>\n",
              "      <td>59148</td>\n",
              "      <td>6099</td>\n",
              "      <td>1</td>\n",
              "      <td>4.173063e+07</td>\n",
              "    </tr>\n",
              "    <tr>\n",
              "      <th>9643009</th>\n",
              "      <td>50431</td>\n",
              "      <td>8888</td>\n",
              "      <td>1</td>\n",
              "      <td>4.173063e+07</td>\n",
              "    </tr>\n",
              "  </tbody>\n",
              "</table>\n",
              "</div>"
            ],
            "text/plain": [
              "         userID  itemID  rating     timestamp\n",
              "9643011  283774    6189       1  4.173063e+07\n",
              "9643010   59148    6099       1  4.173063e+07\n",
              "9643009   50431    8888       1  4.173063e+07"
            ]
          },
          "metadata": {
            "tags": []
          },
          "execution_count": 164
        }
      ]
    },
    {
      "cell_type": "code",
      "metadata": {
        "id": "12p26fFsuDEG",
        "colab_type": "code",
        "colab": {}
      },
      "source": [
        "# temp = all_ratings.groupby('userID').agg({'itemID':'count'}).reset_index()\n",
        "# users = temp[temp['itemID'] >= 10]['userID'].values\n",
        "# all_ratings = all_ratings[all_ratings['userID'].isin(users)]\n"
      ],
      "execution_count": 0,
      "outputs": []
    },
    {
      "cell_type": "code",
      "metadata": {
        "id": "O8AfzgnoKUFB",
        "colab_type": "code",
        "colab": {}
      },
      "source": [
        "all_ratings.itemID = all_ratings.itemID.astype('category')\n",
        "all_ratings['categ_id'] = all_ratings.itemID.cat.codes + 1\n",
        "cat_to_element_uid = dict(zip(\n",
        "    range(1, len(all_ratings.itemID.cat.categories) + 1),\n",
        "    all_ratings.itemID.cat.categories\n",
        "))\n",
        "\n"
      ],
      "execution_count": 0,
      "outputs": []
    },
    {
      "cell_type": "code",
      "metadata": {
        "id": "6JtPGT84KZc3",
        "colab_type": "code",
        "outputId": "f1a401fc-775d-42bc-d749-c8ec225cf946",
        "colab": {
          "base_uri": "https://localhost:8080/",
          "height": 69
        }
      },
      "source": [
        "%%time\n",
        "import tqdm\n",
        "tqdm.tqdm.pandas()\n",
        "sequences = all_ratings.groupby('userID')['categ_id'].progress_apply(list)"
      ],
      "execution_count": 0,
      "outputs": [
        {
          "output_type": "stream",
          "text": [
            "100%|██████████| 496046/496046 [00:29<00:00, 16739.70it/s]"
          ],
          "name": "stderr"
        },
        {
          "output_type": "stream",
          "text": [
            "CPU times: user 30.1 s, sys: 73.9 ms, total: 30.2 s\n",
            "Wall time: 30.2 s\n"
          ],
          "name": "stdout"
        },
        {
          "output_type": "stream",
          "text": [
            "\n"
          ],
          "name": "stderr"
        }
      ]
    },
    {
      "cell_type": "code",
      "metadata": {
        "id": "1PB3QIc7KkW_",
        "colab_type": "code",
        "colab": {}
      },
      "source": [
        "sequences2use = sequences[sequences.apply(len) >= 10]"
      ],
      "execution_count": 0,
      "outputs": []
    },
    {
      "cell_type": "code",
      "metadata": {
        "id": "8HYrk_M_KnZH",
        "colab_type": "code",
        "outputId": "24f90d06-1dd7-4825-9de2-0010a5890c27",
        "colab": {
          "base_uri": "https://localhost:8080/",
          "height": 34
        }
      },
      "source": [
        "maxlen = 10 # Length of sequences in X\n",
        "X = []\n",
        "y = []\n",
        "\n",
        "def slice_sequence(seq, num_slices):\n",
        "    for i in range(1, num_slices):\n",
        "        X.append(seq[-(i+maxlen): -i])\n",
        "        y.append(seq[-i])\n",
        "        \n",
        "for seq in tqdm.tqdm(sequences2use):\n",
        "  if len(seq) == 11:\n",
        "    slice_sequence(seq, 2)\n",
        "#   if len(seq) == 12:\n",
        "#     slice_sequence(seq, 2)\n",
        "#   if len(seq) == 13:\n",
        "#     slice_sequence(seq, 2)\n",
        "#   if len(seq) == 14:\n",
        "#     slice_sequence(seq, 2)\n",
        "#   if len(seq) == 15:\n",
        "#     slice_sequence(seq, 2)\n",
        "#   if len(seq) == 16:\n",
        "#     slice_sequence(seq, 2)\n",
        "#   if len(seq) >17:\n",
        "#     slice_sequence(seq, len(seq)-maxlen)\n",
        "  if len(seq) >11:\n",
        "    slice_sequence(seq, len(seq)-maxlen)"
      ],
      "execution_count": 0,
      "outputs": [
        {
          "output_type": "stream",
          "text": [
            "100%|██████████| 228844/228844 [00:09<00:00, 24097.33it/s]\n"
          ],
          "name": "stderr"
        }
      ]
    },
    {
      "cell_type": "code",
      "metadata": {
        "id": "wswdzBYXKrDk",
        "colab_type": "code",
        "outputId": "db4def36-bc7b-4bd6-ec96-27d468ee9416",
        "colab": {
          "base_uri": "https://localhost:8080/",
          "height": 34
        }
      },
      "source": [
        "lens = [len(x) for x in X]\n",
        "max(lens), min(lens), np.mean(lens), np.median(lens)"
      ],
      "execution_count": 0,
      "outputs": [
        {
          "output_type": "execute_result",
          "data": {
            "text/plain": [
              "(10, 10, 10.0, 10.0)"
            ]
          },
          "metadata": {
            "tags": []
          },
          "execution_count": 169
        }
      ]
    },
    {
      "cell_type": "code",
      "metadata": {
        "id": "CW09FyDFKvcW",
        "colab_type": "code",
        "outputId": "e0b6bcc3-b1be-42b5-f4bb-4f3e3ccb744b",
        "colab": {
          "base_uri": "https://localhost:8080/",
          "height": 34
        }
      },
      "source": [
        "from keras.preprocessing.sequence import pad_sequences\n",
        "\n",
        "# We should pad our sequences with 0 values, so they all will have the same length\n",
        "X = pad_sequences(X, maxlen=maxlen)\n",
        "y = np.array(y)\n",
        "X.shape, y.shape"
      ],
      "execution_count": 0,
      "outputs": [
        {
          "output_type": "execute_result",
          "data": {
            "text/plain": [
              "((5100518, 10), (5100518,))"
            ]
          },
          "metadata": {
            "tags": []
          },
          "execution_count": 170
        }
      ]
    },
    {
      "cell_type": "code",
      "metadata": {
        "id": "1ShyDogma_nE",
        "colab_type": "code",
        "colab": {}
      },
      "source": [
        "def save_model(model, name, prefix=''):\n",
        "    model_json = model.to_json()\n",
        "    with open(os.path.join(CODE_PATH, prefix + \"model.json\"), \"w\") as json_file:\n",
        "        json_file.write(model_json)\n",
        "    # serialize weights to HDF5\n",
        "    model.save_weights(os.path.join(CODE_PATH, prefix + f\"{name}.h5\"))\n",
        "    print(\"Saved model to disk\")"
      ],
      "execution_count": 0,
      "outputs": []
    },
    {
      "cell_type": "code",
      "metadata": {
        "id": "1nFKfhJob7sC",
        "colab_type": "code",
        "colab": {}
      },
      "source": [
        "from keras.models import model_from_json\n",
        "def load_model():\n",
        "    json_file = open(os.path.join(CODE_PATH, 'model.json'), 'r')\n",
        "    loaded_model_json = json_file.read()\n",
        "    json_file.close()\n",
        "    loaded_model = model_from_json(loaded_model_json)\n",
        "    # load weights into new model\n",
        "    loaded_model.load_weights(os.path.join(CODE_PATH, \"model.h5\"))\n",
        "    return loaded_model"
      ],
      "execution_count": 0,
      "outputs": []
    },
    {
      "cell_type": "code",
      "metadata": {
        "id": "FpYpl2wBl157",
        "colab_type": "code",
        "outputId": "896e4217-7a77-4a5a-d1d3-af9a4574a904",
        "colab": {
          "base_uri": "https://localhost:8080/",
          "height": 34
        }
      },
      "source": [
        "np.unique(y).shape[0]"
      ],
      "execution_count": 0,
      "outputs": [
        {
          "output_type": "execute_result",
          "data": {
            "text/plain": [
              "9498"
            ]
          },
          "metadata": {
            "tags": []
          },
          "execution_count": 173
        }
      ]
    },
    {
      "cell_type": "code",
      "metadata": {
        "id": "zN_SHmgHl9AG",
        "colab_type": "code",
        "outputId": "e84d18ce-75cd-45b4-8064-186aef198577",
        "colab": {
          "base_uri": "https://localhost:8080/",
          "height": 34
        }
      },
      "source": [
        "np.max(y)"
      ],
      "execution_count": 0,
      "outputs": [
        {
          "output_type": "execute_result",
          "data": {
            "text/plain": [
              "9566"
            ]
          },
          "metadata": {
            "tags": []
          },
          "execution_count": 174
        }
      ]
    },
    {
      "cell_type": "code",
      "metadata": {
        "id": "Rc32BrVvmAQq",
        "colab_type": "code",
        "outputId": "0a1cd5a3-ecf2-426a-c284-00ecaa2001b3",
        "colab": {
          "base_uri": "https://localhost:8080/",
          "height": 34
        }
      },
      "source": [
        "max_features"
      ],
      "execution_count": 0,
      "outputs": [
        {
          "output_type": "execute_result",
          "data": {
            "text/plain": [
              "9567"
            ]
          },
          "metadata": {
            "tags": []
          },
          "execution_count": 175
        }
      ]
    },
    {
      "cell_type": "code",
      "metadata": {
        "id": "jowtIrBun3fP",
        "colab_type": "code",
        "outputId": "b136c2e7-37f2-476b-b39f-57b7516cc701",
        "colab": {
          "base_uri": "https://localhost:8080/",
          "height": 34
        }
      },
      "source": [
        "np.max(all_ratings.categ_id)"
      ],
      "execution_count": 0,
      "outputs": [
        {
          "output_type": "execute_result",
          "data": {
            "text/plain": [
              "9566"
            ]
          },
          "metadata": {
            "tags": []
          },
          "execution_count": 176
        }
      ]
    },
    {
      "cell_type": "code",
      "metadata": {
        "id": "spDmEIu_qCEx",
        "colab_type": "code",
        "outputId": "3e6ba795-1a06-4b1c-93c3-68b14104be40",
        "colab": {
          "base_uri": "https://localhost:8080/",
          "height": 34
        }
      },
      "source": [
        "temp = all_ratings.groupby('userID').agg({'itemID':'count'}).reset_index()\n",
        "users = temp[temp['itemID'] >= 10]['userID'].values\n",
        "max_features = np.unique(all_ratings[all_ratings['userID'].isin(users)]['itemID'].values).shape[0]\n",
        "print(max_features)"
      ],
      "execution_count": 0,
      "outputs": [
        {
          "output_type": "stream",
          "text": [
            "9555\n"
          ],
          "name": "stdout"
        }
      ]
    },
    {
      "cell_type": "code",
      "metadata": {
        "id": "GzSeNHohrUEe",
        "colab_type": "code",
        "outputId": "01e0ff5a-487e-4c6e-8d81-16d7325d52fe",
        "colab": {
          "base_uri": "https://localhost:8080/",
          "height": 34
        }
      },
      "source": [
        "np.unique(X).shape"
      ],
      "execution_count": 0,
      "outputs": [
        {
          "output_type": "execute_result",
          "data": {
            "text/plain": [
              "(9542,)"
            ]
          },
          "metadata": {
            "tags": []
          },
          "execution_count": 178
        }
      ]
    },
    {
      "cell_type": "code",
      "metadata": {
        "id": "rEowb2_mK76H",
        "colab_type": "code",
        "outputId": "139a24f4-df60-4926-bf2c-245f07897f34",
        "colab": {
          "base_uri": "https://localhost:8080/",
          "height": 1021
        }
      },
      "source": [
        "max_features = all_ratings.categ_id.unique().size + 1\n",
        "embed_size = 128\n",
        "\n",
        "\n",
        "def get_model():\n",
        "    inp = Input(shape=(maxlen, ))\n",
        "    x = Embedding(max_features, embed_size)(inp)\n",
        "    x = SpatialDropout1D(0.3)(x)\n",
        "    x,state1, state2 = Bidirectional(CuDNNGRU(128, return_sequences=True, return_state=True))(x)\n",
        "    avg_pool = GlobalAveragePooling1D()(x)\n",
        "    max_pool = GlobalMaxPooling1D()(x)\n",
        "    conc = concatenate([avg_pool, max_pool, state1, state2])\n",
        "    conc = BatchNormalization()(conc)\n",
        "    outp = Dense(max_features, activation=\"softmax\")(conc)\n",
        "\n",
        "    model = Model(inputs=inp, outputs=outp)\n",
        "\n",
        "#     opt = keras.optimizers.Adam(lr=0.01, beta_1=0.9, beta_2=0.999, epsilon=None, decay=0.0, amsgrad=False)\n",
        "    opt = keras.optimizers.RMSprop(lr=0.01, rho=0.9, epsilon=None, decay=0.0)\n",
        "    model.compile(loss='sparse_categorical_crossentropy', optimizer=opt,\n",
        "                  metrics=['sparse_categorical_accuracy'])\n",
        "\n",
        "#     model.compile(loss='categorical_crossentropy', optimizer=opt,\n",
        "#                   metrics=['categorical_crossentropy'])\n",
        "\n",
        "    return model\n",
        "\n",
        "\n",
        "\n",
        "callbacks_list = [\n",
        "    keras.callbacks.ReduceLROnPlateau(\n",
        "    monitor='val_loss',\n",
        "    factor=0.01,\n",
        "    patience=1,\n",
        "    verbose = 1\n",
        "    )\n",
        "]\n",
        "\n",
        "\n",
        "model = get_model()\n",
        "model.fit(X, y, batch_size=2048 * 8, epochs=15, verbose=1, validation_split=0.01, shuffle=True, callbacks=callbacks_list)\n"
      ],
      "execution_count": 0,
      "outputs": [
        {
          "output_type": "stream",
          "text": [
            "Train on 5049512 samples, validate on 51006 samples\n",
            "Epoch 1/15\n",
            "5049512/5049512 [==============================] - 179s 35us/step - loss: 6.9326 - sparse_categorical_accuracy: 0.0305 - val_loss: 6.8955 - val_sparse_categorical_accuracy: 0.0335\n",
            "Epoch 2/15\n",
            "5049512/5049512 [==============================] - 174s 34us/step - loss: 6.8558 - sparse_categorical_accuracy: 0.0340 - val_loss: 6.8924 - val_sparse_categorical_accuracy: 0.0356\n",
            "Epoch 3/15\n",
            "5049512/5049512 [==============================] - 174s 34us/step - loss: 6.8402 - sparse_categorical_accuracy: 0.0352 - val_loss: 6.9315 - val_sparse_categorical_accuracy: 0.0347\n",
            "\n",
            "Epoch 00003: ReduceLROnPlateau reducing learning rate to 9.999999776482582e-07.\n",
            "Epoch 4/15\n",
            "3545088/5049512 [====================>.........] - ETA: 51s - loss: 6.8366 - sparse_categorical_accuracy: 0.0349"
          ],
          "name": "stdout"
        },
        {
          "output_type": "error",
          "ename": "KeyboardInterrupt",
          "evalue": "ignored",
          "traceback": [
            "\u001b[0;31m---------------------------------------------------------------------------\u001b[0m",
            "\u001b[0;31mKeyboardInterrupt\u001b[0m                         Traceback (most recent call last)",
            "\u001b[0;32m<ipython-input-212-d22097d85f7f>\u001b[0m in \u001b[0;36m<module>\u001b[0;34m()\u001b[0m\n\u001b[1;32m     50\u001b[0m \u001b[0;34m\u001b[0m\u001b[0m\n\u001b[1;32m     51\u001b[0m \u001b[0mmodel\u001b[0m \u001b[0;34m=\u001b[0m \u001b[0mget_model\u001b[0m\u001b[0;34m(\u001b[0m\u001b[0;34m)\u001b[0m\u001b[0;34m\u001b[0m\u001b[0;34m\u001b[0m\u001b[0m\n\u001b[0;32m---> 52\u001b[0;31m \u001b[0mmodel\u001b[0m\u001b[0;34m.\u001b[0m\u001b[0mfit\u001b[0m\u001b[0;34m(\u001b[0m\u001b[0mX\u001b[0m\u001b[0;34m,\u001b[0m \u001b[0my\u001b[0m\u001b[0;34m,\u001b[0m \u001b[0mbatch_size\u001b[0m\u001b[0;34m=\u001b[0m\u001b[0;36m2048\u001b[0m\u001b[0;34m,\u001b[0m \u001b[0mepochs\u001b[0m\u001b[0;34m=\u001b[0m\u001b[0;36m15\u001b[0m\u001b[0;34m,\u001b[0m \u001b[0mverbose\u001b[0m\u001b[0;34m=\u001b[0m\u001b[0;36m1\u001b[0m\u001b[0;34m,\u001b[0m \u001b[0mvalidation_split\u001b[0m\u001b[0;34m=\u001b[0m\u001b[0;36m0.01\u001b[0m\u001b[0;34m,\u001b[0m \u001b[0mshuffle\u001b[0m\u001b[0;34m=\u001b[0m\u001b[0;32mTrue\u001b[0m\u001b[0;34m,\u001b[0m \u001b[0mcallbacks\u001b[0m\u001b[0;34m=\u001b[0m\u001b[0mcallbacks_list\u001b[0m\u001b[0;34m)\u001b[0m\u001b[0;34m\u001b[0m\u001b[0;34m\u001b[0m\u001b[0m\n\u001b[0m",
            "\u001b[0;32m/usr/local/lib/python3.6/dist-packages/keras/engine/training.py\u001b[0m in \u001b[0;36mfit\u001b[0;34m(self, x, y, batch_size, epochs, verbose, callbacks, validation_split, validation_data, shuffle, class_weight, sample_weight, initial_epoch, steps_per_epoch, validation_steps, **kwargs)\u001b[0m\n\u001b[1;32m   1037\u001b[0m                                         \u001b[0minitial_epoch\u001b[0m\u001b[0;34m=\u001b[0m\u001b[0minitial_epoch\u001b[0m\u001b[0;34m,\u001b[0m\u001b[0;34m\u001b[0m\u001b[0;34m\u001b[0m\u001b[0m\n\u001b[1;32m   1038\u001b[0m                                         \u001b[0msteps_per_epoch\u001b[0m\u001b[0;34m=\u001b[0m\u001b[0msteps_per_epoch\u001b[0m\u001b[0;34m,\u001b[0m\u001b[0;34m\u001b[0m\u001b[0;34m\u001b[0m\u001b[0m\n\u001b[0;32m-> 1039\u001b[0;31m                                         validation_steps=validation_steps)\n\u001b[0m\u001b[1;32m   1040\u001b[0m \u001b[0;34m\u001b[0m\u001b[0m\n\u001b[1;32m   1041\u001b[0m     def evaluate(self, x=None, y=None,\n",
            "\u001b[0;32m/usr/local/lib/python3.6/dist-packages/keras/engine/training_arrays.py\u001b[0m in \u001b[0;36mfit_loop\u001b[0;34m(model, f, ins, out_labels, batch_size, epochs, verbose, callbacks, val_f, val_ins, shuffle, callback_metrics, initial_epoch, steps_per_epoch, validation_steps)\u001b[0m\n\u001b[1;32m    197\u001b[0m                     \u001b[0mins_batch\u001b[0m\u001b[0;34m[\u001b[0m\u001b[0mi\u001b[0m\u001b[0;34m]\u001b[0m \u001b[0;34m=\u001b[0m \u001b[0mins_batch\u001b[0m\u001b[0;34m[\u001b[0m\u001b[0mi\u001b[0m\u001b[0;34m]\u001b[0m\u001b[0;34m.\u001b[0m\u001b[0mtoarray\u001b[0m\u001b[0;34m(\u001b[0m\u001b[0;34m)\u001b[0m\u001b[0;34m\u001b[0m\u001b[0;34m\u001b[0m\u001b[0m\n\u001b[1;32m    198\u001b[0m \u001b[0;34m\u001b[0m\u001b[0m\n\u001b[0;32m--> 199\u001b[0;31m                 \u001b[0mouts\u001b[0m \u001b[0;34m=\u001b[0m \u001b[0mf\u001b[0m\u001b[0;34m(\u001b[0m\u001b[0mins_batch\u001b[0m\u001b[0;34m)\u001b[0m\u001b[0;34m\u001b[0m\u001b[0;34m\u001b[0m\u001b[0m\n\u001b[0m\u001b[1;32m    200\u001b[0m                 \u001b[0mouts\u001b[0m \u001b[0;34m=\u001b[0m \u001b[0mto_list\u001b[0m\u001b[0;34m(\u001b[0m\u001b[0mouts\u001b[0m\u001b[0;34m)\u001b[0m\u001b[0;34m\u001b[0m\u001b[0;34m\u001b[0m\u001b[0m\n\u001b[1;32m    201\u001b[0m                 \u001b[0;32mfor\u001b[0m \u001b[0ml\u001b[0m\u001b[0;34m,\u001b[0m \u001b[0mo\u001b[0m \u001b[0;32min\u001b[0m \u001b[0mzip\u001b[0m\u001b[0;34m(\u001b[0m\u001b[0mout_labels\u001b[0m\u001b[0;34m,\u001b[0m \u001b[0mouts\u001b[0m\u001b[0;34m)\u001b[0m\u001b[0;34m:\u001b[0m\u001b[0;34m\u001b[0m\u001b[0;34m\u001b[0m\u001b[0m\n",
            "\u001b[0;32m/usr/local/lib/python3.6/dist-packages/keras/backend/tensorflow_backend.py\u001b[0m in \u001b[0;36m__call__\u001b[0;34m(self, inputs)\u001b[0m\n\u001b[1;32m   2713\u001b[0m                 \u001b[0;32mreturn\u001b[0m \u001b[0mself\u001b[0m\u001b[0;34m.\u001b[0m\u001b[0m_legacy_call\u001b[0m\u001b[0;34m(\u001b[0m\u001b[0minputs\u001b[0m\u001b[0;34m)\u001b[0m\u001b[0;34m\u001b[0m\u001b[0;34m\u001b[0m\u001b[0m\n\u001b[1;32m   2714\u001b[0m \u001b[0;34m\u001b[0m\u001b[0m\n\u001b[0;32m-> 2715\u001b[0;31m             \u001b[0;32mreturn\u001b[0m \u001b[0mself\u001b[0m\u001b[0;34m.\u001b[0m\u001b[0m_call\u001b[0m\u001b[0;34m(\u001b[0m\u001b[0minputs\u001b[0m\u001b[0;34m)\u001b[0m\u001b[0;34m\u001b[0m\u001b[0;34m\u001b[0m\u001b[0m\n\u001b[0m\u001b[1;32m   2716\u001b[0m         \u001b[0;32melse\u001b[0m\u001b[0;34m:\u001b[0m\u001b[0;34m\u001b[0m\u001b[0;34m\u001b[0m\u001b[0m\n\u001b[1;32m   2717\u001b[0m             \u001b[0;32mif\u001b[0m \u001b[0mpy_any\u001b[0m\u001b[0;34m(\u001b[0m\u001b[0mis_tensor\u001b[0m\u001b[0;34m(\u001b[0m\u001b[0mx\u001b[0m\u001b[0;34m)\u001b[0m \u001b[0;32mfor\u001b[0m \u001b[0mx\u001b[0m \u001b[0;32min\u001b[0m \u001b[0minputs\u001b[0m\u001b[0;34m)\u001b[0m\u001b[0;34m:\u001b[0m\u001b[0;34m\u001b[0m\u001b[0;34m\u001b[0m\u001b[0m\n",
            "\u001b[0;32m/usr/local/lib/python3.6/dist-packages/keras/backend/tensorflow_backend.py\u001b[0m in \u001b[0;36m_call\u001b[0;34m(self, inputs)\u001b[0m\n\u001b[1;32m   2673\u001b[0m             \u001b[0mfetched\u001b[0m \u001b[0;34m=\u001b[0m \u001b[0mself\u001b[0m\u001b[0;34m.\u001b[0m\u001b[0m_callable_fn\u001b[0m\u001b[0;34m(\u001b[0m\u001b[0;34m*\u001b[0m\u001b[0marray_vals\u001b[0m\u001b[0;34m,\u001b[0m \u001b[0mrun_metadata\u001b[0m\u001b[0;34m=\u001b[0m\u001b[0mself\u001b[0m\u001b[0;34m.\u001b[0m\u001b[0mrun_metadata\u001b[0m\u001b[0;34m)\u001b[0m\u001b[0;34m\u001b[0m\u001b[0;34m\u001b[0m\u001b[0m\n\u001b[1;32m   2674\u001b[0m         \u001b[0;32melse\u001b[0m\u001b[0;34m:\u001b[0m\u001b[0;34m\u001b[0m\u001b[0;34m\u001b[0m\u001b[0m\n\u001b[0;32m-> 2675\u001b[0;31m             \u001b[0mfetched\u001b[0m \u001b[0;34m=\u001b[0m \u001b[0mself\u001b[0m\u001b[0;34m.\u001b[0m\u001b[0m_callable_fn\u001b[0m\u001b[0;34m(\u001b[0m\u001b[0;34m*\u001b[0m\u001b[0marray_vals\u001b[0m\u001b[0;34m)\u001b[0m\u001b[0;34m\u001b[0m\u001b[0;34m\u001b[0m\u001b[0m\n\u001b[0m\u001b[1;32m   2676\u001b[0m         \u001b[0;32mreturn\u001b[0m \u001b[0mfetched\u001b[0m\u001b[0;34m[\u001b[0m\u001b[0;34m:\u001b[0m\u001b[0mlen\u001b[0m\u001b[0;34m(\u001b[0m\u001b[0mself\u001b[0m\u001b[0;34m.\u001b[0m\u001b[0moutputs\u001b[0m\u001b[0;34m)\u001b[0m\u001b[0;34m]\u001b[0m\u001b[0;34m\u001b[0m\u001b[0;34m\u001b[0m\u001b[0m\n\u001b[1;32m   2677\u001b[0m \u001b[0;34m\u001b[0m\u001b[0m\n",
            "\u001b[0;32m/usr/local/lib/python3.6/dist-packages/tensorflow/python/client/session.py\u001b[0m in \u001b[0;36m__call__\u001b[0;34m(self, *args, **kwargs)\u001b[0m\n\u001b[1;32m   1437\u001b[0m           ret = tf_session.TF_SessionRunCallable(\n\u001b[1;32m   1438\u001b[0m               \u001b[0mself\u001b[0m\u001b[0;34m.\u001b[0m\u001b[0m_session\u001b[0m\u001b[0;34m.\u001b[0m\u001b[0m_session\u001b[0m\u001b[0;34m,\u001b[0m \u001b[0mself\u001b[0m\u001b[0;34m.\u001b[0m\u001b[0m_handle\u001b[0m\u001b[0;34m,\u001b[0m \u001b[0margs\u001b[0m\u001b[0;34m,\u001b[0m \u001b[0mstatus\u001b[0m\u001b[0;34m,\u001b[0m\u001b[0;34m\u001b[0m\u001b[0;34m\u001b[0m\u001b[0m\n\u001b[0;32m-> 1439\u001b[0;31m               run_metadata_ptr)\n\u001b[0m\u001b[1;32m   1440\u001b[0m         \u001b[0;32mif\u001b[0m \u001b[0mrun_metadata\u001b[0m\u001b[0;34m:\u001b[0m\u001b[0;34m\u001b[0m\u001b[0;34m\u001b[0m\u001b[0m\n\u001b[1;32m   1441\u001b[0m           \u001b[0mproto_data\u001b[0m \u001b[0;34m=\u001b[0m \u001b[0mtf_session\u001b[0m\u001b[0;34m.\u001b[0m\u001b[0mTF_GetBuffer\u001b[0m\u001b[0;34m(\u001b[0m\u001b[0mrun_metadata_ptr\u001b[0m\u001b[0;34m)\u001b[0m\u001b[0;34m\u001b[0m\u001b[0;34m\u001b[0m\u001b[0m\n",
            "\u001b[0;31mKeyboardInterrupt\u001b[0m: "
          ]
        }
      ]
    },
    {
      "cell_type": "code",
      "metadata": {
        "id": "povIGISPAbij",
        "colab_type": "code",
        "outputId": "bd2ee275-f2c5-4be2-a0e2-1be596b39355",
        "colab": {
          "base_uri": "https://localhost:8080/",
          "height": 1056
        }
      },
      "source": [
        "callbacks_list = [\n",
        "    keras.callbacks.ReduceLROnPlateau(\n",
        "    monitor='val_loss',\n",
        "    factor=0.0001,\n",
        "    patience=1,\n",
        "    verbose = 1\n",
        "    )\n",
        "]\n",
        "model.fit(X, y, batch_size=2048 * 8, epochs=15, verbose=1, validation_split=0.01, shuffle=True, callbacks=callbacks_list)"
      ],
      "execution_count": 0,
      "outputs": [
        {
          "output_type": "stream",
          "text": [
            "Train on 5049512 samples, validate on 51006 samples\n",
            "Epoch 1/15\n",
            "5049512/5049512 [==============================] - 152s 30us/step - loss: 6.3488 - sparse_categorical_accuracy: 0.0517 - val_loss: 6.5940 - val_sparse_categorical_accuracy: 0.0485\n",
            "Epoch 2/15\n",
            "5049512/5049512 [==============================] - 152s 30us/step - loss: 6.3488 - sparse_categorical_accuracy: 0.0519 - val_loss: 6.5940 - val_sparse_categorical_accuracy: 0.0485\n",
            "\n",
            "Epoch 00002: ReduceLROnPlateau reducing learning rate to 9.999999939225291e-13.\n",
            "Epoch 3/15\n",
            "5049512/5049512 [==============================] - 151s 30us/step - loss: 6.3491 - sparse_categorical_accuracy: 0.0517 - val_loss: 6.5940 - val_sparse_categorical_accuracy: 0.0485\n",
            "\n",
            "Epoch 00003: ReduceLROnPlateau reducing learning rate to 9.999999960041973e-17.\n",
            "Epoch 4/15\n",
            "4505600/5049512 [=========================>....] - ETA: 16s - loss: 6.3493 - sparse_categorical_accuracy: 0.0518"
          ],
          "name": "stdout"
        },
        {
          "output_type": "error",
          "ename": "KeyboardInterrupt",
          "evalue": "ignored",
          "traceback": [
            "\u001b[0;31m---------------------------------------------------------------------------\u001b[0m",
            "\u001b[0;31mKeyboardInterrupt\u001b[0m                         Traceback (most recent call last)",
            "\u001b[0;32m<ipython-input-204-f1f9c185a2bb>\u001b[0m in \u001b[0;36m<module>\u001b[0;34m()\u001b[0m\n\u001b[1;32m      7\u001b[0m     )\n\u001b[1;32m      8\u001b[0m ]\n\u001b[0;32m----> 9\u001b[0;31m \u001b[0mmodel\u001b[0m\u001b[0;34m.\u001b[0m\u001b[0mfit\u001b[0m\u001b[0;34m(\u001b[0m\u001b[0mX\u001b[0m\u001b[0;34m,\u001b[0m \u001b[0my\u001b[0m\u001b[0;34m,\u001b[0m \u001b[0mbatch_size\u001b[0m\u001b[0;34m=\u001b[0m\u001b[0;36m2048\u001b[0m \u001b[0;34m*\u001b[0m \u001b[0;36m8\u001b[0m\u001b[0;34m,\u001b[0m \u001b[0mepochs\u001b[0m\u001b[0;34m=\u001b[0m\u001b[0;36m15\u001b[0m\u001b[0;34m,\u001b[0m \u001b[0mverbose\u001b[0m\u001b[0;34m=\u001b[0m\u001b[0;36m1\u001b[0m\u001b[0;34m,\u001b[0m \u001b[0mvalidation_split\u001b[0m\u001b[0;34m=\u001b[0m\u001b[0;36m0.01\u001b[0m\u001b[0;34m,\u001b[0m \u001b[0mshuffle\u001b[0m\u001b[0;34m=\u001b[0m\u001b[0;32mTrue\u001b[0m\u001b[0;34m,\u001b[0m \u001b[0mcallbacks\u001b[0m\u001b[0;34m=\u001b[0m\u001b[0mcallbacks_list\u001b[0m\u001b[0;34m)\u001b[0m\u001b[0;34m\u001b[0m\u001b[0;34m\u001b[0m\u001b[0m\n\u001b[0m",
            "\u001b[0;32m/usr/local/lib/python3.6/dist-packages/keras/engine/training.py\u001b[0m in \u001b[0;36mfit\u001b[0;34m(self, x, y, batch_size, epochs, verbose, callbacks, validation_split, validation_data, shuffle, class_weight, sample_weight, initial_epoch, steps_per_epoch, validation_steps, **kwargs)\u001b[0m\n\u001b[1;32m   1037\u001b[0m                                         \u001b[0minitial_epoch\u001b[0m\u001b[0;34m=\u001b[0m\u001b[0minitial_epoch\u001b[0m\u001b[0;34m,\u001b[0m\u001b[0;34m\u001b[0m\u001b[0;34m\u001b[0m\u001b[0m\n\u001b[1;32m   1038\u001b[0m                                         \u001b[0msteps_per_epoch\u001b[0m\u001b[0;34m=\u001b[0m\u001b[0msteps_per_epoch\u001b[0m\u001b[0;34m,\u001b[0m\u001b[0;34m\u001b[0m\u001b[0;34m\u001b[0m\u001b[0m\n\u001b[0;32m-> 1039\u001b[0;31m                                         validation_steps=validation_steps)\n\u001b[0m\u001b[1;32m   1040\u001b[0m \u001b[0;34m\u001b[0m\u001b[0m\n\u001b[1;32m   1041\u001b[0m     def evaluate(self, x=None, y=None,\n",
            "\u001b[0;32m/usr/local/lib/python3.6/dist-packages/keras/engine/training_arrays.py\u001b[0m in \u001b[0;36mfit_loop\u001b[0;34m(model, f, ins, out_labels, batch_size, epochs, verbose, callbacks, val_f, val_ins, shuffle, callback_metrics, initial_epoch, steps_per_epoch, validation_steps)\u001b[0m\n\u001b[1;32m    197\u001b[0m                     \u001b[0mins_batch\u001b[0m\u001b[0;34m[\u001b[0m\u001b[0mi\u001b[0m\u001b[0;34m]\u001b[0m \u001b[0;34m=\u001b[0m \u001b[0mins_batch\u001b[0m\u001b[0;34m[\u001b[0m\u001b[0mi\u001b[0m\u001b[0;34m]\u001b[0m\u001b[0;34m.\u001b[0m\u001b[0mtoarray\u001b[0m\u001b[0;34m(\u001b[0m\u001b[0;34m)\u001b[0m\u001b[0;34m\u001b[0m\u001b[0;34m\u001b[0m\u001b[0m\n\u001b[1;32m    198\u001b[0m \u001b[0;34m\u001b[0m\u001b[0m\n\u001b[0;32m--> 199\u001b[0;31m                 \u001b[0mouts\u001b[0m \u001b[0;34m=\u001b[0m \u001b[0mf\u001b[0m\u001b[0;34m(\u001b[0m\u001b[0mins_batch\u001b[0m\u001b[0;34m)\u001b[0m\u001b[0;34m\u001b[0m\u001b[0;34m\u001b[0m\u001b[0m\n\u001b[0m\u001b[1;32m    200\u001b[0m                 \u001b[0mouts\u001b[0m \u001b[0;34m=\u001b[0m \u001b[0mto_list\u001b[0m\u001b[0;34m(\u001b[0m\u001b[0mouts\u001b[0m\u001b[0;34m)\u001b[0m\u001b[0;34m\u001b[0m\u001b[0;34m\u001b[0m\u001b[0m\n\u001b[1;32m    201\u001b[0m                 \u001b[0;32mfor\u001b[0m \u001b[0ml\u001b[0m\u001b[0;34m,\u001b[0m \u001b[0mo\u001b[0m \u001b[0;32min\u001b[0m \u001b[0mzip\u001b[0m\u001b[0;34m(\u001b[0m\u001b[0mout_labels\u001b[0m\u001b[0;34m,\u001b[0m \u001b[0mouts\u001b[0m\u001b[0;34m)\u001b[0m\u001b[0;34m:\u001b[0m\u001b[0;34m\u001b[0m\u001b[0;34m\u001b[0m\u001b[0m\n",
            "\u001b[0;32m/usr/local/lib/python3.6/dist-packages/keras/backend/tensorflow_backend.py\u001b[0m in \u001b[0;36m__call__\u001b[0;34m(self, inputs)\u001b[0m\n\u001b[1;32m   2713\u001b[0m                 \u001b[0;32mreturn\u001b[0m \u001b[0mself\u001b[0m\u001b[0;34m.\u001b[0m\u001b[0m_legacy_call\u001b[0m\u001b[0;34m(\u001b[0m\u001b[0minputs\u001b[0m\u001b[0;34m)\u001b[0m\u001b[0;34m\u001b[0m\u001b[0;34m\u001b[0m\u001b[0m\n\u001b[1;32m   2714\u001b[0m \u001b[0;34m\u001b[0m\u001b[0m\n\u001b[0;32m-> 2715\u001b[0;31m             \u001b[0;32mreturn\u001b[0m \u001b[0mself\u001b[0m\u001b[0;34m.\u001b[0m\u001b[0m_call\u001b[0m\u001b[0;34m(\u001b[0m\u001b[0minputs\u001b[0m\u001b[0;34m)\u001b[0m\u001b[0;34m\u001b[0m\u001b[0;34m\u001b[0m\u001b[0m\n\u001b[0m\u001b[1;32m   2716\u001b[0m         \u001b[0;32melse\u001b[0m\u001b[0;34m:\u001b[0m\u001b[0;34m\u001b[0m\u001b[0;34m\u001b[0m\u001b[0m\n\u001b[1;32m   2717\u001b[0m             \u001b[0;32mif\u001b[0m \u001b[0mpy_any\u001b[0m\u001b[0;34m(\u001b[0m\u001b[0mis_tensor\u001b[0m\u001b[0;34m(\u001b[0m\u001b[0mx\u001b[0m\u001b[0;34m)\u001b[0m \u001b[0;32mfor\u001b[0m \u001b[0mx\u001b[0m \u001b[0;32min\u001b[0m \u001b[0minputs\u001b[0m\u001b[0;34m)\u001b[0m\u001b[0;34m:\u001b[0m\u001b[0;34m\u001b[0m\u001b[0;34m\u001b[0m\u001b[0m\n",
            "\u001b[0;32m/usr/local/lib/python3.6/dist-packages/keras/backend/tensorflow_backend.py\u001b[0m in \u001b[0;36m_call\u001b[0;34m(self, inputs)\u001b[0m\n\u001b[1;32m   2673\u001b[0m             \u001b[0mfetched\u001b[0m \u001b[0;34m=\u001b[0m \u001b[0mself\u001b[0m\u001b[0;34m.\u001b[0m\u001b[0m_callable_fn\u001b[0m\u001b[0;34m(\u001b[0m\u001b[0;34m*\u001b[0m\u001b[0marray_vals\u001b[0m\u001b[0;34m,\u001b[0m \u001b[0mrun_metadata\u001b[0m\u001b[0;34m=\u001b[0m\u001b[0mself\u001b[0m\u001b[0;34m.\u001b[0m\u001b[0mrun_metadata\u001b[0m\u001b[0;34m)\u001b[0m\u001b[0;34m\u001b[0m\u001b[0;34m\u001b[0m\u001b[0m\n\u001b[1;32m   2674\u001b[0m         \u001b[0;32melse\u001b[0m\u001b[0;34m:\u001b[0m\u001b[0;34m\u001b[0m\u001b[0;34m\u001b[0m\u001b[0m\n\u001b[0;32m-> 2675\u001b[0;31m             \u001b[0mfetched\u001b[0m \u001b[0;34m=\u001b[0m \u001b[0mself\u001b[0m\u001b[0;34m.\u001b[0m\u001b[0m_callable_fn\u001b[0m\u001b[0;34m(\u001b[0m\u001b[0;34m*\u001b[0m\u001b[0marray_vals\u001b[0m\u001b[0;34m)\u001b[0m\u001b[0;34m\u001b[0m\u001b[0;34m\u001b[0m\u001b[0m\n\u001b[0m\u001b[1;32m   2676\u001b[0m         \u001b[0;32mreturn\u001b[0m \u001b[0mfetched\u001b[0m\u001b[0;34m[\u001b[0m\u001b[0;34m:\u001b[0m\u001b[0mlen\u001b[0m\u001b[0;34m(\u001b[0m\u001b[0mself\u001b[0m\u001b[0;34m.\u001b[0m\u001b[0moutputs\u001b[0m\u001b[0;34m)\u001b[0m\u001b[0;34m]\u001b[0m\u001b[0;34m\u001b[0m\u001b[0;34m\u001b[0m\u001b[0m\n\u001b[1;32m   2677\u001b[0m \u001b[0;34m\u001b[0m\u001b[0m\n",
            "\u001b[0;32m/usr/local/lib/python3.6/dist-packages/tensorflow/python/client/session.py\u001b[0m in \u001b[0;36m__call__\u001b[0;34m(self, *args, **kwargs)\u001b[0m\n\u001b[1;32m   1437\u001b[0m           ret = tf_session.TF_SessionRunCallable(\n\u001b[1;32m   1438\u001b[0m               \u001b[0mself\u001b[0m\u001b[0;34m.\u001b[0m\u001b[0m_session\u001b[0m\u001b[0;34m.\u001b[0m\u001b[0m_session\u001b[0m\u001b[0;34m,\u001b[0m \u001b[0mself\u001b[0m\u001b[0;34m.\u001b[0m\u001b[0m_handle\u001b[0m\u001b[0;34m,\u001b[0m \u001b[0margs\u001b[0m\u001b[0;34m,\u001b[0m \u001b[0mstatus\u001b[0m\u001b[0;34m,\u001b[0m\u001b[0;34m\u001b[0m\u001b[0;34m\u001b[0m\u001b[0m\n\u001b[0;32m-> 1439\u001b[0;31m               run_metadata_ptr)\n\u001b[0m\u001b[1;32m   1440\u001b[0m         \u001b[0;32mif\u001b[0m \u001b[0mrun_metadata\u001b[0m\u001b[0;34m:\u001b[0m\u001b[0;34m\u001b[0m\u001b[0;34m\u001b[0m\u001b[0m\n\u001b[1;32m   1441\u001b[0m           \u001b[0mproto_data\u001b[0m \u001b[0;34m=\u001b[0m \u001b[0mtf_session\u001b[0m\u001b[0;34m.\u001b[0m\u001b[0mTF_GetBuffer\u001b[0m\u001b[0;34m(\u001b[0m\u001b[0mrun_metadata_ptr\u001b[0m\u001b[0;34m)\u001b[0m\u001b[0;34m\u001b[0m\u001b[0;34m\u001b[0m\u001b[0m\n",
            "\u001b[0;31mKeyboardInterrupt\u001b[0m: "
          ]
        }
      ]
    },
    {
      "cell_type": "code",
      "metadata": {
        "id": "vvgdiF5GqD_r",
        "colab_type": "code",
        "outputId": "f262d909-5cb6-4414-9132-6b33db6a25ea",
        "colab": {
          "base_uri": "https://localhost:8080/",
          "height": 34
        }
      },
      "source": [
        "save_model(model, 'cudnngru_maxpoll_with_lr_048acc_val' , '')"
      ],
      "execution_count": 0,
      "outputs": [
        {
          "output_type": "stream",
          "text": [
            "Saved model to disk\n"
          ],
          "name": "stdout"
        }
      ]
    },
    {
      "cell_type": "code",
      "metadata": {
        "id": "zszXYrxMH5ui",
        "colab_type": "code",
        "colab": {}
      },
      "source": [
        ""
      ],
      "execution_count": 0,
      "outputs": []
    },
    {
      "cell_type": "code",
      "metadata": {
        "id": "kREpG_TULRON",
        "colab_type": "code",
        "colab": {}
      },
      "source": [
        "#model = lstm129()\n",
        "#model.load_weights('model128.json')\n",
        "\n",
        "sequences_test = sequences2use.apply(lambda x: x[-maxlen:])\n",
        "sequences_test = sequences_test.apply(lambda x: [0 for i in range(maxlen - len(x))] + x)\n",
        "test_users_in_sequences = sorted(set(sequences_test.index) & set(test_users))\n",
        "X_test = np.array(sequences_test[test_users_in_sequences].tolist())"
      ],
      "execution_count": 0,
      "outputs": []
    },
    {
      "cell_type": "code",
      "metadata": {
        "id": "RvlAPBxXLU3O",
        "colab_type": "code",
        "outputId": "c39a3369-d82c-4eff-ba07-f5f9414bc599",
        "colab": {
          "base_uri": "https://localhost:8080/",
          "height": 69
        }
      },
      "source": [
        "%%time\n",
        "from itertools import chain\n",
        "batch_size = 2048\n",
        "n_batches = int(X_test.shape[0]/batch_size) + 1\n",
        "preds = []\n",
        "\n",
        "for batch_ind in tqdm.tqdm(range(n_batches)):\n",
        "    batch = X_test[batch_ind*batch_size: (batch_ind + 1)*batch_size]\n",
        "    curr_preds = model.predict(batch)\n",
        "    curr_preds = np.argsort(-curr_preds)[:, :20]\n",
        "    curr_preds = [[cat_to_element_uid[x] for x in row] for row in curr_preds]\n",
        "    preds.append([' '.join(map(lambda x: str(x), row)) for row in curr_preds])\n",
        "    \n",
        "preds = list(chain(*preds))"
      ],
      "execution_count": 0,
      "outputs": [
        {
          "output_type": "stream",
          "text": [
            "100%|██████████| 16/16 [00:25<00:00,  1.29s/it]"
          ],
          "name": "stderr"
        },
        {
          "output_type": "stream",
          "text": [
            "CPU times: user 26.1 s, sys: 283 ms, total: 26.3 s\n",
            "Wall time: 25.8 s\n"
          ],
          "name": "stdout"
        },
        {
          "output_type": "stream",
          "text": [
            "\n"
          ],
          "name": "stderr"
        }
      ]
    },
    {
      "cell_type": "code",
      "metadata": {
        "id": "LOTFnTh2iSzf",
        "colab_type": "code",
        "outputId": "87047fe4-1e25-4d7f-cca3-6899cf51f58c",
        "colab": {
          "base_uri": "https://localhost:8080/",
          "height": 34
        }
      },
      "source": [
        "len(test_users_in_sequences)"
      ],
      "execution_count": 0,
      "outputs": [
        {
          "output_type": "execute_result",
          "data": {
            "text/plain": [
              "31461"
            ]
          },
          "metadata": {
            "tags": []
          },
          "execution_count": 196
        }
      ]
    },
    {
      "cell_type": "code",
      "metadata": {
        "id": "WKVov1PsLXZW",
        "colab_type": "code",
        "colab": {}
      },
      "source": [
        "top_20_videos = [2714, 747, 2639, 3783, 2245, 6127, 10061, 3916,\n",
        "                 8771, 3336, 7079, 3567, 6195, 4141, 1016,\n",
        "                 7185, 1004, 9467, 72, 1521]\n",
        "\n",
        "sam_sub = dict()\n",
        "for el in test_users_in_sequences:\n",
        "    sam_sub[el] = top_20_videos"
      ],
      "execution_count": 0,
      "outputs": []
    },
    {
      "cell_type": "code",
      "metadata": {
        "id": "m7v5ookQLZMy",
        "colab_type": "code",
        "colab": {}
      },
      "source": [
        "keys = [int(x) for x in sam_sub.keys()]\n",
        "df = pd.DataFrame(keys,columns=['userID'])\n",
        "df['itemID'] = df.apply(lambda x: sam_sub[x[0]],axis=1)"
      ],
      "execution_count": 0,
      "outputs": []
    },
    {
      "cell_type": "code",
      "metadata": {
        "id": "d05lh-SPLc5E",
        "colab_type": "code",
        "outputId": "df795225-1071-4b60-dcca-9acaf2a8eb0a",
        "colab": {
          "base_uri": "https://localhost:8080/",
          "height": 104
        }
      },
      "source": [
        "df.index = df.userID\n",
        "df.itemID[test_users_in_sequences] = preds"
      ],
      "execution_count": 0,
      "outputs": [
        {
          "output_type": "stream",
          "text": [
            "/usr/local/lib/python3.6/dist-packages/ipykernel_launcher.py:2: SettingWithCopyWarning: \n",
            "A value is trying to be set on a copy of a slice from a DataFrame\n",
            "\n",
            "See the caveats in the documentation: http://pandas.pydata.org/pandas-docs/stable/indexing.html#indexing-view-versus-copy\n",
            "  \n"
          ],
          "name": "stderr"
        }
      ]
    },
    {
      "cell_type": "code",
      "metadata": {
        "id": "U68MFoYRLBIs",
        "colab_type": "code",
        "colab": {}
      },
      "source": [
        "ans = {}\n",
        "for el, el1 in df.values:\n",
        "    try:\n",
        "        el1 = el1.split(' ')\n",
        "        for i in range(len(el1)):\n",
        "            el1[i] = int(el1[i])\n",
        "        ans[str(el)]= el1\n",
        "    except:\n",
        "        ans[str(el)] = el1\n",
        "    \n",
        "with open(os.path.join(DATA_PATH, 'nn_048_val_acc.json'), 'w') as f:\n",
        "    json.dump(ans, f)"
      ],
      "execution_count": 0,
      "outputs": []
    },
    {
      "cell_type": "code",
      "metadata": {
        "id": "zOoquR7XMlsj",
        "colab_type": "code",
        "colab": {}
      },
      "source": [
        "# Предсказывает ли сетка одинаковые фильмы для одного и того же пользователя?\n",
        "with open(os.path.join(DATA_PATH, 'nn_048_val_acc.json'), 'r') as f:\n",
        "    data = json.load(f)\n",
        "for key, i in data.items():\n",
        "  if len(np.unique(i)) < len(i):\n",
        "    print('Предсказывает одинаковые')\n",
        "    print(i)\n",
        "    break"
      ],
      "execution_count": 0,
      "outputs": []
    },
    {
      "cell_type": "code",
      "metadata": {
        "id": "44LLDux-WRsP",
        "colab_type": "code",
        "colab": {}
      },
      "source": [
        "# основная функция для валидации модели\n",
        "def validation(dict_, file_name):\n",
        "  d1 = {}\n",
        "  with open(os.path.join(DATA_PATH, file_name), 'r') as f:\n",
        "    d1 = json.load(f)\n",
        "  av = []\n",
        "\n",
        "\n",
        "  for key in d1.keys():\n",
        "      if key in dict_.keys():\n",
        "          ar1 = np.array(d1[str(key)])\n",
        "         # print(ar1)\n",
        "          ar2 = np.array(dict_[str(key)])\n",
        "          inter = np.intersect1d(ar1,ar2)\n",
        "          av.append(len(inter))\n",
        "          to_add = []\n",
        "          for el in ar1:\n",
        "              if el  in inter:\n",
        "                  to_add.append(el)\n",
        "          for el in ar1:\n",
        "              if el  not in to_add:\n",
        "                  to_add.append(el)\n",
        "\n",
        "\n",
        "          to_add = np.array(to_add)\n",
        "  return np.mean(av),np.var(av)\n",
        "\n",
        "def shuffle(dict_):\n",
        "  d = {}\n",
        "  d1 = {}\n",
        "  with open(DATA_PATH+'my_best.json', 'r') as f:\n",
        "    d1 = json.load(f)\n",
        "  \n",
        "  for key in dict_.keys():\n",
        "    if key in d1.keys():\n",
        "      ar1 = np.array(dict_[key])\n",
        "       # print(ar1)\n",
        "      ar2 = np.array(d1[key])\n",
        "      inter = np.intersect1d(ar1,ar2)\n",
        "\n",
        "      to_add = []\n",
        "      for el in ar1:\n",
        "        if el  in inter:\n",
        "          to_add.append(el)\n",
        "      for el in ar1:\n",
        "        if el  not in to_add:\n",
        "          to_add.append(el)\n",
        "        \n",
        "        \n",
        "      to_add = np.array(to_add)\n",
        "        \n",
        "      d[key] = list(map(int,list(to_add)))\n",
        "\n",
        "    else:\n",
        "      d[key] = dict_[key]\n",
        "  for key in d1.keys():\n",
        "    if key not in d.keys():\n",
        "      d[key] = d1[key]\n",
        "      \n",
        "  return d\n",
        "       \n"
      ],
      "execution_count": 0,
      "outputs": []
    },
    {
      "cell_type": "code",
      "metadata": {
        "id": "1Jeb7YjjW6q3",
        "colab_type": "code",
        "outputId": "3bf04694-7d54-40de-87ae-9fa48be5f451",
        "colab": {
          "base_uri": "https://localhost:8080/",
          "height": 34
        }
      },
      "source": [
        "validation(data, \"blend.json\")"
      ],
      "execution_count": 0,
      "outputs": [
        {
          "output_type": "execute_result",
          "data": {
            "text/plain": [
              "(8.428907466861629, 6.130193316686355)"
            ]
          },
          "metadata": {
            "tags": []
          },
          "execution_count": 203
        }
      ]
    },
    {
      "cell_type": "code",
      "metadata": {
        "id": "4jMtiiB0WSqr",
        "colab_type": "code",
        "colab": {}
      },
      "source": [
        ""
      ],
      "execution_count": 0,
      "outputs": []
    }
  ]
}